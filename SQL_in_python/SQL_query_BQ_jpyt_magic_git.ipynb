{
  "nbformat": 4,
  "nbformat_minor": 0,
  "metadata": {
    "kernelspec": {
      "display_name": "Python 3",
      "language": "python",
      "name": "python3"
    },
    "language_info": {
      "codemirror_mode": {
        "name": "ipython",
        "version": 3
      },
      "file_extension": ".py",
      "mimetype": "text/x-python",
      "name": "python",
      "nbconvert_exporter": "python",
      "pygments_lexer": "ipython3",
      "version": "3.6.7"
    },
    "colab": {
      "name": "SQL_query_BQ_jpyt_magic_git.ipynb",
      "provenance": [],
      "collapsed_sections": [],
      "toc_visible": true
    }
  },
  "cells": [
    {
      "cell_type": "markdown",
      "metadata": {
        "id": "J2gmcbySKlqi",
        "colab_type": "text"
      },
      "source": [
        "\n",
        "#**Here, my friend, is some simple example of basic SQL query with magic**   \n",
        "\n",
        "This is a practice of some basic SQL commands on BigQuey with magic in jupyter notebook."
      ]
    },
    {
      "cell_type": "code",
      "metadata": {
        "id": "FWYfexdESEL0",
        "colab_type": "code",
        "outputId": "3ca4170e-6827-440c-af16-3cae3602bba4",
        "colab": {
          "base_uri": "https://localhost:8080/",
          "height": 34
        }
      },
      "source": [
        "# in colab\n",
        "\n",
        "from google.colab import auth\n",
        "\n",
        "auth.authenticate_user()\n",
        "print('Authenticated')"
      ],
      "execution_count": 0,
      "outputs": [
        {
          "output_type": "stream",
          "text": [
            "Authenticated\n"
          ],
          "name": "stdout"
        }
      ]
    },
    {
      "cell_type": "markdown",
      "metadata": {
        "colab_type": "text",
        "id": "2G5Z2YQd2yim"
      },
      "source": [
        "## Exploring dataset and tables\n"
      ]
    },
    {
      "cell_type": "code",
      "metadata": {
        "id": "ukm9QS-s4BbL",
        "colab_type": "code",
        "colab": {}
      },
      "source": [
        "%%bigquery --project sql-python\n",
        "\n",
        "SELECT\n",
        " * EXCEPT(schema_owner)\n",
        "FROM\n",
        " INFORMATION_SCHEMA.SCHEMATA"
      ],
      "execution_count": 0,
      "outputs": []
    },
    {
      "cell_type": "code",
      "metadata": {
        "id": "S5Lr5lfXCC45",
        "colab_type": "code",
        "colab": {}
      },
      "source": [
        "%%bigquery --project sql-python\n",
        "\n",
        "SELECT\n",
        "  * EXCEPT(is_typed)\n",
        "FROM\n",
        "  kaggle_fifa19.INFORMATION_SCHEMA.TABLES"
      ],
      "execution_count": 0,
      "outputs": []
    },
    {
      "cell_type": "code",
      "metadata": {
        "id": "V8AEeh5WrA10",
        "colab_type": "code",
        "colab": {}
      },
      "source": [
        "%%bigquery --project sql-python\n",
        "\n",
        "SELECT\n",
        "  * EXCEPT(is_generated, generation_expression, is_stored, is_updatable)\n",
        "FROM\n",
        "  kaggle_fifa19.INFORMATION_SCHEMA.COLUMNS\n",
        "WHERE\n",
        "  table_name=\"data19_3\""
      ],
      "execution_count": 0,
      "outputs": []
    },
    {
      "cell_type": "code",
      "metadata": {
        "id": "RdisvqJnXUIj",
        "colab_type": "code",
        "colab": {}
      },
      "source": [
        "%%bigquery --project sql-python\n",
        "\n",
        "SELECT\n",
        "  *\n",
        "FROM\n",
        "  kaggle_fifa19.INFORMATION_SCHEMA.COLUMN_FIELD_PATHS\n",
        "WHERE\n",
        "  table_name=\"data19_3\"\n",
        "  AND column_name='Position'"
      ],
      "execution_count": 0,
      "outputs": []
    },
    {
      "cell_type": "markdown",
      "metadata": {
        "id": "-InpvkX7KDJe",
        "colab_type": "text"
      },
      "source": [
        "advanced example\n",
        "https://cloud.google.com/bigquery/docs/information-schema-tables"
      ]
    },
    {
      "cell_type": "code",
      "metadata": {
        "id": "-JXb56ByKCl8",
        "colab_type": "code",
        "colab": {}
      },
      "source": [
        "%%bigquery --project sql-python\n",
        "\n",
        "SELECT\n",
        "  * EXCEPT(is_generated, generation_expression, is_stored, is_updatable)\n",
        "FROM\n",
        "  kaggle_fifa19.INFORMATION_SCHEMA.COLUMNS\n",
        "WHERE\n",
        "  table_name=\"data19_basic\""
      ],
      "execution_count": 0,
      "outputs": []
    },
    {
      "cell_type": "code",
      "metadata": {
        "id": "fgEQUEa1IYTU",
        "colab_type": "code",
        "outputId": "0b7ef1d3-03af-4339-e4d1-4e57ba53bb47",
        "colab": {
          "base_uri": "https://localhost:8080/",
          "height": 566
        }
      },
      "source": [
        "%%bigquery --project sql-python\n",
        "\n",
        "SELECT *\n",
        "FROM kaggle_fifa19.data19_3\n",
        "ORDER BY ListID\n",
        "LIMIT 10 "
      ],
      "execution_count": 0,
      "outputs": [
        {
          "output_type": "execute_result",
          "data": {
            "text/html": [
              "<div>\n",
              "<style scoped>\n",
              "    .dataframe tbody tr th:only-of-type {\n",
              "        vertical-align: middle;\n",
              "    }\n",
              "\n",
              "    .dataframe tbody tr th {\n",
              "        vertical-align: top;\n",
              "    }\n",
              "\n",
              "    .dataframe thead th {\n",
              "        text-align: right;\n",
              "    }\n",
              "</style>\n",
              "<table border=\"1\" class=\"dataframe\">\n",
              "  <thead>\n",
              "    <tr style=\"text-align: right;\">\n",
              "      <th></th>\n",
              "      <th>ID</th>\n",
              "      <th>Name</th>\n",
              "      <th>Age</th>\n",
              "      <th>Nationality</th>\n",
              "      <th>Club</th>\n",
              "      <th>Preferred_Foot</th>\n",
              "      <th>Position</th>\n",
              "      <th>Jersey_Number</th>\n",
              "      <th>Joined</th>\n",
              "      <th>Contract_Valid_Until</th>\n",
              "      <th>Height_CM_</th>\n",
              "      <th>Weight_KG_</th>\n",
              "      <th>Value_EUR_</th>\n",
              "      <th>Wage_EUR_</th>\n",
              "      <th>Release_Clause_EUR_</th>\n",
              "      <th>ListID</th>\n",
              "    </tr>\n",
              "  </thead>\n",
              "  <tbody>\n",
              "    <tr>\n",
              "      <th>0</th>\n",
              "      <td>158023</td>\n",
              "      <td>L. Messi</td>\n",
              "      <td>31</td>\n",
              "      <td>Argentina</td>\n",
              "      <td>FC Barcelona</td>\n",
              "      <td>Left</td>\n",
              "      <td>RF</td>\n",
              "      <td>10.0</td>\n",
              "      <td>Jul 1, 2004</td>\n",
              "      <td>2021</td>\n",
              "      <td>170</td>\n",
              "      <td>72</td>\n",
              "      <td>110500000.0</td>\n",
              "      <td>565000000.0</td>\n",
              "      <td>226500000.0</td>\n",
              "      <td>1</td>\n",
              "    </tr>\n",
              "    <tr>\n",
              "      <th>1</th>\n",
              "      <td>20801</td>\n",
              "      <td>Cristiano Ronaldo</td>\n",
              "      <td>33</td>\n",
              "      <td>Portugal</td>\n",
              "      <td>Juventus</td>\n",
              "      <td>Right</td>\n",
              "      <td>ST</td>\n",
              "      <td>7.0</td>\n",
              "      <td>Jul 10, 2018</td>\n",
              "      <td>2022</td>\n",
              "      <td>188</td>\n",
              "      <td>83</td>\n",
              "      <td>77000000.0</td>\n",
              "      <td>405000000.0</td>\n",
              "      <td>127100000.0</td>\n",
              "      <td>2</td>\n",
              "    </tr>\n",
              "    <tr>\n",
              "      <th>2</th>\n",
              "      <td>190871</td>\n",
              "      <td>Neymar Jr</td>\n",
              "      <td>26</td>\n",
              "      <td>Brazil</td>\n",
              "      <td>Paris Saint-Germain</td>\n",
              "      <td>Right</td>\n",
              "      <td>LW</td>\n",
              "      <td>10.0</td>\n",
              "      <td>Aug 3, 2017</td>\n",
              "      <td>2022</td>\n",
              "      <td>175</td>\n",
              "      <td>68</td>\n",
              "      <td>118500000.0</td>\n",
              "      <td>290000000.0</td>\n",
              "      <td>228100000.0</td>\n",
              "      <td>3</td>\n",
              "    </tr>\n",
              "    <tr>\n",
              "      <th>3</th>\n",
              "      <td>193080</td>\n",
              "      <td>De Gea</td>\n",
              "      <td>27</td>\n",
              "      <td>Spain</td>\n",
              "      <td>Manchester United</td>\n",
              "      <td>Right</td>\n",
              "      <td>GK</td>\n",
              "      <td>1.0</td>\n",
              "      <td>Jul 1, 2011</td>\n",
              "      <td>2020</td>\n",
              "      <td>193</td>\n",
              "      <td>76</td>\n",
              "      <td>72000000.0</td>\n",
              "      <td>260000000.0</td>\n",
              "      <td>138600000.0</td>\n",
              "      <td>4</td>\n",
              "    </tr>\n",
              "    <tr>\n",
              "      <th>4</th>\n",
              "      <td>192985</td>\n",
              "      <td>K. De Bruyne</td>\n",
              "      <td>27</td>\n",
              "      <td>Belgium</td>\n",
              "      <td>Manchester City</td>\n",
              "      <td>Right</td>\n",
              "      <td>RCM</td>\n",
              "      <td>7.0</td>\n",
              "      <td>Aug 30, 2015</td>\n",
              "      <td>2023</td>\n",
              "      <td>180</td>\n",
              "      <td>70</td>\n",
              "      <td>102000000.0</td>\n",
              "      <td>355000000.0</td>\n",
              "      <td>196400000.0</td>\n",
              "      <td>5</td>\n",
              "    </tr>\n",
              "    <tr>\n",
              "      <th>5</th>\n",
              "      <td>183277</td>\n",
              "      <td>E. Hazard</td>\n",
              "      <td>27</td>\n",
              "      <td>Belgium</td>\n",
              "      <td>Chelsea</td>\n",
              "      <td>Right</td>\n",
              "      <td>LF</td>\n",
              "      <td>10.0</td>\n",
              "      <td>Jul 1, 2012</td>\n",
              "      <td>2020</td>\n",
              "      <td>173</td>\n",
              "      <td>74</td>\n",
              "      <td>93000000.0</td>\n",
              "      <td>340000000.0</td>\n",
              "      <td>172100000.0</td>\n",
              "      <td>6</td>\n",
              "    </tr>\n",
              "    <tr>\n",
              "      <th>6</th>\n",
              "      <td>177003</td>\n",
              "      <td>L. Modrić</td>\n",
              "      <td>32</td>\n",
              "      <td>Croatia</td>\n",
              "      <td>Real Madrid</td>\n",
              "      <td>Right</td>\n",
              "      <td>RCM</td>\n",
              "      <td>10.0</td>\n",
              "      <td>Aug 1, 2012</td>\n",
              "      <td>2020</td>\n",
              "      <td>173</td>\n",
              "      <td>66</td>\n",
              "      <td>67000000.0</td>\n",
              "      <td>420000000.0</td>\n",
              "      <td>137400000.0</td>\n",
              "      <td>7</td>\n",
              "    </tr>\n",
              "    <tr>\n",
              "      <th>7</th>\n",
              "      <td>176580</td>\n",
              "      <td>L. Suárez</td>\n",
              "      <td>31</td>\n",
              "      <td>Uruguay</td>\n",
              "      <td>FC Barcelona</td>\n",
              "      <td>Right</td>\n",
              "      <td>RS</td>\n",
              "      <td>9.0</td>\n",
              "      <td>Jul 11, 2014</td>\n",
              "      <td>2021</td>\n",
              "      <td>183</td>\n",
              "      <td>86</td>\n",
              "      <td>80000000.0</td>\n",
              "      <td>455000000.0</td>\n",
              "      <td>164000000.0</td>\n",
              "      <td>8</td>\n",
              "    </tr>\n",
              "    <tr>\n",
              "      <th>8</th>\n",
              "      <td>155862</td>\n",
              "      <td>Sergio Ramos</td>\n",
              "      <td>32</td>\n",
              "      <td>Spain</td>\n",
              "      <td>Real Madrid</td>\n",
              "      <td>Right</td>\n",
              "      <td>RCB</td>\n",
              "      <td>15.0</td>\n",
              "      <td>Aug 1, 2005</td>\n",
              "      <td>2020</td>\n",
              "      <td>183</td>\n",
              "      <td>82</td>\n",
              "      <td>51000000.0</td>\n",
              "      <td>380000000.0</td>\n",
              "      <td>104600000.0</td>\n",
              "      <td>9</td>\n",
              "    </tr>\n",
              "    <tr>\n",
              "      <th>9</th>\n",
              "      <td>200389</td>\n",
              "      <td>J. Oblak</td>\n",
              "      <td>25</td>\n",
              "      <td>Slovenia</td>\n",
              "      <td>Atlético Madrid</td>\n",
              "      <td>Right</td>\n",
              "      <td>GK</td>\n",
              "      <td>1.0</td>\n",
              "      <td>Jul 16, 2014</td>\n",
              "      <td>2021</td>\n",
              "      <td>188</td>\n",
              "      <td>87</td>\n",
              "      <td>68000000.0</td>\n",
              "      <td>94000000.0</td>\n",
              "      <td>144500000.0</td>\n",
              "      <td>10</td>\n",
              "    </tr>\n",
              "  </tbody>\n",
              "</table>\n",
              "</div>"
            ],
            "text/plain": [
              "       ID               Name  Age  ...    Wage_EUR_ Release_Clause_EUR_ ListID\n",
              "0  158023           L. Messi   31  ...  565000000.0         226500000.0      1\n",
              "1   20801  Cristiano Ronaldo   33  ...  405000000.0         127100000.0      2\n",
              "2  190871          Neymar Jr   26  ...  290000000.0         228100000.0      3\n",
              "3  193080             De Gea   27  ...  260000000.0         138600000.0      4\n",
              "4  192985       K. De Bruyne   27  ...  355000000.0         196400000.0      5\n",
              "5  183277          E. Hazard   27  ...  340000000.0         172100000.0      6\n",
              "6  177003          L. Modrić   32  ...  420000000.0         137400000.0      7\n",
              "7  176580          L. Suárez   31  ...  455000000.0         164000000.0      8\n",
              "8  155862       Sergio Ramos   32  ...  380000000.0         104600000.0      9\n",
              "9  200389           J. Oblak   25  ...   94000000.0         144500000.0     10\n",
              "\n",
              "[10 rows x 16 columns]"
            ]
          },
          "metadata": {
            "tags": []
          },
          "execution_count": 5
        }
      ]
    },
    {
      "cell_type": "markdown",
      "metadata": {
        "id": "soIR2icXoKOB",
        "colab_type": "text"
      },
      "source": [
        "## Creating an empty table"
      ]
    },
    {
      "cell_type": "code",
      "metadata": {
        "id": "Ixy4eHdp9Y8M",
        "colab_type": "code",
        "outputId": "a87f0b57-36fb-4aa8-cfbd-109e49a65dad",
        "colab": {
          "base_uri": "https://localhost:8080/",
          "height": 32
        }
      },
      "source": [
        "%%bigquery --project sql-python\n",
        "\n",
        "CREATE TABLE IF NOT EXISTS kaggle_fifa19.data19_bio (\n",
        "  ID  INT64,\n",
        "  Height INT64,\n",
        "  Weight INT64\n",
        ")\n",
        "OPTIONS(\n",
        "   expiration_timestamp=TIMESTAMP \"2020-12-01 00:00:00 UTC\",\n",
        "   description=\"Table for inner join\",\n",
        "   labels=[(\"org_unit\", \"development\")]\n",
        " )\n",
        "\n"
      ],
      "execution_count": 0,
      "outputs": [
        {
          "output_type": "execute_result",
          "data": {
            "text/html": [
              "<div>\n",
              "<style scoped>\n",
              "    .dataframe tbody tr th:only-of-type {\n",
              "        vertical-align: middle;\n",
              "    }\n",
              "\n",
              "    .dataframe tbody tr th {\n",
              "        vertical-align: top;\n",
              "    }\n",
              "\n",
              "    .dataframe thead th {\n",
              "        text-align: right;\n",
              "    }\n",
              "</style>\n",
              "<table border=\"1\" class=\"dataframe\">\n",
              "  <thead>\n",
              "    <tr style=\"text-align: right;\">\n",
              "      <th></th>\n",
              "    </tr>\n",
              "  </thead>\n",
              "  <tbody>\n",
              "  </tbody>\n",
              "</table>\n",
              "</div>"
            ],
            "text/plain": [
              "Empty DataFrame\n",
              "Columns: []\n",
              "Index: []"
            ]
          },
          "metadata": {
            "tags": []
          },
          "execution_count": 7
        }
      ]
    },
    {
      "cell_type": "markdown",
      "metadata": {
        "id": "z1qlGlQ8oT_v",
        "colab_type": "text"
      },
      "source": [
        "## Adding columns by replacing table\n",
        "No add column DDL in BQ"
      ]
    },
    {
      "cell_type": "code",
      "metadata": {
        "id": "T_OHdI6O6Ldj",
        "colab_type": "code",
        "outputId": "e2099f6a-675a-4f51-ea1e-ebfd10023aca",
        "colab": {
          "base_uri": "https://localhost:8080/",
          "height": 32
        }
      },
      "source": [
        "%%bigquery --project sql-python\n",
        "CREATE OR REPLACE TABLE kaggle_fifa19.data19_bio (\n",
        "  ID  INT64,\n",
        "  Name STRING,\n",
        "  Age INT64,\n",
        "  Height INT64,\n",
        "  Weight INT64\n",
        ");\n",
        "\n",
        "ALTER TABLE IF EXISTS kaggle_fifa19.data19_bio\n",
        "SET OPTIONS(description=\"Table for inner join\")"
      ],
      "execution_count": 0,
      "outputs": [
        {
          "output_type": "execute_result",
          "data": {
            "text/html": [
              "<div>\n",
              "<style scoped>\n",
              "    .dataframe tbody tr th:only-of-type {\n",
              "        vertical-align: middle;\n",
              "    }\n",
              "\n",
              "    .dataframe tbody tr th {\n",
              "        vertical-align: top;\n",
              "    }\n",
              "\n",
              "    .dataframe thead th {\n",
              "        text-align: right;\n",
              "    }\n",
              "</style>\n",
              "<table border=\"1\" class=\"dataframe\">\n",
              "  <thead>\n",
              "    <tr style=\"text-align: right;\">\n",
              "      <th></th>\n",
              "    </tr>\n",
              "  </thead>\n",
              "  <tbody>\n",
              "  </tbody>\n",
              "</table>\n",
              "</div>"
            ],
            "text/plain": [
              "Empty DataFrame\n",
              "Columns: []\n",
              "Index: []"
            ]
          },
          "metadata": {
            "tags": []
          },
          "execution_count": 13
        }
      ]
    },
    {
      "cell_type": "markdown",
      "metadata": {
        "id": "HVOZmeQFobye",
        "colab_type": "text"
      },
      "source": [
        "## Inserting and updating data manually"
      ]
    },
    {
      "cell_type": "code",
      "metadata": {
        "id": "wEB4wt013Js9",
        "colab_type": "code",
        "outputId": "52096670-221d-43bd-d836-3128e85416ce",
        "colab": {
          "base_uri": "https://localhost:8080/",
          "height": 111
        }
      },
      "source": [
        "%%bigquery --project sql-python\n",
        "\n",
        "INSERT kaggle_fifa19.data19_bio (ID, Name, Height, Weight, Age)\n",
        "VALUES(158023, \"L. Messi\", 170, 72, 31),\n",
        "      (20801,\t\"Cristiano Ronaldo\", 188, 83, 33);\n",
        "\n",
        "UPDATE kaggle_fifa19.data19_bio\n",
        "SET Name=\"C. Ronaldo\"\n",
        "WHERE Name like '%Ronaldo%';\n",
        "\n",
        "SELECT *\n",
        "FROM kaggle_fifa19.data19_bio"
      ],
      "execution_count": 0,
      "outputs": [
        {
          "output_type": "execute_result",
          "data": {
            "text/html": [
              "<div>\n",
              "<style scoped>\n",
              "    .dataframe tbody tr th:only-of-type {\n",
              "        vertical-align: middle;\n",
              "    }\n",
              "\n",
              "    .dataframe tbody tr th {\n",
              "        vertical-align: top;\n",
              "    }\n",
              "\n",
              "    .dataframe thead th {\n",
              "        text-align: right;\n",
              "    }\n",
              "</style>\n",
              "<table border=\"1\" class=\"dataframe\">\n",
              "  <thead>\n",
              "    <tr style=\"text-align: right;\">\n",
              "      <th></th>\n",
              "      <th>ID</th>\n",
              "      <th>Name</th>\n",
              "      <th>Age</th>\n",
              "      <th>Height</th>\n",
              "      <th>Weight</th>\n",
              "    </tr>\n",
              "  </thead>\n",
              "  <tbody>\n",
              "    <tr>\n",
              "      <th>0</th>\n",
              "      <td>158023</td>\n",
              "      <td>L. Messi</td>\n",
              "      <td>31</td>\n",
              "      <td>170</td>\n",
              "      <td>72</td>\n",
              "    </tr>\n",
              "    <tr>\n",
              "      <th>1</th>\n",
              "      <td>20801</td>\n",
              "      <td>C. Ronaldo</td>\n",
              "      <td>33</td>\n",
              "      <td>188</td>\n",
              "      <td>83</td>\n",
              "    </tr>\n",
              "  </tbody>\n",
              "</table>\n",
              "</div>"
            ],
            "text/plain": [
              "       ID        Name  Age  Height  Weight\n",
              "0  158023    L. Messi   31     170      72\n",
              "1   20801  C. Ronaldo   33     188      83"
            ]
          },
          "metadata": {
            "tags": []
          },
          "execution_count": 14
        }
      ]
    },
    {
      "cell_type": "code",
      "metadata": {
        "id": "VLjPwz9f65fS",
        "colab_type": "code",
        "outputId": "004cc2ce-08ba-4ffe-e83a-eb9c2581dc26",
        "colab": {
          "base_uri": "https://localhost:8080/",
          "height": 80
        }
      },
      "source": [
        "%%bigquery --project sql-python\n",
        "\n",
        "DELETE kaggle_fifa19.data19_bio\n",
        "WHERE ID=20801;\n",
        "\n",
        "SELECT *\n",
        "FROM kaggle_fifa19.data19_bio\n"
      ],
      "execution_count": 0,
      "outputs": [
        {
          "output_type": "execute_result",
          "data": {
            "text/html": [
              "<div>\n",
              "<style scoped>\n",
              "    .dataframe tbody tr th:only-of-type {\n",
              "        vertical-align: middle;\n",
              "    }\n",
              "\n",
              "    .dataframe tbody tr th {\n",
              "        vertical-align: top;\n",
              "    }\n",
              "\n",
              "    .dataframe thead th {\n",
              "        text-align: right;\n",
              "    }\n",
              "</style>\n",
              "<table border=\"1\" class=\"dataframe\">\n",
              "  <thead>\n",
              "    <tr style=\"text-align: right;\">\n",
              "      <th></th>\n",
              "      <th>ID</th>\n",
              "      <th>Name</th>\n",
              "      <th>Age</th>\n",
              "      <th>Height</th>\n",
              "      <th>Weight</th>\n",
              "    </tr>\n",
              "  </thead>\n",
              "  <tbody>\n",
              "    <tr>\n",
              "      <th>0</th>\n",
              "      <td>158023</td>\n",
              "      <td>L. Messi</td>\n",
              "      <td>31</td>\n",
              "      <td>170</td>\n",
              "      <td>72</td>\n",
              "    </tr>\n",
              "  </tbody>\n",
              "</table>\n",
              "</div>"
            ],
            "text/plain": [
              "       ID      Name  Age  Height  Weight\n",
              "0  158023  L. Messi   31     170      72"
            ]
          },
          "metadata": {
            "tags": []
          },
          "execution_count": 15
        }
      ]
    },
    {
      "cell_type": "markdown",
      "metadata": {
        "id": "v68YmwctooAG",
        "colab_type": "text"
      },
      "source": [
        "## Inserting data by copying from another table"
      ]
    },
    {
      "cell_type": "code",
      "metadata": {
        "id": "CLJtAz-CkvnS",
        "colab_type": "code",
        "outputId": "a3696ebc-0d39-487e-ef79-4cbcdeab33f0",
        "colab": {
          "base_uri": "https://localhost:8080/",
          "height": 419
        }
      },
      "source": [
        "%%bigquery --project sql-python\n",
        "\n",
        "INSERT INTO kaggle_fifa19.data19_bio#(ID, Name, Age, Height, Weight)\n",
        "\n",
        "SELECT ID, Name, Age, Height_CM_, Weight_KG_\n",
        "FROM kaggle_fifa19.data19_3\n",
        "ORDER BY ListID\n",
        "LIMIT 99 OFFSET 1;\n",
        "\n",
        "SELECT *\n",
        "FROM kaggle_fifa19.data19_bio"
      ],
      "execution_count": 0,
      "outputs": [
        {
          "output_type": "execute_result",
          "data": {
            "text/html": [
              "<div>\n",
              "<style scoped>\n",
              "    .dataframe tbody tr th:only-of-type {\n",
              "        vertical-align: middle;\n",
              "    }\n",
              "\n",
              "    .dataframe tbody tr th {\n",
              "        vertical-align: top;\n",
              "    }\n",
              "\n",
              "    .dataframe thead th {\n",
              "        text-align: right;\n",
              "    }\n",
              "</style>\n",
              "<table border=\"1\" class=\"dataframe\">\n",
              "  <thead>\n",
              "    <tr style=\"text-align: right;\">\n",
              "      <th></th>\n",
              "      <th>ID</th>\n",
              "      <th>Name</th>\n",
              "      <th>Age</th>\n",
              "      <th>Height</th>\n",
              "      <th>Weight</th>\n",
              "    </tr>\n",
              "  </thead>\n",
              "  <tbody>\n",
              "    <tr>\n",
              "      <th>0</th>\n",
              "      <td>158023</td>\n",
              "      <td>L. Messi</td>\n",
              "      <td>31</td>\n",
              "      <td>170</td>\n",
              "      <td>72</td>\n",
              "    </tr>\n",
              "    <tr>\n",
              "      <th>1</th>\n",
              "      <td>188545</td>\n",
              "      <td>R. Lewandowski</td>\n",
              "      <td>29</td>\n",
              "      <td>183</td>\n",
              "      <td>80</td>\n",
              "    </tr>\n",
              "    <tr>\n",
              "      <th>2</th>\n",
              "      <td>189511</td>\n",
              "      <td>Sergio Busquets</td>\n",
              "      <td>29</td>\n",
              "      <td>188</td>\n",
              "      <td>76</td>\n",
              "    </tr>\n",
              "    <tr>\n",
              "      <th>3</th>\n",
              "      <td>202652</td>\n",
              "      <td>R. Sterling</td>\n",
              "      <td>23</td>\n",
              "      <td>170</td>\n",
              "      <td>69</td>\n",
              "    </tr>\n",
              "    <tr>\n",
              "      <th>4</th>\n",
              "      <td>193747</td>\n",
              "      <td>Koke</td>\n",
              "      <td>26</td>\n",
              "      <td>175</td>\n",
              "      <td>74</td>\n",
              "    </tr>\n",
              "    <tr>\n",
              "      <th>...</th>\n",
              "      <td>...</td>\n",
              "      <td>...</td>\n",
              "      <td>...</td>\n",
              "      <td>...</td>\n",
              "      <td>...</td>\n",
              "    </tr>\n",
              "    <tr>\n",
              "      <th>95</th>\n",
              "      <td>162835</td>\n",
              "      <td>S. Handanovič</td>\n",
              "      <td>33</td>\n",
              "      <td>193</td>\n",
              "      <td>92</td>\n",
              "    </tr>\n",
              "    <tr>\n",
              "      <th>96</th>\n",
              "      <td>192387</td>\n",
              "      <td>C. Immobile</td>\n",
              "      <td>28</td>\n",
              "      <td>185</td>\n",
              "      <td>85</td>\n",
              "    </tr>\n",
              "    <tr>\n",
              "      <th>97</th>\n",
              "      <td>200389</td>\n",
              "      <td>J. Oblak</td>\n",
              "      <td>25</td>\n",
              "      <td>188</td>\n",
              "      <td>87</td>\n",
              "    </tr>\n",
              "    <tr>\n",
              "      <th>98</th>\n",
              "      <td>181872</td>\n",
              "      <td>A. Vidal</td>\n",
              "      <td>31</td>\n",
              "      <td>180</td>\n",
              "      <td>75</td>\n",
              "    </tr>\n",
              "    <tr>\n",
              "      <th>99</th>\n",
              "      <td>208421</td>\n",
              "      <td>Saúl</td>\n",
              "      <td>23</td>\n",
              "      <td>183</td>\n",
              "      <td>77</td>\n",
              "    </tr>\n",
              "  </tbody>\n",
              "</table>\n",
              "<p>100 rows × 5 columns</p>\n",
              "</div>"
            ],
            "text/plain": [
              "        ID             Name  Age  Height  Weight\n",
              "0   158023         L. Messi   31     170      72\n",
              "1   188545   R. Lewandowski   29     183      80\n",
              "2   189511  Sergio Busquets   29     188      76\n",
              "3   202652      R. Sterling   23     170      69\n",
              "4   193747             Koke   26     175      74\n",
              "..     ...              ...  ...     ...     ...\n",
              "95  162835    S. Handanovič   33     193      92\n",
              "96  192387      C. Immobile   28     185      85\n",
              "97  200389         J. Oblak   25     188      87\n",
              "98  181872         A. Vidal   31     180      75\n",
              "99  208421             Saúl   23     183      77\n",
              "\n",
              "[100 rows x 5 columns]"
            ]
          },
          "metadata": {
            "tags": []
          },
          "execution_count": 16
        }
      ]
    },
    {
      "cell_type": "markdown",
      "metadata": {
        "id": "-hiaW_HRU4hI",
        "colab_type": "text"
      },
      "source": [
        "## Replace existing table by copying data from another table \n",
        "and create Rank column from Wage, Vaule, and ID "
      ]
    },
    {
      "cell_type": "code",
      "metadata": {
        "id": "8pO3J4TLuZSJ",
        "colab_type": "code",
        "outputId": "dc27f3d4-8670-428c-ba49-e74e2ffd86ba",
        "colab": {
          "base_uri": "https://localhost:8080/",
          "height": 419
        }
      },
      "source": [
        "%%bigquery --project sql-python\n",
        "CREATE OR REPLACE TABLE kaggle_fifa19.data19_basic\n",
        " OPTIONS(\n",
        "   description=\"Top players basic info\"\n",
        " ) AS\n",
        "SELECT\n",
        "  ID, Name, Nationality, Club, Age, ListID\n",
        "FROM kaggle_fifa19.data19_3\n",
        "ORDER BY ListID\n",
        "LIMIT 100;\n",
        "\n",
        "SELECT *\n",
        "FROM kaggle_fifa19.data19_basic"
      ],
      "execution_count": 0,
      "outputs": [
        {
          "output_type": "execute_result",
          "data": {
            "text/html": [
              "<div>\n",
              "<style scoped>\n",
              "    .dataframe tbody tr th:only-of-type {\n",
              "        vertical-align: middle;\n",
              "    }\n",
              "\n",
              "    .dataframe tbody tr th {\n",
              "        vertical-align: top;\n",
              "    }\n",
              "\n",
              "    .dataframe thead th {\n",
              "        text-align: right;\n",
              "    }\n",
              "</style>\n",
              "<table border=\"1\" class=\"dataframe\">\n",
              "  <thead>\n",
              "    <tr style=\"text-align: right;\">\n",
              "      <th></th>\n",
              "      <th>ID</th>\n",
              "      <th>Name</th>\n",
              "      <th>Nationality</th>\n",
              "      <th>Club</th>\n",
              "      <th>Age</th>\n",
              "      <th>ListID</th>\n",
              "    </tr>\n",
              "  </thead>\n",
              "  <tbody>\n",
              "    <tr>\n",
              "      <th>0</th>\n",
              "      <td>158023</td>\n",
              "      <td>L. Messi</td>\n",
              "      <td>Argentina</td>\n",
              "      <td>FC Barcelona</td>\n",
              "      <td>31</td>\n",
              "      <td>1</td>\n",
              "    </tr>\n",
              "    <tr>\n",
              "      <th>1</th>\n",
              "      <td>20801</td>\n",
              "      <td>Cristiano Ronaldo</td>\n",
              "      <td>Portugal</td>\n",
              "      <td>Juventus</td>\n",
              "      <td>33</td>\n",
              "      <td>2</td>\n",
              "    </tr>\n",
              "    <tr>\n",
              "      <th>2</th>\n",
              "      <td>190871</td>\n",
              "      <td>Neymar Jr</td>\n",
              "      <td>Brazil</td>\n",
              "      <td>Paris Saint-Germain</td>\n",
              "      <td>26</td>\n",
              "      <td>3</td>\n",
              "    </tr>\n",
              "    <tr>\n",
              "      <th>3</th>\n",
              "      <td>193080</td>\n",
              "      <td>De Gea</td>\n",
              "      <td>Spain</td>\n",
              "      <td>Manchester United</td>\n",
              "      <td>27</td>\n",
              "      <td>4</td>\n",
              "    </tr>\n",
              "    <tr>\n",
              "      <th>4</th>\n",
              "      <td>192985</td>\n",
              "      <td>K. De Bruyne</td>\n",
              "      <td>Belgium</td>\n",
              "      <td>Manchester City</td>\n",
              "      <td>27</td>\n",
              "      <td>5</td>\n",
              "    </tr>\n",
              "    <tr>\n",
              "      <th>...</th>\n",
              "      <td>...</td>\n",
              "      <td>...</td>\n",
              "      <td>...</td>\n",
              "      <td>...</td>\n",
              "      <td>...</td>\n",
              "      <td>...</td>\n",
              "    </tr>\n",
              "    <tr>\n",
              "      <th>95</th>\n",
              "      <td>183907</td>\n",
              "      <td>J. Boateng</td>\n",
              "      <td>Germany</td>\n",
              "      <td>FC Bayern München</td>\n",
              "      <td>29</td>\n",
              "      <td>96</td>\n",
              "    </tr>\n",
              "    <tr>\n",
              "      <th>96</th>\n",
              "      <td>181872</td>\n",
              "      <td>A. Vidal</td>\n",
              "      <td>Chile</td>\n",
              "      <td>FC Barcelona</td>\n",
              "      <td>31</td>\n",
              "      <td>97</td>\n",
              "    </tr>\n",
              "    <tr>\n",
              "      <th>97</th>\n",
              "      <td>181458</td>\n",
              "      <td>I. Perišić</td>\n",
              "      <td>Croatia</td>\n",
              "      <td>Inter</td>\n",
              "      <td>29</td>\n",
              "      <td>98</td>\n",
              "    </tr>\n",
              "    <tr>\n",
              "      <th>98</th>\n",
              "      <td>180930</td>\n",
              "      <td>E. Džeko</td>\n",
              "      <td>Bosnia Herzegovina</td>\n",
              "      <td>Roma</td>\n",
              "      <td>32</td>\n",
              "      <td>99</td>\n",
              "    </tr>\n",
              "    <tr>\n",
              "      <th>99</th>\n",
              "      <td>179846</td>\n",
              "      <td>S. Khedira</td>\n",
              "      <td>Germany</td>\n",
              "      <td>Juventus</td>\n",
              "      <td>31</td>\n",
              "      <td>100</td>\n",
              "    </tr>\n",
              "  </tbody>\n",
              "</table>\n",
              "<p>100 rows × 6 columns</p>\n",
              "</div>"
            ],
            "text/plain": [
              "        ID               Name  ... Age ListID\n",
              "0   158023           L. Messi  ...  31      1\n",
              "1    20801  Cristiano Ronaldo  ...  33      2\n",
              "2   190871          Neymar Jr  ...  26      3\n",
              "3   193080             De Gea  ...  27      4\n",
              "4   192985       K. De Bruyne  ...  27      5\n",
              "..     ...                ...  ...  ..    ...\n",
              "95  183907         J. Boateng  ...  29     96\n",
              "96  181872           A. Vidal  ...  31     97\n",
              "97  181458         I. Perišić  ...  29     98\n",
              "98  180930           E. Džeko  ...  32     99\n",
              "99  179846         S. Khedira  ...  31    100\n",
              "\n",
              "[100 rows x 6 columns]"
            ]
          },
          "metadata": {
            "tags": []
          },
          "execution_count": 10
        }
      ]
    },
    {
      "cell_type": "markdown",
      "metadata": {
        "id": "2C0zi9P5nWC4",
        "colab_type": "text"
      },
      "source": [
        "## Creating a new table by copying data from another table \n",
        "\n",
        "you can **rename** a table by copying it and droping the old one in BQ"
      ]
    },
    {
      "cell_type": "code",
      "metadata": {
        "id": "eh7ZXkOFmVZ7",
        "colab_type": "code",
        "outputId": "0a08969a-0d3a-42e9-bccd-28f1c22bbf0c",
        "colab": {
          "base_uri": "https://localhost:8080/",
          "height": 419
        }
      },
      "source": [
        "%%bigquery --project sql-python\n",
        "CREATE OR REPLACE TABLE kaggle_fifa19.data19_value   # same as replacing a table\n",
        " OPTIONS(\n",
        "   description=\"Top players value info\"\n",
        " ) AS\n",
        "SELECT ID, Name, Value_EUR_, Wage_EUR_\n",
        "FROM kaggle_fifa19.data19_3\n",
        "ORDER BY ListID\n",
        "LIMIT 100;\n",
        "\n",
        "SELECT *\n",
        "FROM kaggle_fifa19.data19_value"
      ],
      "execution_count": 0,
      "outputs": [
        {
          "output_type": "execute_result",
          "data": {
            "text/html": [
              "<div>\n",
              "<style scoped>\n",
              "    .dataframe tbody tr th:only-of-type {\n",
              "        vertical-align: middle;\n",
              "    }\n",
              "\n",
              "    .dataframe tbody tr th {\n",
              "        vertical-align: top;\n",
              "    }\n",
              "\n",
              "    .dataframe thead th {\n",
              "        text-align: right;\n",
              "    }\n",
              "</style>\n",
              "<table border=\"1\" class=\"dataframe\">\n",
              "  <thead>\n",
              "    <tr style=\"text-align: right;\">\n",
              "      <th></th>\n",
              "      <th>ID</th>\n",
              "      <th>Name</th>\n",
              "      <th>Value_EUR_</th>\n",
              "      <th>Wage_EUR_</th>\n",
              "    </tr>\n",
              "  </thead>\n",
              "  <tbody>\n",
              "    <tr>\n",
              "      <th>0</th>\n",
              "      <td>158023</td>\n",
              "      <td>L. Messi</td>\n",
              "      <td>110500000.0</td>\n",
              "      <td>565000000.0</td>\n",
              "    </tr>\n",
              "    <tr>\n",
              "      <th>1</th>\n",
              "      <td>20801</td>\n",
              "      <td>Cristiano Ronaldo</td>\n",
              "      <td>77000000.0</td>\n",
              "      <td>405000000.0</td>\n",
              "    </tr>\n",
              "    <tr>\n",
              "      <th>2</th>\n",
              "      <td>190871</td>\n",
              "      <td>Neymar Jr</td>\n",
              "      <td>118500000.0</td>\n",
              "      <td>290000000.0</td>\n",
              "    </tr>\n",
              "    <tr>\n",
              "      <th>3</th>\n",
              "      <td>193080</td>\n",
              "      <td>De Gea</td>\n",
              "      <td>72000000.0</td>\n",
              "      <td>260000000.0</td>\n",
              "    </tr>\n",
              "    <tr>\n",
              "      <th>4</th>\n",
              "      <td>192985</td>\n",
              "      <td>K. De Bruyne</td>\n",
              "      <td>102000000.0</td>\n",
              "      <td>355000000.0</td>\n",
              "    </tr>\n",
              "    <tr>\n",
              "      <th>...</th>\n",
              "      <td>...</td>\n",
              "      <td>...</td>\n",
              "      <td>...</td>\n",
              "      <td>...</td>\n",
              "    </tr>\n",
              "    <tr>\n",
              "      <th>95</th>\n",
              "      <td>183907</td>\n",
              "      <td>J. Boateng</td>\n",
              "      <td>30000000.0</td>\n",
              "      <td>115000000.0</td>\n",
              "    </tr>\n",
              "    <tr>\n",
              "      <th>96</th>\n",
              "      <td>181872</td>\n",
              "      <td>A. Vidal</td>\n",
              "      <td>26000000.0</td>\n",
              "      <td>205000000.0</td>\n",
              "    </tr>\n",
              "    <tr>\n",
              "      <th>97</th>\n",
              "      <td>181458</td>\n",
              "      <td>I. Perišić</td>\n",
              "      <td>37500000.0</td>\n",
              "      <td>110000000.0</td>\n",
              "    </tr>\n",
              "    <tr>\n",
              "      <th>98</th>\n",
              "      <td>180930</td>\n",
              "      <td>E. Džeko</td>\n",
              "      <td>30500000.0</td>\n",
              "      <td>115000000.0</td>\n",
              "    </tr>\n",
              "    <tr>\n",
              "      <th>99</th>\n",
              "      <td>179846</td>\n",
              "      <td>S. Khedira</td>\n",
              "      <td>33000000.0</td>\n",
              "      <td>160000000.0</td>\n",
              "    </tr>\n",
              "  </tbody>\n",
              "</table>\n",
              "<p>100 rows × 4 columns</p>\n",
              "</div>"
            ],
            "text/plain": [
              "        ID               Name   Value_EUR_    Wage_EUR_\n",
              "0   158023           L. Messi  110500000.0  565000000.0\n",
              "1    20801  Cristiano Ronaldo   77000000.0  405000000.0\n",
              "2   190871          Neymar Jr  118500000.0  290000000.0\n",
              "3   193080             De Gea   72000000.0  260000000.0\n",
              "4   192985       K. De Bruyne  102000000.0  355000000.0\n",
              "..     ...                ...          ...          ...\n",
              "95  183907         J. Boateng   30000000.0  115000000.0\n",
              "96  181872           A. Vidal   26000000.0  205000000.0\n",
              "97  181458         I. Perišić   37500000.0  110000000.0\n",
              "98  180930           E. Džeko   30500000.0  115000000.0\n",
              "99  179846         S. Khedira   33000000.0  160000000.0\n",
              "\n",
              "[100 rows x 4 columns]"
            ]
          },
          "metadata": {
            "tags": []
          },
          "execution_count": 11
        }
      ]
    },
    {
      "cell_type": "markdown",
      "metadata": {
        "id": "JYef-Lhy6LHU",
        "colab_type": "text"
      },
      "source": [
        "## Display columns of all new created/updated tables"
      ]
    },
    {
      "cell_type": "code",
      "metadata": {
        "id": "g3YJyFZRpVvp",
        "colab_type": "code",
        "colab": {}
      },
      "source": [
        "%%bigquery --project sql-python\n",
        "\n",
        "SELECT\n",
        "  * EXCEPT(is_generated, generation_expression, is_stored, is_updatable)\n",
        "FROM\n",
        "  kaggle_fifa19.INFORMATION_SCHEMA.COLUMNS\n",
        "WHERE\n",
        "  table_name=\"data19_basic\" or table_name=\"data19_bio\" or table_name=\"data19_value\""
      ],
      "execution_count": 0,
      "outputs": []
    },
    {
      "cell_type": "markdown",
      "metadata": {
        "colab_type": "text",
        "id": "fcpWkhRXHY4R"
      },
      "source": [
        "\n",
        "\n",
        "## Join tables\n",
        "In BQ no primary key nor foreign key needed\n",
        "\n",
        "\n"
      ]
    },
    {
      "cell_type": "code",
      "metadata": {
        "id": "T7nA5q5jR9jk",
        "colab_type": "code",
        "colab": {}
      },
      "source": [
        "%%bigquery --project sql-python\n",
        "CREATE OR REPLACE TABLE kaggle_fifa19.data19_new\n",
        "AS\n",
        "SELECT \n",
        "data19_basic.ListID, data19_basic.ID, data19_basic.Name, data19_basic.Nationality, data19_basic.Club, \n",
        "data19_bio.Height, data19_bio.Weight, \n",
        "data19_value.Value_EUR_,  data19_value.Wage_EUR_\n",
        "FROM kaggle_fifa19.data19_basic INNER JOIN kaggle_fifa19.data19_bio USING (ID)  INNER JOIN kaggle_fifa19.data19_value USING (ID)\n",
        "ORDER BY ListID;\n"
      ],
      "execution_count": 0,
      "outputs": []
    },
    {
      "cell_type": "code",
      "metadata": {
        "id": "qA8ROoX87tCa",
        "colab_type": "code",
        "colab": {}
      },
      "source": [
        "%%bigquery --project sql-python df\n",
        "\n",
        "SELECT * FROM kaggle_fifa19.data19_new ORDER BY ListID"
      ],
      "execution_count": 0,
      "outputs": []
    },
    {
      "cell_type": "code",
      "metadata": {
        "id": "cemPhmHx7zed",
        "colab_type": "code",
        "outputId": "25264a21-c41d-4c30-fbe5-99f577e2b0d2",
        "colab": {
          "base_uri": "https://localhost:8080/",
          "height": 419
        }
      },
      "source": [
        "df"
      ],
      "execution_count": 0,
      "outputs": [
        {
          "output_type": "execute_result",
          "data": {
            "text/html": [
              "<div>\n",
              "<style scoped>\n",
              "    .dataframe tbody tr th:only-of-type {\n",
              "        vertical-align: middle;\n",
              "    }\n",
              "\n",
              "    .dataframe tbody tr th {\n",
              "        vertical-align: top;\n",
              "    }\n",
              "\n",
              "    .dataframe thead th {\n",
              "        text-align: right;\n",
              "    }\n",
              "</style>\n",
              "<table border=\"1\" class=\"dataframe\">\n",
              "  <thead>\n",
              "    <tr style=\"text-align: right;\">\n",
              "      <th></th>\n",
              "      <th>ListID</th>\n",
              "      <th>ID</th>\n",
              "      <th>Name</th>\n",
              "      <th>Nationality</th>\n",
              "      <th>Club</th>\n",
              "      <th>Height</th>\n",
              "      <th>Weight</th>\n",
              "      <th>Value_EUR_</th>\n",
              "      <th>Wage_EUR_</th>\n",
              "    </tr>\n",
              "  </thead>\n",
              "  <tbody>\n",
              "    <tr>\n",
              "      <th>0</th>\n",
              "      <td>1</td>\n",
              "      <td>158023</td>\n",
              "      <td>L. Messi</td>\n",
              "      <td>Argentina</td>\n",
              "      <td>FC Barcelona</td>\n",
              "      <td>170</td>\n",
              "      <td>72</td>\n",
              "      <td>110500000.0</td>\n",
              "      <td>565000000.0</td>\n",
              "    </tr>\n",
              "    <tr>\n",
              "      <th>1</th>\n",
              "      <td>2</td>\n",
              "      <td>20801</td>\n",
              "      <td>Cristiano Ronaldo</td>\n",
              "      <td>Portugal</td>\n",
              "      <td>Juventus</td>\n",
              "      <td>188</td>\n",
              "      <td>83</td>\n",
              "      <td>77000000.0</td>\n",
              "      <td>405000000.0</td>\n",
              "    </tr>\n",
              "    <tr>\n",
              "      <th>2</th>\n",
              "      <td>3</td>\n",
              "      <td>190871</td>\n",
              "      <td>Neymar Jr</td>\n",
              "      <td>Brazil</td>\n",
              "      <td>Paris Saint-Germain</td>\n",
              "      <td>175</td>\n",
              "      <td>68</td>\n",
              "      <td>118500000.0</td>\n",
              "      <td>290000000.0</td>\n",
              "    </tr>\n",
              "    <tr>\n",
              "      <th>3</th>\n",
              "      <td>4</td>\n",
              "      <td>193080</td>\n",
              "      <td>De Gea</td>\n",
              "      <td>Spain</td>\n",
              "      <td>Manchester United</td>\n",
              "      <td>193</td>\n",
              "      <td>76</td>\n",
              "      <td>72000000.0</td>\n",
              "      <td>260000000.0</td>\n",
              "    </tr>\n",
              "    <tr>\n",
              "      <th>4</th>\n",
              "      <td>5</td>\n",
              "      <td>192985</td>\n",
              "      <td>K. De Bruyne</td>\n",
              "      <td>Belgium</td>\n",
              "      <td>Manchester City</td>\n",
              "      <td>180</td>\n",
              "      <td>70</td>\n",
              "      <td>102000000.0</td>\n",
              "      <td>355000000.0</td>\n",
              "    </tr>\n",
              "    <tr>\n",
              "      <th>...</th>\n",
              "      <td>...</td>\n",
              "      <td>...</td>\n",
              "      <td>...</td>\n",
              "      <td>...</td>\n",
              "      <td>...</td>\n",
              "      <td>...</td>\n",
              "      <td>...</td>\n",
              "      <td>...</td>\n",
              "      <td>...</td>\n",
              "    </tr>\n",
              "    <tr>\n",
              "      <th>95</th>\n",
              "      <td>96</td>\n",
              "      <td>183907</td>\n",
              "      <td>J. Boateng</td>\n",
              "      <td>Germany</td>\n",
              "      <td>FC Bayern München</td>\n",
              "      <td>193</td>\n",
              "      <td>90</td>\n",
              "      <td>30000000.0</td>\n",
              "      <td>115000000.0</td>\n",
              "    </tr>\n",
              "    <tr>\n",
              "      <th>96</th>\n",
              "      <td>97</td>\n",
              "      <td>181872</td>\n",
              "      <td>A. Vidal</td>\n",
              "      <td>Chile</td>\n",
              "      <td>FC Barcelona</td>\n",
              "      <td>180</td>\n",
              "      <td>75</td>\n",
              "      <td>26000000.0</td>\n",
              "      <td>205000000.0</td>\n",
              "    </tr>\n",
              "    <tr>\n",
              "      <th>97</th>\n",
              "      <td>98</td>\n",
              "      <td>181458</td>\n",
              "      <td>I. Perišić</td>\n",
              "      <td>Croatia</td>\n",
              "      <td>Inter</td>\n",
              "      <td>185</td>\n",
              "      <td>80</td>\n",
              "      <td>37500000.0</td>\n",
              "      <td>110000000.0</td>\n",
              "    </tr>\n",
              "    <tr>\n",
              "      <th>98</th>\n",
              "      <td>99</td>\n",
              "      <td>180930</td>\n",
              "      <td>E. Džeko</td>\n",
              "      <td>Bosnia Herzegovina</td>\n",
              "      <td>Roma</td>\n",
              "      <td>193</td>\n",
              "      <td>84</td>\n",
              "      <td>30500000.0</td>\n",
              "      <td>115000000.0</td>\n",
              "    </tr>\n",
              "    <tr>\n",
              "      <th>99</th>\n",
              "      <td>100</td>\n",
              "      <td>179846</td>\n",
              "      <td>S. Khedira</td>\n",
              "      <td>Germany</td>\n",
              "      <td>Juventus</td>\n",
              "      <td>188</td>\n",
              "      <td>90</td>\n",
              "      <td>33000000.0</td>\n",
              "      <td>160000000.0</td>\n",
              "    </tr>\n",
              "  </tbody>\n",
              "</table>\n",
              "<p>100 rows × 9 columns</p>\n",
              "</div>"
            ],
            "text/plain": [
              "    ListID      ID               Name  ... Weight   Value_EUR_    Wage_EUR_\n",
              "0        1  158023           L. Messi  ...     72  110500000.0  565000000.0\n",
              "1        2   20801  Cristiano Ronaldo  ...     83   77000000.0  405000000.0\n",
              "2        3  190871          Neymar Jr  ...     68  118500000.0  290000000.0\n",
              "3        4  193080             De Gea  ...     76   72000000.0  260000000.0\n",
              "4        5  192985       K. De Bruyne  ...     70  102000000.0  355000000.0\n",
              "..     ...     ...                ...  ...    ...          ...          ...\n",
              "95      96  183907         J. Boateng  ...     90   30000000.0  115000000.0\n",
              "96      97  181872           A. Vidal  ...     75   26000000.0  205000000.0\n",
              "97      98  181458         I. Perišić  ...     80   37500000.0  110000000.0\n",
              "98      99  180930           E. Džeko  ...     84   30500000.0  115000000.0\n",
              "99     100  179846         S. Khedira  ...     90   33000000.0  160000000.0\n",
              "\n",
              "[100 rows x 9 columns]"
            ]
          },
          "metadata": {
            "tags": []
          },
          "execution_count": 34
        }
      ]
    },
    {
      "cell_type": "markdown",
      "metadata": {
        "id": "jtOJ9FuF8a4W",
        "colab_type": "text"
      },
      "source": [
        "## Exporting data \n",
        "1. save dataframe on disk\n",
        "2. use Dataflow https://cloud.google.com/dataflow/docs"
      ]
    },
    {
      "cell_type": "markdown",
      "metadata": {
        "id": "EegxqtFV81Hc",
        "colab_type": "text"
      },
      "source": [
        "## Dropping a table"
      ]
    },
    {
      "cell_type": "code",
      "metadata": {
        "id": "1uBBqdMkMQuQ",
        "colab_type": "code",
        "outputId": "9960dcf9-713c-433a-db8e-d4abbf5fdab4",
        "colab": {
          "base_uri": "https://localhost:8080/",
          "height": 32
        }
      },
      "source": [
        "%%bigquery --project sql-python\n",
        "\n",
        "DROP TABLE IF EXISTS kaggle_fifa19.data19_1"
      ],
      "execution_count": 0,
      "outputs": [
        {
          "output_type": "execute_result",
          "data": {
            "text/html": [
              "<div>\n",
              "<style scoped>\n",
              "    .dataframe tbody tr th:only-of-type {\n",
              "        vertical-align: middle;\n",
              "    }\n",
              "\n",
              "    .dataframe tbody tr th {\n",
              "        vertical-align: top;\n",
              "    }\n",
              "\n",
              "    .dataframe thead th {\n",
              "        text-align: right;\n",
              "    }\n",
              "</style>\n",
              "<table border=\"1\" class=\"dataframe\">\n",
              "  <thead>\n",
              "    <tr style=\"text-align: right;\">\n",
              "      <th></th>\n",
              "    </tr>\n",
              "  </thead>\n",
              "  <tbody>\n",
              "  </tbody>\n",
              "</table>\n",
              "</div>"
            ],
            "text/plain": [
              "Empty DataFrame\n",
              "Columns: []\n",
              "Index: []"
            ]
          },
          "metadata": {
            "tags": []
          },
          "execution_count": 69
        }
      ]
    },
    {
      "cell_type": "markdown",
      "metadata": {
        "id": "fbjrFjukKlsb",
        "colab_type": "text"
      },
      "source": [
        "## **Reference**\n",
        "\n",
        "getting started colab bq https://colab.research.google.com/notebooks/bigquery.ipynb\n",
        "\n",
        "quick setup colab bq \n",
        "https://tech.aaronteoh.com/bigquery-colaboratory-basics/\n",
        "\n",
        "dataset and table metadata\n",
        "https://cloud.google.com/bigquery/docs/information-schema-tables\n",
        "\n",
        "DML syntax https://cloud.google.com/bigquery/docs/reference/standard-sql/dml-syntax\n",
        "\n",
        "standard SQL query syntax https://cloud.google.com/bigquery/docs/reference/standard-sql/query-syntax\n",
        "\n",
        "w3schools SQL tutorial https://www.w3schools.com/sql/default.asp\n",
        "\n",
        "\n"
      ]
    }
  ]
}