{
  "nbformat": 4,
  "nbformat_minor": 0,
  "metadata": {
    "kernelspec": {
      "display_name": "Python 3",
      "language": "python",
      "name": "python3"
    },
    "language_info": {
      "codemirror_mode": {
        "name": "ipython",
        "version": 3
      },
      "file_extension": ".py",
      "mimetype": "text/x-python",
      "name": "python",
      "nbconvert_exporter": "python",
      "pygments_lexer": "ipython3",
      "version": "3.6.7"
    },
    "colab": {
      "name": "BigQuery_tables_python.ipynb",
      "provenance": [],
      "collapsed_sections": [],
      "toc_visible": true
    }
  },
  "cells": [
    {
      "cell_type": "markdown",
      "metadata": {
        "id": "J2gmcbySKlqi",
        "colab_type": "text"
      },
      "source": [
        "\n",
        "#  BigQuery: managing tables with Python\n",
        "\n",
        "This is a practice of managing tables and importing csv data file to a table into bigquery with python codes.\n",
        "\n",
        "original source of the imported data (edited): https://www.kaggle.com/karangadiya/fifa19"
      ]
    },
    {
      "cell_type": "code",
      "metadata": {
        "id": "w1L0MNfUKlql",
        "colab_type": "code",
        "colab": {}
      },
      "source": [
        "# on local computer\n",
        "#set google service account creddential for using bigquery\n",
        "\n",
        "#import os\n",
        "\n",
        "#os.environ['GOOGLE_APPLICATION_CREDENTIALS'] = \"C:/Users/---/---.json\""
      ],
      "execution_count": 0,
      "outputs": []
    },
    {
      "cell_type": "code",
      "metadata": {
        "id": "FWYfexdESEL0",
        "colab_type": "code",
        "outputId": "73a7f18b-31c4-41d8-a806-3a2ad75f1477",
        "colab": {
          "base_uri": "https://localhost:8080/",
          "height": 34
        }
      },
      "source": [
        "# in colab\n",
        "\n",
        "from google.colab import auth\n",
        "\n",
        "auth.authenticate_user()\n",
        "print('Authenticated')"
      ],
      "execution_count": 2,
      "outputs": [
        {
          "output_type": "stream",
          "text": [
            "Authenticated\n"
          ],
          "name": "stdout"
        }
      ]
    },
    {
      "cell_type": "code",
      "metadata": {
        "id": "pkF3DE8dKlqv",
        "colab_type": "code",
        "colab": {}
      },
      "source": [
        "from google.cloud import bigquery as bq\n",
        "import humanize\n",
        "import time"
      ],
      "execution_count": 0,
      "outputs": []
    },
    {
      "cell_type": "markdown",
      "metadata": {
        "id": "yJLIH4i3Klq2",
        "colab_type": "text"
      },
      "source": [
        "## BigQuery data\n",
        "\n",
        "client\n",
        "\n",
        "|___project\n",
        "\n",
        "  |___dataset\n",
        "\n",
        "   |____table\n"
      ]
    },
    {
      "cell_type": "code",
      "metadata": {
        "id": "p_3gGeXty5-M",
        "colab_type": "code",
        "colab": {}
      },
      "source": [
        "# Create a \"Client\" object\n",
        "\n",
        "project_id = \"sql-python-265823\"\n",
        "\n",
        "client = bq.Client(project=project_id)\n",
        "\n",
        "#Get job details via Google Cloud Python Client for BigQuery\n",
        "#Sometimes you might want more details about the job, such as the amount of data processed and billed. For the full range of details related to the job you’ll need the BigQuery Python Client. Here’s a code snippet you can use to get the amount of data processed and billed for a specified job.\n",
        "\n",
        " \n",
        "#job = client.get_job(\"job id returned from previous step\")\n",
        "#bytes_processed = humanize.naturalsize(job.total_bytes_processed, binary=True)\n",
        "#bytes_billed = humanize.naturalsize(job.total_bytes_billed, binary=True)\n",
        "#print('%s processed, %s billed (%s)' % (bytes_processed, bytes_billed, job.ended - job.created))\n"
      ],
      "execution_count": 0,
      "outputs": []
    },
    {
      "cell_type": "markdown",
      "metadata": {
        "id": "5zFHdceQIbUK",
        "colab_type": "text"
      },
      "source": [
        "## Creating a dataset"
      ]
    },
    {
      "cell_type": "code",
      "metadata": {
        "id": "gnDGXiV8Klq4",
        "colab_type": "code",
        "outputId": "2d466cd5-ceb2-45d3-f203-224c38167b41",
        "colab": {
          "base_uri": "https://localhost:8080/",
          "height": 34
        }
      },
      "source": [
        "# Construct a reference to the dataset\n",
        "dataset_id = 'kaggle_fifa19'\n",
        "dataset_ref = client.dataset(dataset_id)\n",
        "\n",
        "try:\n",
        "  dataset=client.get_dataset(dataset_ref)\n",
        "  print('Dataset exists')\n",
        "except :\n",
        "  dataset = bq.Dataset(dataset_ref)\n",
        "  dataset = client.create_dataset(dataset)\n",
        "  print('Dataset {} created.'.format(dataset.dataset_id))\n"
      ],
      "execution_count": 5,
      "outputs": [
        {
          "output_type": "stream",
          "text": [
            "Dataset exists\n"
          ],
          "name": "stdout"
        }
      ]
    },
    {
      "cell_type": "markdown",
      "metadata": {
        "id": "2sOl-nFEIgLr",
        "colab_type": "text"
      },
      "source": [
        "## Creating a table"
      ]
    },
    {
      "cell_type": "code",
      "metadata": {
        "id": "qG2CRiBz2_-0",
        "colab_type": "code",
        "outputId": "4f8ec6ff-d0fc-4598-b5d9-ed3b7024e6b4",
        "colab": {
          "base_uri": "https://localhost:8080/",
          "height": 102
        }
      },
      "source": [
        "table_ref = dataset_ref.table('data19_basic_dup')\n",
        "\n",
        "try:\n",
        "   table=client.get_table(table_ref)\n",
        "   print('Table exists')\n",
        "except :\n",
        "   schema = [bq.SchemaField('Name', 'STRING', mode='REQUIRED'),\n",
        "             bq.SchemaField('Nationality', 'STRING', mode='REQUIRED'),\n",
        "             bq.SchemaField('Clue', 'STRING', mode='REQUIRED'),\n",
        "             bq.SchemaField('Age', 'INTEGER', mode='REQUIRED'),\n",
        "        ]\n",
        "   table = bq.Table(table_ref, schema=schema)\n",
        "   table = client.create_table(table)\n",
        "   print('table {} created.'.format(table.table_id))\n",
        "\n",
        "table.schema\n",
        "\n"
      ],
      "execution_count": 27,
      "outputs": [
        {
          "output_type": "stream",
          "text": [
            "table data19_basic_dup created.\n"
          ],
          "name": "stdout"
        },
        {
          "output_type": "execute_result",
          "data": {
            "text/plain": [
              "[SchemaField('Name', 'STRING', 'REQUIRED', None, ()),\n",
              " SchemaField('Nationality', 'STRING', 'REQUIRED', None, ()),\n",
              " SchemaField('Clue', 'STRING', 'REQUIRED', None, ()),\n",
              " SchemaField('Age', 'INTEGER', 'REQUIRED', None, ())]"
            ]
          },
          "metadata": {
            "tags": []
          },
          "execution_count": 27
        }
      ]
    },
    {
      "cell_type": "markdown",
      "metadata": {
        "id": "qLea5Zs5Illd",
        "colab_type": "text"
      },
      "source": [
        "## Listing tables"
      ]
    },
    {
      "cell_type": "code",
      "metadata": {
        "scrolled": true,
        "id": "e0l4ijzBKlq9",
        "colab_type": "code",
        "outputId": "264b7374-04b0-49c6-8e56-2cc43861dcf2",
        "colab": {
          "base_uri": "https://localhost:8080/",
          "height": 102
        }
      },
      "source": [
        "# List all the tables in the dataset\n",
        "tables = list(client.list_tables(dataset))\n",
        "\n",
        "# Print names of all tables in the dataset (there are four!)\n",
        "for table in tables:  \n",
        "    print(table.table_id)\n",
        "\n"
      ],
      "execution_count": 28,
      "outputs": [
        {
          "output_type": "stream",
          "text": [
            "data19_1\n",
            "data19_2\n",
            "data19_3\n",
            "data19_basic\n",
            "data19_basic_dup\n"
          ],
          "name": "stdout"
        }
      ]
    },
    {
      "cell_type": "markdown",
      "metadata": {
        "id": "Hh6TAfaDMIx-",
        "colab_type": "text"
      },
      "source": [
        "## Copying multiple tables"
      ]
    },
    {
      "cell_type": "code",
      "metadata": {
        "id": "U2kje0KzI-Hu",
        "colab_type": "code",
        "colab": {
          "base_uri": "https://localhost:8080/",
          "height": 54
        },
        "outputId": "0ee42590-8fe3-47ac-c55e-2bdb4caa71e8"
      },
      "source": [
        "table_ref1 = dataset_ref.table('data19_basic')\n",
        "table_ref2 = dataset_ref.table('data19_basic_dup')\n",
        "table_ids=[table_ref1,table_ref2]\n",
        "\n",
        "dest_table_id = dataset_ref.table('data19_basic_dup2')\n",
        "\n",
        "job = client.copy_table(table_ids, dest_table_id)  # Make an API request.\n",
        "job.result()  # Wait for the job to complete.\n",
        "\n",
        "print(\"Copy {} to to {} \".format(table_ids, dest_table_id))"
      ],
      "execution_count": 29,
      "outputs": [
        {
          "output_type": "stream",
          "text": [
            "Copy [TableReference(DatasetReference('sql-python-265823', 'kaggle_fifa19'), 'data19_basic'), TableReference(DatasetReference('sql-python-265823', 'kaggle_fifa19'), 'data19_basic_dup')] to to TableReference(DatasetReference('sql-python-265823', 'kaggle_fifa19'), 'data19_basic_dup2') \n"
          ],
          "name": "stdout"
        }
      ]
    },
    {
      "cell_type": "markdown",
      "metadata": {
        "id": "TK4AI4p0MDAn",
        "colab_type": "text"
      },
      "source": [
        "## Delete a table"
      ]
    },
    {
      "cell_type": "code",
      "metadata": {
        "id": "f8wGy0CVfIoK",
        "colab_type": "code",
        "outputId": "897cf664-192e-450d-fb58-644ccf4ba461",
        "colab": {
          "base_uri": "https://localhost:8080/",
          "height": 34
        }
      },
      "source": [
        "table_ref_del= dataset_ref.table('data19_basic_dup2')\n",
        "client.delete_table(table_ref_del, not_found_ok=True)  # Make an API request.\n",
        "print(\"Deleted table '{}'.\".format(table_ref_del))\n",
        "\n"
      ],
      "execution_count": 30,
      "outputs": [
        {
          "output_type": "stream",
          "text": [
            "Deleted table 'TableReference(DatasetReference('sql-python-265823', 'kaggle_fifa19'), 'data19_basic_dup2')'.\n"
          ],
          "name": "stdout"
        }
      ]
    },
    {
      "cell_type": "markdown",
      "metadata": {
        "id": "yx_pqkpkQSxx",
        "colab_type": "text"
      },
      "source": [
        "## Restoring a deleted table"
      ]
    },
    {
      "cell_type": "code",
      "metadata": {
        "id": "Por70Z2QkYgm",
        "colab_type": "code",
        "colab": {
          "base_uri": "https://localhost:8080/",
          "height": 34
        },
        "outputId": "b44375d9-4c97-4eb4-db63-d32539d6ab41"
      },
      "source": [
        "#current time as snapshot epoch\n",
        "snapshot_epoch = int(time.time() * 1000)\n",
        "\n",
        "table_id_del= 'sql-python-265823.kaggle_fifa19.data19_basic_dup'\n",
        "client.delete_table(table_id_del) \n",
        "\n",
        "# Construct the restore-from table ID using a snapshot decorator.\n",
        "snapshot_table_id = \"{}@{}\".format(table_id_del, snapshot_epoch)\n",
        "\n",
        "table_id_rec= 'sql-python-265823.kaggle_fifa19.data19_basic_rec'\n",
        "\n",
        "# Construct and run a copy job.\n",
        "job = client.copy_table(snapshot_table_id,table_id_rec, location=\"US\") \n",
        "\n",
        "job.result()  \n",
        "\n",
        "print(\n",
        "    \"Copied data from deleted table {} to {}\".format(table_id_del, table_id_rec)\n",
        ")"
      ],
      "execution_count": 31,
      "outputs": [
        {
          "output_type": "stream",
          "text": [
            "Copied data from deleted table sql-python-265823.kaggle_fifa19.data19_basic_dup to sql-python-265823.kaggle_fifa19.data19_basic_rec\n"
          ],
          "name": "stdout"
        }
      ]
    },
    {
      "cell_type": "code",
      "metadata": {
        "id": "KZ0nc9OvQPZM",
        "colab_type": "code",
        "colab": {
          "base_uri": "https://localhost:8080/",
          "height": 102
        },
        "outputId": "9020209c-7d1f-4daa-c1df-d63f698c25c9"
      },
      "source": [
        "# List all the tables in the dataset\n",
        "tables = list(client.list_tables(dataset))\n",
        "\n",
        "# Print names of all tables in the dataset (there are four!)\n",
        "for table in tables:  \n",
        "    print(table.table_id)"
      ],
      "execution_count": 32,
      "outputs": [
        {
          "output_type": "stream",
          "text": [
            "data19_1\n",
            "data19_2\n",
            "data19_3\n",
            "data19_basic\n",
            "data19_basic_rec\n"
          ],
          "name": "stdout"
        }
      ]
    },
    {
      "cell_type": "markdown",
      "metadata": {
        "id": "uglaQm5sQZZu",
        "colab_type": "text"
      },
      "source": [
        "## Importing a csv file to a table"
      ]
    },
    {
      "cell_type": "code",
      "metadata": {
        "id": "3VhuvtpCKlrC",
        "colab_type": "code",
        "outputId": "8690d6cf-eeae-42ad-e6e3-9a271dddcbac",
        "colab": {
          "base_uri": "https://localhost:8080/",
          "height": 34
        }
      },
      "source": [
        "# import to create/expand a table\n",
        "table_id='data19_2'\n",
        "table_ref = dataset_ref.table(table_id)\n",
        "\n",
        "job_config = bigquery.LoadJobConfig()\n",
        "job_config.source_format = bigquery.SourceFormat.CSV\n",
        "job_config.skip_leading_rows = 1\n",
        "job_config.autodetect = True\n",
        "\n",
        "file_name ='/content/data19_2.csv'\n",
        "\n",
        "with open(file_name, \"rb\") as source_file:\n",
        "\n",
        "   job = client.load_table_from_file(source_file, table_ref, job_config=job_config)\n",
        "\n",
        "job.result()  # Waits for table load to complete.\n",
        "\n",
        "print(\"Loaded {} rows into {}:{}.\".format(job.output_rows, dataset_id, table_id))\n"
      ],
      "execution_count": 0,
      "outputs": [
        {
          "output_type": "stream",
          "text": [
            "Loaded 18207 rows into kaggle_fifa19:data19_2.\n"
          ],
          "name": "stdout"
        }
      ]
    },
    {
      "cell_type": "code",
      "metadata": {
        "id": "5ov027mhM2Kq",
        "colab_type": "code",
        "outputId": "e0c78eff-bd8e-4e46-f769-7b9ba7c78513",
        "colab": {
          "base_uri": "https://localhost:8080/",
          "height": 306
        }
      },
      "source": [
        "new_table = client.get_table(table_ref)\n",
        "print(\"Loaded {} rows.\".format(new_table.num_rows))  \n",
        "print(new_table.table_id)\n",
        "new_table.schema"
      ],
      "execution_count": 0,
      "outputs": [
        {
          "output_type": "stream",
          "text": [
            "Loaded 18159 rows.\n",
            "data19_3\n"
          ],
          "name": "stdout"
        },
        {
          "output_type": "execute_result",
          "data": {
            "text/plain": [
              "[SchemaField('ID', 'INTEGER', 'NULLABLE', None, ()),\n",
              " SchemaField('Name', 'STRING', 'NULLABLE', None, ()),\n",
              " SchemaField('Age', 'INTEGER', 'NULLABLE', None, ()),\n",
              " SchemaField('Nationality', 'STRING', 'NULLABLE', None, ()),\n",
              " SchemaField('Club', 'STRING', 'NULLABLE', None, ()),\n",
              " SchemaField('Preferred_Foot', 'STRING', 'NULLABLE', None, ()),\n",
              " SchemaField('Position', 'STRING', 'NULLABLE', None, ()),\n",
              " SchemaField('Jersey_Number', 'FLOAT', 'NULLABLE', None, ()),\n",
              " SchemaField('Joined', 'STRING', 'NULLABLE', None, ()),\n",
              " SchemaField('Contract_Valid_Until', 'STRING', 'NULLABLE', None, ()),\n",
              " SchemaField('Height_CM_', 'INTEGER', 'NULLABLE', None, ()),\n",
              " SchemaField('Weight_KG_', 'INTEGER', 'NULLABLE', None, ()),\n",
              " SchemaField('Value_EUR_', 'FLOAT', 'NULLABLE', None, ()),\n",
              " SchemaField('Wage_EUR_', 'FLOAT', 'NULLABLE', None, ()),\n",
              " SchemaField('Release_Clause_EUR_', 'FLOAT', 'NULLABLE', None, ())]"
            ]
          },
          "metadata": {
            "tags": []
          },
          "execution_count": 34
        }
      ]
    },
    {
      "cell_type": "code",
      "metadata": {
        "id": "dn1Cx3cnp8d5",
        "colab_type": "code",
        "outputId": "971d2586-edd6-4158-8a9f-f0a6cf5b89c2",
        "colab": {
          "base_uri": "https://localhost:8080/",
          "height": 34
        }
      },
      "source": [
        "new_table.num_rows"
      ],
      "execution_count": 0,
      "outputs": [
        {
          "output_type": "execute_result",
          "data": {
            "text/plain": [
              "18159"
            ]
          },
          "metadata": {
            "tags": []
          },
          "execution_count": 35
        }
      ]
    },
    {
      "cell_type": "code",
      "metadata": {
        "id": "FDd85DHNNDyb",
        "colab_type": "code",
        "colab": {}
      },
      "source": [
        "# List all the tables in the dataset\n",
        "tables = list(client.list_tables(dataset))\n",
        "\n",
        "# Print names of all tables in the dataset (there are four!)\n",
        "for table in tables:  \n",
        "    print(table.table_id)\n"
      ],
      "execution_count": 0,
      "outputs": []
    },
    {
      "cell_type": "markdown",
      "metadata": {
        "colab_type": "text",
        "id": "GpF3VcXbY4Ff"
      },
      "source": [
        "## **Reference**\n",
        "\n",
        "Quick start\n",
        "https://www.kaggle.com/learn/intro-to-sql\n",
        "\n",
        "Python Client for Google BigQuery\n",
        "https://googleapis.dev/python/bigquery/latest/index.html\n",
        "\n",
        "Managing tables https://cloud.google.com/bigquery/docs/managing-tables\n",
        "\n",
        "Importing tables\n",
        "https://hevodata.com/blog/api-to-bigquery/\n",
        "\n",
        "\n"
      ]
    }
  ]
}