{
  "nbformat": 4,
  "nbformat_minor": 0,
  "metadata": {
    "colab": {
      "name": "pandas_sql_server_online.ipynb",
      "provenance": [],
      "collapsed_sections": []
    },
    "kernelspec": {
      "name": "python3",
      "display_name": "Python 3"
    }
  },
  "cells": [
    {
      "cell_type": "markdown",
      "metadata": {
        "id": "muBUQwo_u6-d"
      },
      "source": [
        "# List total online timespan of servers "
      ]
    },
    {
      "cell_type": "code",
      "metadata": {
        "id": "IOuigJrlOp53"
      },
      "source": [
        "import pandas as pd\n",
        "from datetime import date"
      ],
      "execution_count": 1,
      "outputs": []
    },
    {
      "cell_type": "code",
      "metadata": {
        "id": "NCBUG_QKLb-y",
        "colab": {
          "base_uri": "https://localhost:8080/",
          "height": 390
        },
        "outputId": "f281729e-28b6-4b97-accf-54be3a3b5ff0"
      },
      "source": [
        "df = pd.DataFrame({'server_id': [1,1,2,2,3,3,4,4,4,4,5],\n",
        "                      'repair_status': ['repair', 'online','repair', 'online','repair', 'online','repair', 'online', 'repair', 'online', 'repair'],\n",
        "                   'as_of_date':['2020-01-01','2020-01-08','2020-01-05','2020-01-11','2020-01-10','2020-01-22','2020-02-02','2020-02-04','2020-02-10','2020-02-16','2020-03-01']})\n",
        "df['date']=pd.to_datetime(df['as_of_date'])\n",
        "df"
      ],
      "execution_count": 2,
      "outputs": [
        {
          "output_type": "execute_result",
          "data": {
            "text/html": [
              "<div>\n",
              "<style scoped>\n",
              "    .dataframe tbody tr th:only-of-type {\n",
              "        vertical-align: middle;\n",
              "    }\n",
              "\n",
              "    .dataframe tbody tr th {\n",
              "        vertical-align: top;\n",
              "    }\n",
              "\n",
              "    .dataframe thead th {\n",
              "        text-align: right;\n",
              "    }\n",
              "</style>\n",
              "<table border=\"1\" class=\"dataframe\">\n",
              "  <thead>\n",
              "    <tr style=\"text-align: right;\">\n",
              "      <th></th>\n",
              "      <th>server_id</th>\n",
              "      <th>repair_status</th>\n",
              "      <th>as_of_date</th>\n",
              "      <th>date</th>\n",
              "    </tr>\n",
              "  </thead>\n",
              "  <tbody>\n",
              "    <tr>\n",
              "      <th>0</th>\n",
              "      <td>1</td>\n",
              "      <td>repair</td>\n",
              "      <td>2020-01-01</td>\n",
              "      <td>2020-01-01</td>\n",
              "    </tr>\n",
              "    <tr>\n",
              "      <th>1</th>\n",
              "      <td>1</td>\n",
              "      <td>online</td>\n",
              "      <td>2020-01-08</td>\n",
              "      <td>2020-01-08</td>\n",
              "    </tr>\n",
              "    <tr>\n",
              "      <th>2</th>\n",
              "      <td>2</td>\n",
              "      <td>repair</td>\n",
              "      <td>2020-01-05</td>\n",
              "      <td>2020-01-05</td>\n",
              "    </tr>\n",
              "    <tr>\n",
              "      <th>3</th>\n",
              "      <td>2</td>\n",
              "      <td>online</td>\n",
              "      <td>2020-01-11</td>\n",
              "      <td>2020-01-11</td>\n",
              "    </tr>\n",
              "    <tr>\n",
              "      <th>4</th>\n",
              "      <td>3</td>\n",
              "      <td>repair</td>\n",
              "      <td>2020-01-10</td>\n",
              "      <td>2020-01-10</td>\n",
              "    </tr>\n",
              "    <tr>\n",
              "      <th>5</th>\n",
              "      <td>3</td>\n",
              "      <td>online</td>\n",
              "      <td>2020-01-22</td>\n",
              "      <td>2020-01-22</td>\n",
              "    </tr>\n",
              "    <tr>\n",
              "      <th>6</th>\n",
              "      <td>4</td>\n",
              "      <td>repair</td>\n",
              "      <td>2020-02-02</td>\n",
              "      <td>2020-02-02</td>\n",
              "    </tr>\n",
              "    <tr>\n",
              "      <th>7</th>\n",
              "      <td>4</td>\n",
              "      <td>online</td>\n",
              "      <td>2020-02-04</td>\n",
              "      <td>2020-02-04</td>\n",
              "    </tr>\n",
              "    <tr>\n",
              "      <th>8</th>\n",
              "      <td>4</td>\n",
              "      <td>repair</td>\n",
              "      <td>2020-02-10</td>\n",
              "      <td>2020-02-10</td>\n",
              "    </tr>\n",
              "    <tr>\n",
              "      <th>9</th>\n",
              "      <td>4</td>\n",
              "      <td>online</td>\n",
              "      <td>2020-02-16</td>\n",
              "      <td>2020-02-16</td>\n",
              "    </tr>\n",
              "    <tr>\n",
              "      <th>10</th>\n",
              "      <td>5</td>\n",
              "      <td>repair</td>\n",
              "      <td>2020-03-01</td>\n",
              "      <td>2020-03-01</td>\n",
              "    </tr>\n",
              "  </tbody>\n",
              "</table>\n",
              "</div>"
            ],
            "text/plain": [
              "    server_id repair_status  as_of_date       date\n",
              "0           1        repair  2020-01-01 2020-01-01\n",
              "1           1        online  2020-01-08 2020-01-08\n",
              "2           2        repair  2020-01-05 2020-01-05\n",
              "3           2        online  2020-01-11 2020-01-11\n",
              "4           3        repair  2020-01-10 2020-01-10\n",
              "5           3        online  2020-01-22 2020-01-22\n",
              "6           4        repair  2020-02-02 2020-02-02\n",
              "7           4        online  2020-02-04 2020-02-04\n",
              "8           4        repair  2020-02-10 2020-02-10\n",
              "9           4        online  2020-02-16 2020-02-16\n",
              "10          5        repair  2020-03-01 2020-03-01"
            ]
          },
          "metadata": {
            "tags": []
          },
          "execution_count": 2
        }
      ]
    },
    {
      "cell_type": "code",
      "metadata": {
        "id": "ckQjP0mhDBOx",
        "colab": {
          "base_uri": "https://localhost:8080/",
          "height": 235
        },
        "outputId": "37f15531-32d1-4e64-8066-52180d7a8b83"
      },
      "source": [
        "df_re = df.loc[df['repair_status']=='repair',['server_id','date']]\n",
        "df_on = df.loc[df['repair_status']=='online',['server_id','date']]\n",
        "\n",
        "df_re['rn'] = df_re.groupby('server_id')['date'].rank(method='first')\n",
        "df_on['rn'] = df_on.groupby('server_id')['date'].rank(method='first')\n",
        "\n",
        "df2 = pd.merge(df_re, df_on, how='left', on=['server_id','rn'])\n",
        "df2 = df2.fillna(pd.to_datetime('today'))\n",
        "df2['days'] = (df2['date_y']-df2['date_x']).dt.days\n",
        "df2"
      ],
      "execution_count": 3,
      "outputs": [
        {
          "output_type": "execute_result",
          "data": {
            "text/html": [
              "<div>\n",
              "<style scoped>\n",
              "    .dataframe tbody tr th:only-of-type {\n",
              "        vertical-align: middle;\n",
              "    }\n",
              "\n",
              "    .dataframe tbody tr th {\n",
              "        vertical-align: top;\n",
              "    }\n",
              "\n",
              "    .dataframe thead th {\n",
              "        text-align: right;\n",
              "    }\n",
              "</style>\n",
              "<table border=\"1\" class=\"dataframe\">\n",
              "  <thead>\n",
              "    <tr style=\"text-align: right;\">\n",
              "      <th></th>\n",
              "      <th>server_id</th>\n",
              "      <th>date_x</th>\n",
              "      <th>rn</th>\n",
              "      <th>date_y</th>\n",
              "      <th>days</th>\n",
              "    </tr>\n",
              "  </thead>\n",
              "  <tbody>\n",
              "    <tr>\n",
              "      <th>0</th>\n",
              "      <td>1</td>\n",
              "      <td>2020-01-01</td>\n",
              "      <td>1.0</td>\n",
              "      <td>2020-01-08 00:00:00.000000</td>\n",
              "      <td>7</td>\n",
              "    </tr>\n",
              "    <tr>\n",
              "      <th>1</th>\n",
              "      <td>2</td>\n",
              "      <td>2020-01-05</td>\n",
              "      <td>1.0</td>\n",
              "      <td>2020-01-11 00:00:00.000000</td>\n",
              "      <td>6</td>\n",
              "    </tr>\n",
              "    <tr>\n",
              "      <th>2</th>\n",
              "      <td>3</td>\n",
              "      <td>2020-01-10</td>\n",
              "      <td>1.0</td>\n",
              "      <td>2020-01-22 00:00:00.000000</td>\n",
              "      <td>12</td>\n",
              "    </tr>\n",
              "    <tr>\n",
              "      <th>3</th>\n",
              "      <td>4</td>\n",
              "      <td>2020-02-02</td>\n",
              "      <td>1.0</td>\n",
              "      <td>2020-02-04 00:00:00.000000</td>\n",
              "      <td>2</td>\n",
              "    </tr>\n",
              "    <tr>\n",
              "      <th>4</th>\n",
              "      <td>4</td>\n",
              "      <td>2020-02-10</td>\n",
              "      <td>2.0</td>\n",
              "      <td>2020-02-16 00:00:00.000000</td>\n",
              "      <td>6</td>\n",
              "    </tr>\n",
              "    <tr>\n",
              "      <th>5</th>\n",
              "      <td>5</td>\n",
              "      <td>2020-03-01</td>\n",
              "      <td>1.0</td>\n",
              "      <td>2021-05-20 17:02:00.140418</td>\n",
              "      <td>445</td>\n",
              "    </tr>\n",
              "  </tbody>\n",
              "</table>\n",
              "</div>"
            ],
            "text/plain": [
              "   server_id     date_x   rn                     date_y  days\n",
              "0          1 2020-01-01  1.0 2020-01-08 00:00:00.000000     7\n",
              "1          2 2020-01-05  1.0 2020-01-11 00:00:00.000000     6\n",
              "2          3 2020-01-10  1.0 2020-01-22 00:00:00.000000    12\n",
              "3          4 2020-02-02  1.0 2020-02-04 00:00:00.000000     2\n",
              "4          4 2020-02-10  2.0 2020-02-16 00:00:00.000000     6\n",
              "5          5 2020-03-01  1.0 2021-05-20 17:02:00.140418   445"
            ]
          },
          "metadata": {
            "tags": []
          },
          "execution_count": 3
        }
      ]
    },
    {
      "cell_type": "code",
      "metadata": {
        "id": "hiZo4GbiQLeO",
        "colab": {
          "base_uri": "https://localhost:8080/",
          "height": 204
        },
        "outputId": "83051210-c975-49a7-bd3e-42b465297edc"
      },
      "source": [
        "df3 = df2.groupby('server_id')['days'].sum()\n",
        "pd.DataFrame(df3).reset_index()"
      ],
      "execution_count": 4,
      "outputs": [
        {
          "output_type": "execute_result",
          "data": {
            "text/html": [
              "<div>\n",
              "<style scoped>\n",
              "    .dataframe tbody tr th:only-of-type {\n",
              "        vertical-align: middle;\n",
              "    }\n",
              "\n",
              "    .dataframe tbody tr th {\n",
              "        vertical-align: top;\n",
              "    }\n",
              "\n",
              "    .dataframe thead th {\n",
              "        text-align: right;\n",
              "    }\n",
              "</style>\n",
              "<table border=\"1\" class=\"dataframe\">\n",
              "  <thead>\n",
              "    <tr style=\"text-align: right;\">\n",
              "      <th></th>\n",
              "      <th>server_id</th>\n",
              "      <th>days</th>\n",
              "    </tr>\n",
              "  </thead>\n",
              "  <tbody>\n",
              "    <tr>\n",
              "      <th>0</th>\n",
              "      <td>1</td>\n",
              "      <td>7</td>\n",
              "    </tr>\n",
              "    <tr>\n",
              "      <th>1</th>\n",
              "      <td>2</td>\n",
              "      <td>6</td>\n",
              "    </tr>\n",
              "    <tr>\n",
              "      <th>2</th>\n",
              "      <td>3</td>\n",
              "      <td>12</td>\n",
              "    </tr>\n",
              "    <tr>\n",
              "      <th>3</th>\n",
              "      <td>4</td>\n",
              "      <td>8</td>\n",
              "    </tr>\n",
              "    <tr>\n",
              "      <th>4</th>\n",
              "      <td>5</td>\n",
              "      <td>445</td>\n",
              "    </tr>\n",
              "  </tbody>\n",
              "</table>\n",
              "</div>"
            ],
            "text/plain": [
              "   server_id  days\n",
              "0          1     7\n",
              "1          2     6\n",
              "2          3    12\n",
              "3          4     8\n",
              "4          5   445"
            ]
          },
          "metadata": {
            "tags": []
          },
          "execution_count": 4
        }
      ]
    },
    {
      "cell_type": "code",
      "metadata": {
        "id": "sx1YtvFfsY0t",
        "colab": {
          "base_uri": "https://localhost:8080/",
          "height": 103
        },
        "outputId": "70b33517-f9de-4176-a9dc-3aff2e15f301"
      },
      "source": [
        "# SQL solution\n",
        "\n",
        "'''\n",
        "\n",
        "CREATE TABLE IF NOT EXISTS Repair (\n",
        "    Id INT,\n",
        "    r_status VARCHAR(50),\n",
        "    as_date VARCHAR(50)\n",
        ");\n",
        "\n",
        "DELETE FROM Repair;\n",
        "\n",
        "INSERT INTO Repair VALUES\n",
        "(1,        'repair',        '2020-01-01'),\n",
        "(1,        'online',        '2020-01-08'),\n",
        "(2,        'repair',        '2020-01-05'),\n",
        "(2,        'online',        '2020-01-11'),\n",
        "(3,        'repair',        '2020-01-10'),\n",
        "(3,        'online',   '2020-01-22'),\n",
        "(4,        'repair',        '2020-02-02'),\n",
        "(4,        'online',        '2020-02-04'),\n",
        "(4,        'repair',        '2020-02-10'),\n",
        "(4,        'online',        '2020-02-16'),\n",
        "(5,        'repair',        '2020-03-01');\n",
        "\n",
        "Select a.Id as server_id, sum(ifnull(datediff(b.as_date,a.as_date),datediff(curdate(),a.as_date))) as repair_days From\n",
        "(select *,ROW_NUMBER() OVER(Partition by Id Order BY as_date) rn from Repair where r_status = 'repair')  a \n",
        " left join\n",
        "(select *,ROW_NUMBER() OVER(Partition by Id Order BY as_date) rn from Repair where r_status = 'online')  b\n",
        "on a.Id = b.Id and a.rn = b.rn\n",
        "group by a.Id\n",
        "\n",
        "Output\n",
        "server_id        repair_days\n",
        "1        7\n",
        "2        6\n",
        "3        12\n",
        "4        8\n",
        "5        218\n",
        "\n",
        "'''"
      ],
      "execution_count": 5,
      "outputs": [
        {
          "output_type": "execute_result",
          "data": {
            "application/vnd.google.colaboratory.intrinsic+json": {
              "type": "string"
            },
            "text/plain": [
              "\"\\n\\nCREATE TABLE IF NOT EXISTS Repair (\\n\\xa0 \\xa0 Id INT,\\n\\xa0 \\xa0 r_status VARCHAR(50),\\n\\xa0 \\xa0 as_date VARCHAR(50)\\n);\\n\\nDELETE FROM Repair;\\n\\nINSERT INTO Repair VALUES\\n(1,\\xa0 \\xa0 \\xa0 \\xa0 'repair',\\xa0 \\xa0 \\xa0 \\xa0 '2020-01-01'),\\n(1,\\xa0 \\xa0 \\xa0 \\xa0 'online',\\xa0 \\xa0 \\xa0 \\xa0 '2020-01-08'),\\n(2,\\xa0 \\xa0 \\xa0 \\xa0 'repair',\\xa0 \\xa0 \\xa0 \\xa0 '2020-01-05'),\\n(2,\\xa0 \\xa0 \\xa0 \\xa0 'online',\\xa0 \\xa0 \\xa0 \\xa0 '2020-01-11'),\\n(3,\\xa0 \\xa0 \\xa0 \\xa0 'repair',\\xa0 \\xa0 \\xa0 \\xa0 '2020-01-10'),\\n(3,\\xa0 \\xa0 \\xa0 \\xa0 'online',\\xa0 \\xa0'2020-01-22'),\\n(4,\\xa0 \\xa0 \\xa0 \\xa0 'repair',\\xa0 \\xa0 \\xa0 \\xa0 '2020-02-02'),\\n(4,\\xa0 \\xa0 \\xa0 \\xa0 'online',\\xa0 \\xa0 \\xa0 \\xa0 '2020-02-04'),\\n(4,\\xa0 \\xa0 \\xa0 \\xa0 'repair',\\xa0 \\xa0 \\xa0 \\xa0 '2020-02-10'),\\n(4,\\xa0 \\xa0 \\xa0 \\xa0 'online',\\xa0 \\xa0 \\xa0 \\xa0 '2020-02-16'),\\n(5,\\xa0 \\xa0 \\xa0 \\xa0 'repair',\\xa0 \\xa0 \\xa0 \\xa0 '2020-03-01');\\n\\nSelect a.Id as server_id, sum(ifnull(datediff(b.as_date,a.as_date),datediff(curdate(),a.as_date))) as repair_days From\\n(select *,ROW_NUMBER() OVER(Partition by Id Order BY as_date) rn from Repair where r_status = 'repair')\\xa0\\xa0a\\xa0\\n\\xa0left join\\n(select *,ROW_NUMBER() OVER(Partition by Id Order BY as_date) rn from Repair where r_status = 'online')\\xa0\\xa0b\\non a.Id = b.Id and a.rn = b.rn\\ngroup by a.Id\\n\\nOutput\\nserver_id\\xa0 \\xa0 \\xa0 \\xa0 repair_days\\n1\\xa0 \\xa0 \\xa0 \\xa0 7\\n2\\xa0 \\xa0 \\xa0 \\xa0 6\\n3\\xa0 \\xa0 \\xa0 \\xa0 12\\n4\\xa0 \\xa0 \\xa0 \\xa0 8\\n5\\xa0 \\xa0 \\xa0 \\xa0 218\\n\\n\""
            ]
          },
          "metadata": {
            "tags": []
          },
          "execution_count": 5
        }
      ]
    }
  ]
}