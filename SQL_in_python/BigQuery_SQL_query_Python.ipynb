{
 "cells": [
  {
   "cell_type": "markdown",
   "metadata": {},
   "source": [
    "\n",
    "#  BigQuery SQL query in Python\n",
    "\n",
    "This is a practice of some basic SQL commands and functions on bigquery with python codes."
   ]
  },
  {
   "cell_type": "code",
   "execution_count": 1,
   "metadata": {},
   "outputs": [],
   "source": [
    "# set google service account creddential for using bigquery\n",
    "\n",
    "#import os\n",
    "\n",
    "#os.environ['GOOGLE_APPLICATION_CREDENTIALS'] = \"C:/Users/---/---.json\""
   ]
  },
  {
   "cell_type": "code",
   "execution_count": 1,
   "metadata": {},
   "outputs": [],
   "source": [
    "import humanize  # for displaying human friendly size of dataset in dry run."
   ]
  },
  {
   "cell_type": "code",
   "execution_count": 2,
   "metadata": {},
   "outputs": [],
   "source": [
    "from google.cloud import bigquery"
   ]
  },
  {
   "cell_type": "code",
   "execution_count": 3,
   "metadata": {
    "scrolled": true
   },
   "outputs": [],
   "source": [
    "# Create a \"Client\" object\n",
    "client = bigquery.Client()"
   ]
  },
  {
   "cell_type": "markdown",
   "metadata": {},
   "source": [
    "<h2 id=\"Example-1:-exploring-dataset-and-tables\">Example 1: exploring dataset and tables</h2>\n",
    "\n",
    "<p>dataset: census_bureau_international</p>\n",
    "\n",
    "<img src=\"biYqbUB.png\">"
   ]
  },
  {
   "cell_type": "code",
   "execution_count": 4,
   "metadata": {},
   "outputs": [],
   "source": [
    "# Construct a reference to the dataset\n",
    "dataset_ref = client.dataset(\"census_bureau_international\", project=\"bigquery-public-data\")\n",
    "\n",
    "# API request - fetch the dataset\n",
    "dataset = client.get_dataset(dataset_ref)"
   ]
  },
  {
   "cell_type": "code",
   "execution_count": 5,
   "metadata": {
    "scrolled": true
   },
   "outputs": [
    {
     "name": "stdout",
     "output_type": "stream",
     "text": [
      "age_specific_fertility_rates\n",
      "birth_death_growth_rates\n",
      "country_names_area\n",
      "midyear_population\n",
      "midyear_population_5yr_age_sex\n",
      "midyear_population_age_sex\n",
      "midyear_population_agespecific\n",
      "mortality_life_expectancy\n"
     ]
    }
   ],
   "source": [
    "# List all the tables in the dataset\n",
    "tables = list(client.list_tables(dataset))\n",
    "\n",
    "# Print names of all tables in the dataset (there are four!)\n",
    "for table in tables:  \n",
    "    print(table.table_id)"
   ]
  },
  {
   "cell_type": "code",
   "execution_count": 6,
   "metadata": {},
   "outputs": [
    {
     "data": {
      "text/plain": [
       "8"
      ]
     },
     "execution_count": 6,
     "metadata": {},
     "output_type": "execute_result"
    }
   ],
   "source": [
    "len(tables)"
   ]
  },
  {
   "cell_type": "code",
   "execution_count": 7,
   "metadata": {},
   "outputs": [],
   "source": [
    "# Construct a reference to the \"...\" table\n",
    "table_ref = dataset_ref.table(\"mortality_life_expectancy\")\n",
    "\n",
    "# API request - fetch the table\n",
    "table = client.get_table(table_ref)"
   ]
  },
  {
   "cell_type": "code",
   "execution_count": 8,
   "metadata": {},
   "outputs": [
    {
     "data": {
      "text/plain": [
       "[SchemaField('country_code', 'STRING', 'REQUIRED', 'Federal Information Processing Standard (FIPS) country/area code', ()),\n",
       " SchemaField('country_name', 'STRING', 'NULLABLE', 'Country or area name', ()),\n",
       " SchemaField('year', 'INTEGER', 'REQUIRED', 'Year', ()),\n",
       " SchemaField('infant_mortality', 'FLOAT', 'NULLABLE', 'Both sexes infant mortality rate (infant deaths per 1,000 population)', ()),\n",
       " SchemaField('infant_mortality_male', 'FLOAT', 'NULLABLE', 'Male infant mortality rate (infant deaths per 1,000 population)', ()),\n",
       " SchemaField('infant_mortality_female', 'FLOAT', 'NULLABLE', 'Female infant mortality rate (infant deaths per 1,000 population)', ()),\n",
       " SchemaField('life_expectancy', 'FLOAT', 'NULLABLE', 'Both sexes life expectancy at birth (years)', ()),\n",
       " SchemaField('life_expectancy_male', 'FLOAT', 'NULLABLE', 'Male life expectancy at birth (years)', ()),\n",
       " SchemaField('life_expectancy_female', 'FLOAT', 'NULLABLE', 'Female life expectancy at birth (years)', ()),\n",
       " SchemaField('mortality_rate_under5', 'FLOAT', 'NULLABLE', 'Both sexes under-5 mortality rate (probability of dying between ages 0 and 5)', ()),\n",
       " SchemaField('mortality_rate_under5_male', 'FLOAT', 'NULLABLE', 'Male sexes under-5 mortality rate (probability of dying between ages 0 and 5)', ()),\n",
       " SchemaField('mortality_rate_under5_female', 'FLOAT', 'NULLABLE', 'Female sexes under-5 mortality rate (probability of dying between ages 0 and 5)', ()),\n",
       " SchemaField('mortality_rate_1to4', 'FLOAT', 'NULLABLE', 'Both sexes child mortality rate (probability of dying between ages 1 and 4)', ()),\n",
       " SchemaField('mortality_rate_1to4_male', 'FLOAT', 'NULLABLE', 'Male sexes child mortality rate (probability of dying between ages 1 and 4)', ()),\n",
       " SchemaField('mortality_rate_1to4_female', 'FLOAT', 'NULLABLE', 'Female sexes child mortality rate (probability of dying between ages 1 and 4)', ())]"
      ]
     },
     "execution_count": 8,
     "metadata": {},
     "output_type": "execute_result"
    }
   ],
   "source": [
    "# Print information on all the columns in the \"full\" table in the \"hacker_news\" dataset\n",
    "table.schema"
   ]
  },
  {
   "cell_type": "code",
   "execution_count": 9,
   "metadata": {},
   "outputs": [
    {
     "data": {
      "text/html": [
       "<div>\n",
       "<style scoped>\n",
       "    .dataframe tbody tr th:only-of-type {\n",
       "        vertical-align: middle;\n",
       "    }\n",
       "\n",
       "    .dataframe tbody tr th {\n",
       "        vertical-align: top;\n",
       "    }\n",
       "\n",
       "    .dataframe thead th {\n",
       "        text-align: right;\n",
       "    }\n",
       "</style>\n",
       "<table border=\"1\" class=\"dataframe\">\n",
       "  <thead>\n",
       "    <tr style=\"text-align: right;\">\n",
       "      <th></th>\n",
       "      <th>country_code</th>\n",
       "      <th>country_name</th>\n",
       "      <th>year</th>\n",
       "      <th>infant_mortality</th>\n",
       "      <th>infant_mortality_male</th>\n",
       "      <th>infant_mortality_female</th>\n",
       "      <th>life_expectancy</th>\n",
       "      <th>life_expectancy_male</th>\n",
       "      <th>life_expectancy_female</th>\n",
       "      <th>mortality_rate_under5</th>\n",
       "      <th>mortality_rate_under5_male</th>\n",
       "      <th>mortality_rate_under5_female</th>\n",
       "      <th>mortality_rate_1to4</th>\n",
       "      <th>mortality_rate_1to4_male</th>\n",
       "      <th>mortality_rate_1to4_female</th>\n",
       "    </tr>\n",
       "  </thead>\n",
       "  <tbody>\n",
       "    <tr>\n",
       "      <th>0</th>\n",
       "      <td>AA</td>\n",
       "      <td>Aruba</td>\n",
       "      <td>1981</td>\n",
       "      <td>23.30</td>\n",
       "      <td>26.09</td>\n",
       "      <td>20.56</td>\n",
       "      <td>72.86</td>\n",
       "      <td>69.09</td>\n",
       "      <td>76.56</td>\n",
       "      <td>26.05</td>\n",
       "      <td>29.25</td>\n",
       "      <td>22.91</td>\n",
       "      <td>2.82</td>\n",
       "      <td>3.24</td>\n",
       "      <td>2.40</td>\n",
       "    </tr>\n",
       "    <tr>\n",
       "      <th>1</th>\n",
       "      <td>AA</td>\n",
       "      <td>Aruba</td>\n",
       "      <td>1982</td>\n",
       "      <td>23.04</td>\n",
       "      <td>26.10</td>\n",
       "      <td>20.05</td>\n",
       "      <td>72.88</td>\n",
       "      <td>69.14</td>\n",
       "      <td>76.55</td>\n",
       "      <td>25.79</td>\n",
       "      <td>29.31</td>\n",
       "      <td>22.36</td>\n",
       "      <td>2.82</td>\n",
       "      <td>3.30</td>\n",
       "      <td>2.36</td>\n",
       "    </tr>\n",
       "    <tr>\n",
       "      <th>2</th>\n",
       "      <td>AA</td>\n",
       "      <td>Aruba</td>\n",
       "      <td>1983</td>\n",
       "      <td>22.79</td>\n",
       "      <td>26.10</td>\n",
       "      <td>19.55</td>\n",
       "      <td>72.90</td>\n",
       "      <td>69.19</td>\n",
       "      <td>76.53</td>\n",
       "      <td>25.56</td>\n",
       "      <td>29.37</td>\n",
       "      <td>21.83</td>\n",
       "      <td>2.83</td>\n",
       "      <td>3.36</td>\n",
       "      <td>2.33</td>\n",
       "    </tr>\n",
       "    <tr>\n",
       "      <th>3</th>\n",
       "      <td>AA</td>\n",
       "      <td>Aruba</td>\n",
       "      <td>1984</td>\n",
       "      <td>22.55</td>\n",
       "      <td>26.10</td>\n",
       "      <td>19.06</td>\n",
       "      <td>72.91</td>\n",
       "      <td>69.24</td>\n",
       "      <td>76.51</td>\n",
       "      <td>25.34</td>\n",
       "      <td>29.44</td>\n",
       "      <td>21.31</td>\n",
       "      <td>2.85</td>\n",
       "      <td>3.43</td>\n",
       "      <td>2.29</td>\n",
       "    </tr>\n",
       "    <tr>\n",
       "      <th>4</th>\n",
       "      <td>AA</td>\n",
       "      <td>Aruba</td>\n",
       "      <td>1985</td>\n",
       "      <td>22.31</td>\n",
       "      <td>26.10</td>\n",
       "      <td>18.58</td>\n",
       "      <td>72.92</td>\n",
       "      <td>69.29</td>\n",
       "      <td>76.49</td>\n",
       "      <td>25.12</td>\n",
       "      <td>29.51</td>\n",
       "      <td>20.80</td>\n",
       "      <td>2.87</td>\n",
       "      <td>3.50</td>\n",
       "      <td>2.26</td>\n",
       "    </tr>\n",
       "  </tbody>\n",
       "</table>\n",
       "</div>"
      ],
      "text/plain": [
       "  country_code country_name  year  infant_mortality  infant_mortality_male  \\\n",
       "0           AA        Aruba  1981             23.30                  26.09   \n",
       "1           AA        Aruba  1982             23.04                  26.10   \n",
       "2           AA        Aruba  1983             22.79                  26.10   \n",
       "3           AA        Aruba  1984             22.55                  26.10   \n",
       "4           AA        Aruba  1985             22.31                  26.10   \n",
       "\n",
       "   infant_mortality_female  life_expectancy  life_expectancy_male  \\\n",
       "0                    20.56            72.86                 69.09   \n",
       "1                    20.05            72.88                 69.14   \n",
       "2                    19.55            72.90                 69.19   \n",
       "3                    19.06            72.91                 69.24   \n",
       "4                    18.58            72.92                 69.29   \n",
       "\n",
       "   life_expectancy_female  mortality_rate_under5  mortality_rate_under5_male  \\\n",
       "0                   76.56                  26.05                       29.25   \n",
       "1                   76.55                  25.79                       29.31   \n",
       "2                   76.53                  25.56                       29.37   \n",
       "3                   76.51                  25.34                       29.44   \n",
       "4                   76.49                  25.12                       29.51   \n",
       "\n",
       "   mortality_rate_under5_female  mortality_rate_1to4  \\\n",
       "0                         22.91                 2.82   \n",
       "1                         22.36                 2.82   \n",
       "2                         21.83                 2.83   \n",
       "3                         21.31                 2.85   \n",
       "4                         20.80                 2.87   \n",
       "\n",
       "   mortality_rate_1to4_male  mortality_rate_1to4_female  \n",
       "0                      3.24                        2.40  \n",
       "1                      3.30                        2.36  \n",
       "2                      3.36                        2.33  \n",
       "3                      3.43                        2.29  \n",
       "4                      3.50                        2.26  "
      ]
     },
     "execution_count": 9,
     "metadata": {},
     "output_type": "execute_result"
    }
   ],
   "source": [
    "# Preview the first five lines of the table\n",
    "client.list_rows(table, max_results=5).to_dataframe()"
   ]
  },
  {
   "cell_type": "code",
   "execution_count": 10,
   "metadata": {},
   "outputs": [
    {
     "data": {
      "text/html": [
       "<div>\n",
       "<style scoped>\n",
       "    .dataframe tbody tr th:only-of-type {\n",
       "        vertical-align: middle;\n",
       "    }\n",
       "\n",
       "    .dataframe tbody tr th {\n",
       "        vertical-align: top;\n",
       "    }\n",
       "\n",
       "    .dataframe thead th {\n",
       "        text-align: right;\n",
       "    }\n",
       "</style>\n",
       "<table border=\"1\" class=\"dataframe\">\n",
       "  <thead>\n",
       "    <tr style=\"text-align: right;\">\n",
       "      <th></th>\n",
       "      <th>country_code</th>\n",
       "    </tr>\n",
       "  </thead>\n",
       "  <tbody>\n",
       "    <tr>\n",
       "      <th>0</th>\n",
       "      <td>AA</td>\n",
       "    </tr>\n",
       "    <tr>\n",
       "      <th>1</th>\n",
       "      <td>AA</td>\n",
       "    </tr>\n",
       "    <tr>\n",
       "      <th>2</th>\n",
       "      <td>AA</td>\n",
       "    </tr>\n",
       "    <tr>\n",
       "      <th>3</th>\n",
       "      <td>AA</td>\n",
       "    </tr>\n",
       "    <tr>\n",
       "      <th>4</th>\n",
       "      <td>AA</td>\n",
       "    </tr>\n",
       "  </tbody>\n",
       "</table>\n",
       "</div>"
      ],
      "text/plain": [
       "  country_code\n",
       "0           AA\n",
       "1           AA\n",
       "2           AA\n",
       "3           AA\n",
       "4           AA"
      ]
     },
     "execution_count": 10,
     "metadata": {},
     "output_type": "execute_result"
    }
   ],
   "source": [
    "# Preview the first five entries in the column of the table\n",
    "client.list_rows(table, selected_fields=table.schema[:1], max_results=5).to_dataframe()"
   ]
  },
  {
   "cell_type": "code",
   "execution_count": 14,
   "metadata": {},
   "outputs": [],
   "source": [
    "table = client.get_table(dataset_ref.table(\"country_names_area\"))"
   ]
  },
  {
   "cell_type": "code",
   "execution_count": 15,
   "metadata": {
    "scrolled": false
   },
   "outputs": [
    {
     "data": {
      "text/plain": [
       "[SchemaField('country_code', 'STRING', 'REQUIRED', 'Federal Information Processing Standard (FIPS) country/area code', ()),\n",
       " SchemaField('country_name', 'STRING', 'NULLABLE', 'Country or area name', ()),\n",
       " SchemaField('country_area', 'FLOAT', 'NULLABLE', 'Area in square kilometers', ())]"
      ]
     },
     "execution_count": 15,
     "metadata": {},
     "output_type": "execute_result"
    }
   ],
   "source": [
    "table.schema"
   ]
  },
  {
   "cell_type": "markdown",
   "metadata": {},
   "source": [
    "## Example 2: some basic commands\n",
    "\n",
    "SELECT FROM, WHERE, ORDER BY, LIMIT\n",
    "\n",
    "INNER JOIN"
   ]
  },
  {
   "cell_type": "code",
   "execution_count": 11,
   "metadata": {},
   "outputs": [],
   "source": [
    "query = \"\"\"\n",
    "#standardSQL\n",
    "SELECT\n",
    "  age.country_name,\n",
    "  age.life_expectancy,\n",
    "  size.country_area\n",
    "FROM (\n",
    "  SELECT\n",
    "    country_name,\n",
    "    life_expectancy\n",
    "  FROM\n",
    "    `bigquery-public-data.census_bureau_international.mortality_life_expectancy`\n",
    "  WHERE\n",
    "    year = 2016) age\n",
    "INNER JOIN (\n",
    "  SELECT\n",
    "    country_name,\n",
    "    country_area\n",
    "  FROM\n",
    "    `bigquery-public-data.census_bureau_international.country_names_area` where country_area > 25000) size\n",
    "ON\n",
    "  age.country_name = size.country_name\n",
    "ORDER BY\n",
    "  2 DESC\n",
    "/* Limit removed for Data Studio Visualization */\n",
    "LIMIT\n",
    "  100\n",
    "  \"\"\""
   ]
  },
  {
   "cell_type": "code",
   "execution_count": 12,
   "metadata": {},
   "outputs": [],
   "source": [
    "df = client.query(query).result().to_dataframe()"
   ]
  },
  {
   "cell_type": "code",
   "execution_count": 13,
   "metadata": {},
   "outputs": [
    {
     "data": {
      "text/html": [
       "<div>\n",
       "<style scoped>\n",
       "    .dataframe tbody tr th:only-of-type {\n",
       "        vertical-align: middle;\n",
       "    }\n",
       "\n",
       "    .dataframe tbody tr th {\n",
       "        vertical-align: top;\n",
       "    }\n",
       "\n",
       "    .dataframe thead th {\n",
       "        text-align: right;\n",
       "    }\n",
       "</style>\n",
       "<table border=\"1\" class=\"dataframe\">\n",
       "  <thead>\n",
       "    <tr style=\"text-align: right;\">\n",
       "      <th></th>\n",
       "      <th>country_name</th>\n",
       "      <th>life_expectancy</th>\n",
       "      <th>country_area</th>\n",
       "    </tr>\n",
       "  </thead>\n",
       "  <tbody>\n",
       "    <tr>\n",
       "      <th>0</th>\n",
       "      <td>Japan</td>\n",
       "      <td>85.00</td>\n",
       "      <td>364485.0</td>\n",
       "    </tr>\n",
       "    <tr>\n",
       "      <th>1</th>\n",
       "      <td>Iceland</td>\n",
       "      <td>83.02</td>\n",
       "      <td>100250.0</td>\n",
       "    </tr>\n",
       "    <tr>\n",
       "      <th>2</th>\n",
       "      <td>Switzerland</td>\n",
       "      <td>82.57</td>\n",
       "      <td>39997.0</td>\n",
       "    </tr>\n",
       "    <tr>\n",
       "      <th>3</th>\n",
       "      <td>Korea, South</td>\n",
       "      <td>82.43</td>\n",
       "      <td>96920.0</td>\n",
       "    </tr>\n",
       "    <tr>\n",
       "      <th>4</th>\n",
       "      <td>Australia</td>\n",
       "      <td>82.23</td>\n",
       "      <td>7682300.0</td>\n",
       "    </tr>\n",
       "    <tr>\n",
       "      <th>5</th>\n",
       "      <td>Italy</td>\n",
       "      <td>82.20</td>\n",
       "      <td>294140.0</td>\n",
       "    </tr>\n",
       "    <tr>\n",
       "      <th>6</th>\n",
       "      <td>Sweden</td>\n",
       "      <td>82.06</td>\n",
       "      <td>410335.0</td>\n",
       "    </tr>\n",
       "    <tr>\n",
       "      <th>7</th>\n",
       "      <td>Canada</td>\n",
       "      <td>81.85</td>\n",
       "      <td>9093507.0</td>\n",
       "    </tr>\n",
       "    <tr>\n",
       "      <th>8</th>\n",
       "      <td>France</td>\n",
       "      <td>81.84</td>\n",
       "      <td>640427.0</td>\n",
       "    </tr>\n",
       "    <tr>\n",
       "      <th>9</th>\n",
       "      <td>Norway</td>\n",
       "      <td>81.78</td>\n",
       "      <td>304282.0</td>\n",
       "    </tr>\n",
       "    <tr>\n",
       "      <th>10</th>\n",
       "      <td>Spain</td>\n",
       "      <td>81.66</td>\n",
       "      <td>498980.0</td>\n",
       "    </tr>\n",
       "    <tr>\n",
       "      <th>11</th>\n",
       "      <td>Austria</td>\n",
       "      <td>81.48</td>\n",
       "      <td>82445.0</td>\n",
       "    </tr>\n",
       "    <tr>\n",
       "      <th>12</th>\n",
       "      <td>Netherlands</td>\n",
       "      <td>81.33</td>\n",
       "      <td>33893.0</td>\n",
       "    </tr>\n",
       "    <tr>\n",
       "      <th>13</th>\n",
       "      <td>New Zealand</td>\n",
       "      <td>81.15</td>\n",
       "      <td>264537.0</td>\n",
       "    </tr>\n",
       "    <tr>\n",
       "      <th>14</th>\n",
       "      <td>Belgium</td>\n",
       "      <td>80.98</td>\n",
       "      <td>30278.0</td>\n",
       "    </tr>\n",
       "    <tr>\n",
       "      <th>15</th>\n",
       "      <td>Finland</td>\n",
       "      <td>80.88</td>\n",
       "      <td>303815.0</td>\n",
       "    </tr>\n",
       "    <tr>\n",
       "      <th>16</th>\n",
       "      <td>Denmark</td>\n",
       "      <td>80.81</td>\n",
       "      <td>42434.0</td>\n",
       "    </tr>\n",
       "    <tr>\n",
       "      <th>17</th>\n",
       "      <td>Ireland</td>\n",
       "      <td>80.79</td>\n",
       "      <td>68883.0</td>\n",
       "    </tr>\n",
       "    <tr>\n",
       "      <th>18</th>\n",
       "      <td>Germany</td>\n",
       "      <td>80.68</td>\n",
       "      <td>348672.0</td>\n",
       "    </tr>\n",
       "    <tr>\n",
       "      <th>19</th>\n",
       "      <td>United Kingdom</td>\n",
       "      <td>80.65</td>\n",
       "      <td>241930.0</td>\n",
       "    </tr>\n",
       "  </tbody>\n",
       "</table>\n",
       "</div>"
      ],
      "text/plain": [
       "      country_name  life_expectancy  country_area\n",
       "0            Japan            85.00      364485.0\n",
       "1          Iceland            83.02      100250.0\n",
       "2      Switzerland            82.57       39997.0\n",
       "3     Korea, South            82.43       96920.0\n",
       "4        Australia            82.23     7682300.0\n",
       "5            Italy            82.20      294140.0\n",
       "6           Sweden            82.06      410335.0\n",
       "7           Canada            81.85     9093507.0\n",
       "8           France            81.84      640427.0\n",
       "9           Norway            81.78      304282.0\n",
       "10           Spain            81.66      498980.0\n",
       "11         Austria            81.48       82445.0\n",
       "12     Netherlands            81.33       33893.0\n",
       "13     New Zealand            81.15      264537.0\n",
       "14         Belgium            80.98       30278.0\n",
       "15         Finland            80.88      303815.0\n",
       "16         Denmark            80.81       42434.0\n",
       "17         Ireland            80.79       68883.0\n",
       "18         Germany            80.68      348672.0\n",
       "19  United Kingdom            80.65      241930.0"
      ]
     },
     "execution_count": 13,
     "metadata": {},
     "output_type": "execute_result"
    }
   ],
   "source": [
    "df.head(20)"
   ]
  },
  {
   "cell_type": "markdown",
   "metadata": {},
   "source": [
    "## Example 3:  more commands\n",
    "\n",
    "dataset: usa_name \n",
    "\n",
    "GROUP BY, HAVING\n",
    "\n",
    "MAX, MIN, SUM, COALESCE, RANK OVER\n",
    "\n",
    "BETWEEN AND\n",
    "\n",
    "WITH ... AS\n",
    "\n"
   ]
  },
  {
   "cell_type": "code",
   "execution_count": 16,
   "metadata": {},
   "outputs": [],
   "source": [
    "# Construct a reference to the dataset\n",
    "dataset_ref = client.dataset(\"usa_names\", project=\"bigquery-public-data\")\n",
    "\n",
    "# API request - fetch the dataset\n",
    "dataset = client.get_dataset(dataset_ref)"
   ]
  },
  {
   "cell_type": "code",
   "execution_count": 17,
   "metadata": {
    "scrolled": true
   },
   "outputs": [
    {
     "name": "stdout",
     "output_type": "stream",
     "text": [
      "usa_1910_2013\n",
      "usa_1910_current\n"
     ]
    }
   ],
   "source": [
    "# List all the tables in the dataset\n",
    "tables = list(client.list_tables(dataset))\n",
    "\n",
    "# Print names of all tables in the dataset (there are four!)\n",
    "for table in tables:  \n",
    "    print(table.table_id)"
   ]
  },
  {
   "cell_type": "code",
   "execution_count": 18,
   "metadata": {},
   "outputs": [
    {
     "data": {
      "text/plain": [
       "2"
      ]
     },
     "execution_count": 18,
     "metadata": {},
     "output_type": "execute_result"
    }
   ],
   "source": [
    "len(tables)"
   ]
  },
  {
   "cell_type": "code",
   "execution_count": 19,
   "metadata": {},
   "outputs": [],
   "source": [
    "# Construct a reference to the \"...\" table\n",
    "table_ref = dataset_ref.table(\"usa_1910_current\")\n",
    "\n",
    "# API request - fetch the table\n",
    "table = client.get_table(table_ref)"
   ]
  },
  {
   "cell_type": "code",
   "execution_count": 20,
   "metadata": {},
   "outputs": [
    {
     "data": {
      "text/plain": [
       "[SchemaField('state', 'STRING', 'NULLABLE', '2-digit state code', ()),\n",
       " SchemaField('gender', 'STRING', 'NULLABLE', 'Sex (M=male or F=female)', ()),\n",
       " SchemaField('year', 'INTEGER', 'NULLABLE', '4-digit year of birth', ()),\n",
       " SchemaField('name', 'STRING', 'NULLABLE', 'Given name of a person at birth', ()),\n",
       " SchemaField('number', 'INTEGER', 'NULLABLE', 'Number of occurrences of the name', ())]"
      ]
     },
     "execution_count": 20,
     "metadata": {},
     "output_type": "execute_result"
    }
   ],
   "source": [
    "# Print information on all the columns in the \"full\" table in the \"hacker_news\" dataset\n",
    "table.schema"
   ]
  },
  {
   "cell_type": "code",
   "execution_count": 21,
   "metadata": {},
   "outputs": [
    {
     "data": {
      "text/html": [
       "<div>\n",
       "<style scoped>\n",
       "    .dataframe tbody tr th:only-of-type {\n",
       "        vertical-align: middle;\n",
       "    }\n",
       "\n",
       "    .dataframe tbody tr th {\n",
       "        vertical-align: top;\n",
       "    }\n",
       "\n",
       "    .dataframe thead th {\n",
       "        text-align: right;\n",
       "    }\n",
       "</style>\n",
       "<table border=\"1\" class=\"dataframe\">\n",
       "  <thead>\n",
       "    <tr style=\"text-align: right;\">\n",
       "      <th></th>\n",
       "      <th>state</th>\n",
       "      <th>gender</th>\n",
       "      <th>year</th>\n",
       "      <th>name</th>\n",
       "      <th>number</th>\n",
       "    </tr>\n",
       "  </thead>\n",
       "  <tbody>\n",
       "    <tr>\n",
       "      <th>0</th>\n",
       "      <td>OH</td>\n",
       "      <td>F</td>\n",
       "      <td>1910</td>\n",
       "      <td>Mary</td>\n",
       "      <td>1099</td>\n",
       "    </tr>\n",
       "    <tr>\n",
       "      <th>1</th>\n",
       "      <td>OH</td>\n",
       "      <td>F</td>\n",
       "      <td>1910</td>\n",
       "      <td>Helen</td>\n",
       "      <td>698</td>\n",
       "    </tr>\n",
       "    <tr>\n",
       "      <th>2</th>\n",
       "      <td>OH</td>\n",
       "      <td>F</td>\n",
       "      <td>1910</td>\n",
       "      <td>Dorothy</td>\n",
       "      <td>487</td>\n",
       "    </tr>\n",
       "    <tr>\n",
       "      <th>3</th>\n",
       "      <td>OH</td>\n",
       "      <td>F</td>\n",
       "      <td>1910</td>\n",
       "      <td>Ruth</td>\n",
       "      <td>457</td>\n",
       "    </tr>\n",
       "    <tr>\n",
       "      <th>4</th>\n",
       "      <td>OH</td>\n",
       "      <td>F</td>\n",
       "      <td>1910</td>\n",
       "      <td>Margaret</td>\n",
       "      <td>452</td>\n",
       "    </tr>\n",
       "  </tbody>\n",
       "</table>\n",
       "</div>"
      ],
      "text/plain": [
       "  state gender  year      name  number\n",
       "0    OH      F  1910      Mary    1099\n",
       "1    OH      F  1910     Helen     698\n",
       "2    OH      F  1910   Dorothy     487\n",
       "3    OH      F  1910      Ruth     457\n",
       "4    OH      F  1910  Margaret     452"
      ]
     },
     "execution_count": 21,
     "metadata": {},
     "output_type": "execute_result"
    }
   ],
   "source": [
    "client.list_rows(table, max_results=5).to_dataframe()"
   ]
  },
  {
   "cell_type": "markdown",
   "metadata": {},
   "source": [
    "### check current year"
   ]
  },
  {
   "cell_type": "code",
   "execution_count": 22,
   "metadata": {},
   "outputs": [],
   "source": [
    "query1 = \"\"\"\n",
    "#standardSQL\n",
    "SELECT\n",
    "  MIN(names.year) AS first_year,\n",
    "  MAX(names.year) AS current_year \n",
    "FROM\n",
    "  `bigquery-public-data.usa_names.usa_1910_current` AS names \n",
    "\n",
    "\n",
    "  \"\"\""
   ]
  },
  {
   "cell_type": "code",
   "execution_count": 23,
   "metadata": {
    "scrolled": true
   },
   "outputs": [
    {
     "data": {
      "text/html": [
       "<div>\n",
       "<style scoped>\n",
       "    .dataframe tbody tr th:only-of-type {\n",
       "        vertical-align: middle;\n",
       "    }\n",
       "\n",
       "    .dataframe tbody tr th {\n",
       "        vertical-align: top;\n",
       "    }\n",
       "\n",
       "    .dataframe thead th {\n",
       "        text-align: right;\n",
       "    }\n",
       "</style>\n",
       "<table border=\"1\" class=\"dataframe\">\n",
       "  <thead>\n",
       "    <tr style=\"text-align: right;\">\n",
       "      <th></th>\n",
       "      <th>first_year</th>\n",
       "      <th>current_year</th>\n",
       "    </tr>\n",
       "  </thead>\n",
       "  <tbody>\n",
       "    <tr>\n",
       "      <th>0</th>\n",
       "      <td>1910</td>\n",
       "      <td>2018</td>\n",
       "    </tr>\n",
       "  </tbody>\n",
       "</table>\n",
       "</div>"
      ],
      "text/plain": [
       "   first_year  current_year\n",
       "0        1910          2018"
      ]
     },
     "execution_count": 23,
     "metadata": {},
     "output_type": "execute_result"
    }
   ],
   "source": [
    "client.query(query1).result().to_dataframe()"
   ]
  },
  {
   "cell_type": "markdown",
   "metadata": {},
   "source": [
    "### popular Male name in 21st century\n",
    "\n",
    "but only show those have more than 300,000 count"
   ]
  },
  {
   "cell_type": "code",
   "execution_count": 51,
   "metadata": {},
   "outputs": [],
   "source": [
    "query2 = \"\"\"\n",
    "#standardSQL\n",
    "SELECT\n",
    "  names.name AS name,\n",
    "    COALESCE(SUM(names .number),\n",
    "    0) AS count\n",
    "FROM\n",
    "  `bigquery-public-data.usa_names.usa_1910_current` AS names \n",
    "WHERE\n",
    "  names.gender = 'M' AND  names.year > 1999\n",
    "GROUP BY\n",
    "  1\n",
    "HAVING SUM(names.number) > 300000\n",
    "ORDER BY\n",
    "  2 DESC\n",
    "LIMIT\n",
    "  100\n",
    "  \"\"\""
   ]
  },
  {
   "cell_type": "markdown",
   "metadata": {},
   "source": [
    "### dry run for estimate data size"
   ]
  },
  {
   "cell_type": "code",
   "execution_count": 52,
   "metadata": {},
   "outputs": [
    {
     "name": "stdout",
     "output_type": "stream",
     "text": [
      "This query will process 162.0 MB bytes.\n"
     ]
    }
   ],
   "source": [
    "# Create a QueryJobConfig object to estimate size of query without running it\n",
    "dry_run_config = bigquery.QueryJobConfig(dry_run=True)\n",
    "\n",
    "# API request - dry run query to estimate costs\n",
    "dry_run_query_job = client.query(query2, job_config=dry_run_config)\n",
    "\n",
    "print(\"This query will process {} bytes.\".format(humanize.naturalsize(dry_run_query_job.total_bytes_processed)))"
   ]
  },
  {
   "cell_type": "code",
   "execution_count": 53,
   "metadata": {},
   "outputs": [],
   "source": [
    "df2 = client.query(query2).result().to_dataframe()"
   ]
  },
  {
   "cell_type": "code",
   "execution_count": 54,
   "metadata": {
    "scrolled": false
   },
   "outputs": [
    {
     "data": {
      "text/html": [
       "<div>\n",
       "<style scoped>\n",
       "    .dataframe tbody tr th:only-of-type {\n",
       "        vertical-align: middle;\n",
       "    }\n",
       "\n",
       "    .dataframe tbody tr th {\n",
       "        vertical-align: top;\n",
       "    }\n",
       "\n",
       "    .dataframe thead th {\n",
       "        text-align: right;\n",
       "    }\n",
       "</style>\n",
       "<table border=\"1\" class=\"dataframe\">\n",
       "  <thead>\n",
       "    <tr style=\"text-align: right;\">\n",
       "      <th></th>\n",
       "      <th>name</th>\n",
       "      <th>count</th>\n",
       "    </tr>\n",
       "  </thead>\n",
       "  <tbody>\n",
       "    <tr>\n",
       "      <th>0</th>\n",
       "      <td>Jacob</td>\n",
       "      <td>425864</td>\n",
       "    </tr>\n",
       "    <tr>\n",
       "      <th>1</th>\n",
       "      <td>Michael</td>\n",
       "      <td>384597</td>\n",
       "    </tr>\n",
       "    <tr>\n",
       "      <th>2</th>\n",
       "      <td>William</td>\n",
       "      <td>340194</td>\n",
       "    </tr>\n",
       "    <tr>\n",
       "      <th>3</th>\n",
       "      <td>Ethan</td>\n",
       "      <td>339287</td>\n",
       "    </tr>\n",
       "    <tr>\n",
       "      <th>4</th>\n",
       "      <td>Matthew</td>\n",
       "      <td>336999</td>\n",
       "    </tr>\n",
       "    <tr>\n",
       "      <th>5</th>\n",
       "      <td>Joshua</td>\n",
       "      <td>331153</td>\n",
       "    </tr>\n",
       "    <tr>\n",
       "      <th>6</th>\n",
       "      <td>Daniel</td>\n",
       "      <td>326682</td>\n",
       "    </tr>\n",
       "    <tr>\n",
       "      <th>7</th>\n",
       "      <td>Alexander</td>\n",
       "      <td>309239</td>\n",
       "    </tr>\n",
       "    <tr>\n",
       "      <th>8</th>\n",
       "      <td>Noah</td>\n",
       "      <td>307073</td>\n",
       "    </tr>\n",
       "    <tr>\n",
       "      <th>9</th>\n",
       "      <td>Joseph</td>\n",
       "      <td>300849</td>\n",
       "    </tr>\n",
       "    <tr>\n",
       "      <th>10</th>\n",
       "      <td>Andrew</td>\n",
       "      <td>300385</td>\n",
       "    </tr>\n",
       "  </tbody>\n",
       "</table>\n",
       "</div>"
      ],
      "text/plain": [
       "         name   count\n",
       "0       Jacob  425864\n",
       "1     Michael  384597\n",
       "2     William  340194\n",
       "3       Ethan  339287\n",
       "4     Matthew  336999\n",
       "5      Joshua  331153\n",
       "6      Daniel  326682\n",
       "7   Alexander  309239\n",
       "8        Noah  307073\n",
       "9      Joseph  300849\n",
       "10     Andrew  300385"
      ]
     },
     "execution_count": 54,
     "metadata": {},
     "output_type": "execute_result"
    }
   ],
   "source": [
    "df2.head(20)"
   ]
  },
  {
   "cell_type": "markdown",
   "metadata": {},
   "source": [
    "### popular female name in the 90s"
   ]
  },
  {
   "cell_type": "code",
   "execution_count": 28,
   "metadata": {},
   "outputs": [],
   "source": [
    "query3 = \"\"\"\n",
    "#standardSQL\n",
    "SELECT\n",
    "  names.name AS name,\n",
    "  COALESCE(SUM(names.number), 0) AS count\n",
    "FROM\n",
    "  `bigquery-public-data.usa_names.usa_1910_current` AS names \n",
    "WHERE\n",
    "  names.gender = 'F' AND  names.year BETWEEN 1990 AND 1999\n",
    "GROUP BY\n",
    "  1\n",
    "ORDER BY\n",
    "  2 DESC\n",
    "LIMIT\n",
    "  100\n",
    "  \"\"\""
   ]
  },
  {
   "cell_type": "code",
   "execution_count": 29,
   "metadata": {},
   "outputs": [],
   "source": [
    "df3 = client.query(query3).result().to_dataframe()"
   ]
  },
  {
   "cell_type": "code",
   "execution_count": 30,
   "metadata": {},
   "outputs": [
    {
     "data": {
      "text/html": [
       "<div>\n",
       "<style scoped>\n",
       "    .dataframe tbody tr th:only-of-type {\n",
       "        vertical-align: middle;\n",
       "    }\n",
       "\n",
       "    .dataframe tbody tr th {\n",
       "        vertical-align: top;\n",
       "    }\n",
       "\n",
       "    .dataframe thead th {\n",
       "        text-align: right;\n",
       "    }\n",
       "</style>\n",
       "<table border=\"1\" class=\"dataframe\">\n",
       "  <thead>\n",
       "    <tr style=\"text-align: right;\">\n",
       "      <th></th>\n",
       "      <th>name</th>\n",
       "      <th>count</th>\n",
       "    </tr>\n",
       "  </thead>\n",
       "  <tbody>\n",
       "    <tr>\n",
       "      <th>0</th>\n",
       "      <td>Jessica</td>\n",
       "      <td>303094</td>\n",
       "    </tr>\n",
       "    <tr>\n",
       "      <th>1</th>\n",
       "      <td>Ashley</td>\n",
       "      <td>301803</td>\n",
       "    </tr>\n",
       "    <tr>\n",
       "      <th>2</th>\n",
       "      <td>Emily</td>\n",
       "      <td>237232</td>\n",
       "    </tr>\n",
       "    <tr>\n",
       "      <th>3</th>\n",
       "      <td>Sarah</td>\n",
       "      <td>224338</td>\n",
       "    </tr>\n",
       "    <tr>\n",
       "      <th>4</th>\n",
       "      <td>Samantha</td>\n",
       "      <td>224000</td>\n",
       "    </tr>\n",
       "    <tr>\n",
       "      <th>5</th>\n",
       "      <td>Amanda</td>\n",
       "      <td>191088</td>\n",
       "    </tr>\n",
       "    <tr>\n",
       "      <th>6</th>\n",
       "      <td>Brittany</td>\n",
       "      <td>190812</td>\n",
       "    </tr>\n",
       "    <tr>\n",
       "      <th>7</th>\n",
       "      <td>Elizabeth</td>\n",
       "      <td>172645</td>\n",
       "    </tr>\n",
       "    <tr>\n",
       "      <th>8</th>\n",
       "      <td>Taylor</td>\n",
       "      <td>169016</td>\n",
       "    </tr>\n",
       "    <tr>\n",
       "      <th>9</th>\n",
       "      <td>Megan</td>\n",
       "      <td>160356</td>\n",
       "    </tr>\n",
       "    <tr>\n",
       "      <th>10</th>\n",
       "      <td>Hannah</td>\n",
       "      <td>158783</td>\n",
       "    </tr>\n",
       "    <tr>\n",
       "      <th>11</th>\n",
       "      <td>Kayla</td>\n",
       "      <td>155882</td>\n",
       "    </tr>\n",
       "    <tr>\n",
       "      <th>12</th>\n",
       "      <td>Lauren</td>\n",
       "      <td>153572</td>\n",
       "    </tr>\n",
       "    <tr>\n",
       "      <th>13</th>\n",
       "      <td>Stephanie</td>\n",
       "      <td>149814</td>\n",
       "    </tr>\n",
       "    <tr>\n",
       "      <th>14</th>\n",
       "      <td>Rachel</td>\n",
       "      <td>149127</td>\n",
       "    </tr>\n",
       "    <tr>\n",
       "      <th>15</th>\n",
       "      <td>Jennifer</td>\n",
       "      <td>148021</td>\n",
       "    </tr>\n",
       "    <tr>\n",
       "      <th>16</th>\n",
       "      <td>Nicole</td>\n",
       "      <td>136095</td>\n",
       "    </tr>\n",
       "    <tr>\n",
       "      <th>17</th>\n",
       "      <td>Alexis</td>\n",
       "      <td>131185</td>\n",
       "    </tr>\n",
       "    <tr>\n",
       "      <th>18</th>\n",
       "      <td>Victoria</td>\n",
       "      <td>117459</td>\n",
       "    </tr>\n",
       "    <tr>\n",
       "      <th>19</th>\n",
       "      <td>Amber</td>\n",
       "      <td>115594</td>\n",
       "    </tr>\n",
       "  </tbody>\n",
       "</table>\n",
       "</div>"
      ],
      "text/plain": [
       "         name   count\n",
       "0     Jessica  303094\n",
       "1      Ashley  301803\n",
       "2       Emily  237232\n",
       "3       Sarah  224338\n",
       "4    Samantha  224000\n",
       "5      Amanda  191088\n",
       "6    Brittany  190812\n",
       "7   Elizabeth  172645\n",
       "8      Taylor  169016\n",
       "9       Megan  160356\n",
       "10     Hannah  158783\n",
       "11      Kayla  155882\n",
       "12     Lauren  153572\n",
       "13  Stephanie  149814\n",
       "14     Rachel  149127\n",
       "15   Jennifer  148021\n",
       "16     Nicole  136095\n",
       "17     Alexis  131185\n",
       "18   Victoria  117459\n",
       "19      Amber  115594"
      ]
     },
     "execution_count": 30,
     "metadata": {},
     "output_type": "execute_result"
    }
   ],
   "source": [
    "df3.head(20)"
   ]
  },
  {
   "cell_type": "markdown",
   "metadata": {},
   "source": [
    "<h3 id=\"List-top-3-most-popular-names-of-each-state\">List top 3 most popular names of 21st century of each state</h3>\n",
    "\n",
    "<ol>\n",
    "\t<li>group by state and name</li>\n",
    "\t<li>rank the count in each state</li>\n",
    "\t<li>keep the top 3 of each state</li>\n",
    "</ol>\n"
   ]
  },
  {
   "cell_type": "code",
   "execution_count": 46,
   "metadata": {},
   "outputs": [],
   "source": [
    "query4 = \"\"\"\n",
    "#standardSQL\n",
    "\n",
    "\n",
    "WITH name_state_rank AS(\n",
    "SELECT\n",
    "  state,\n",
    "  name,\n",
    "  COALESCE(SUM(number), 0)  AS name_count,\n",
    "  RANK() OVER (\n",
    "            PARTITION BY state\n",
    "            ORDER BY COALESCE(SUM(number), 0) DESC) AS ranking\n",
    "\n",
    "FROM\n",
    "  `bigquery-public-data.usa_names.usa_1910_current` \n",
    "WHERE\n",
    "  gender = 'M' AND  year > 1999\n",
    "GROUP BY\n",
    "  1,2\n",
    "HAVING SUM(number) >500\n",
    "ORDER BY\n",
    "  1 ASC, 3 DESC\n",
    ")\n",
    "\n",
    "SELECT * \n",
    "FROM name_state_rank\n",
    "WHERE ranking < 4\n",
    "\n",
    "\n",
    "LIMIT\n",
    "  200\n",
    "  \"\"\""
   ]
  },
  {
   "cell_type": "code",
   "execution_count": 47,
   "metadata": {},
   "outputs": [
    {
     "name": "stdout",
     "output_type": "stream",
     "text": [
      "This query will process 186.1 MB bytes.\n"
     ]
    }
   ],
   "source": [
    "# Create a QueryJobConfig object to estimate size of query without running it\n",
    "dry_run_config = bigquery.QueryJobConfig(dry_run=True)\n",
    "\n",
    "# API request - dry run query to estimate costs\n",
    "dry_run_query_job = client.query(query4, job_config=dry_run_config)\n",
    "\n",
    "print(\"This query will process {} bytes.\".format(humanize.naturalsize(dry_run_query_job.total_bytes_processed)))"
   ]
  },
  {
   "cell_type": "code",
   "execution_count": 48,
   "metadata": {},
   "outputs": [],
   "source": [
    "df4 = client.query(query4).result().to_dataframe()"
   ]
  },
  {
   "cell_type": "code",
   "execution_count": 49,
   "metadata": {
    "scrolled": false
   },
   "outputs": [
    {
     "data": {
      "text/html": [
       "<div>\n",
       "<style scoped>\n",
       "    .dataframe tbody tr th:only-of-type {\n",
       "        vertical-align: middle;\n",
       "    }\n",
       "\n",
       "    .dataframe tbody tr th {\n",
       "        vertical-align: top;\n",
       "    }\n",
       "\n",
       "    .dataframe thead th {\n",
       "        text-align: right;\n",
       "    }\n",
       "</style>\n",
       "<table border=\"1\" class=\"dataframe\">\n",
       "  <thead>\n",
       "    <tr style=\"text-align: right;\">\n",
       "      <th></th>\n",
       "      <th>state</th>\n",
       "      <th>name</th>\n",
       "      <th>name_count</th>\n",
       "      <th>ranking</th>\n",
       "    </tr>\n",
       "  </thead>\n",
       "  <tbody>\n",
       "    <tr>\n",
       "      <th>0</th>\n",
       "      <td>AK</td>\n",
       "      <td>James</td>\n",
       "      <td>948</td>\n",
       "      <td>1</td>\n",
       "    </tr>\n",
       "    <tr>\n",
       "      <th>1</th>\n",
       "      <td>AK</td>\n",
       "      <td>Michael</td>\n",
       "      <td>913</td>\n",
       "      <td>2</td>\n",
       "    </tr>\n",
       "    <tr>\n",
       "      <th>2</th>\n",
       "      <td>AK</td>\n",
       "      <td>Jacob</td>\n",
       "      <td>910</td>\n",
       "      <td>3</td>\n",
       "    </tr>\n",
       "    <tr>\n",
       "      <th>3</th>\n",
       "      <td>AL</td>\n",
       "      <td>William</td>\n",
       "      <td>9762</td>\n",
       "      <td>1</td>\n",
       "    </tr>\n",
       "    <tr>\n",
       "      <th>4</th>\n",
       "      <td>AL</td>\n",
       "      <td>James</td>\n",
       "      <td>6937</td>\n",
       "      <td>2</td>\n",
       "    </tr>\n",
       "    <tr>\n",
       "      <th>5</th>\n",
       "      <td>AL</td>\n",
       "      <td>John</td>\n",
       "      <td>6534</td>\n",
       "      <td>3</td>\n",
       "    </tr>\n",
       "    <tr>\n",
       "      <th>6</th>\n",
       "      <td>AR</td>\n",
       "      <td>William</td>\n",
       "      <td>4084</td>\n",
       "      <td>1</td>\n",
       "    </tr>\n",
       "    <tr>\n",
       "      <th>7</th>\n",
       "      <td>AR</td>\n",
       "      <td>Jacob</td>\n",
       "      <td>3832</td>\n",
       "      <td>2</td>\n",
       "    </tr>\n",
       "    <tr>\n",
       "      <th>8</th>\n",
       "      <td>AR</td>\n",
       "      <td>Ethan</td>\n",
       "      <td>3289</td>\n",
       "      <td>3</td>\n",
       "    </tr>\n",
       "    <tr>\n",
       "      <th>9</th>\n",
       "      <td>AZ</td>\n",
       "      <td>Jacob</td>\n",
       "      <td>9183</td>\n",
       "      <td>1</td>\n",
       "    </tr>\n",
       "    <tr>\n",
       "      <th>10</th>\n",
       "      <td>AZ</td>\n",
       "      <td>Daniel</td>\n",
       "      <td>8669</td>\n",
       "      <td>2</td>\n",
       "    </tr>\n",
       "    <tr>\n",
       "      <th>11</th>\n",
       "      <td>AZ</td>\n",
       "      <td>Michael</td>\n",
       "      <td>8209</td>\n",
       "      <td>3</td>\n",
       "    </tr>\n",
       "    <tr>\n",
       "      <th>12</th>\n",
       "      <td>CA</td>\n",
       "      <td>Daniel</td>\n",
       "      <td>62345</td>\n",
       "      <td>1</td>\n",
       "    </tr>\n",
       "    <tr>\n",
       "      <th>13</th>\n",
       "      <td>CA</td>\n",
       "      <td>Jacob</td>\n",
       "      <td>56130</td>\n",
       "      <td>2</td>\n",
       "    </tr>\n",
       "    <tr>\n",
       "      <th>14</th>\n",
       "      <td>CA</td>\n",
       "      <td>Anthony</td>\n",
       "      <td>55675</td>\n",
       "      <td>3</td>\n",
       "    </tr>\n",
       "    <tr>\n",
       "      <th>15</th>\n",
       "      <td>CO</td>\n",
       "      <td>Jacob</td>\n",
       "      <td>6328</td>\n",
       "      <td>1</td>\n",
       "    </tr>\n",
       "    <tr>\n",
       "      <th>16</th>\n",
       "      <td>CO</td>\n",
       "      <td>Alexander</td>\n",
       "      <td>5681</td>\n",
       "      <td>2</td>\n",
       "    </tr>\n",
       "    <tr>\n",
       "      <th>17</th>\n",
       "      <td>CO</td>\n",
       "      <td>William</td>\n",
       "      <td>5275</td>\n",
       "      <td>3</td>\n",
       "    </tr>\n",
       "    <tr>\n",
       "      <th>18</th>\n",
       "      <td>CT</td>\n",
       "      <td>Michael</td>\n",
       "      <td>5676</td>\n",
       "      <td>1</td>\n",
       "    </tr>\n",
       "    <tr>\n",
       "      <th>19</th>\n",
       "      <td>CT</td>\n",
       "      <td>Matthew</td>\n",
       "      <td>5054</td>\n",
       "      <td>2</td>\n",
       "    </tr>\n",
       "  </tbody>\n",
       "</table>\n",
       "</div>"
      ],
      "text/plain": [
       "   state       name  name_count  ranking\n",
       "0     AK      James         948        1\n",
       "1     AK    Michael         913        2\n",
       "2     AK      Jacob         910        3\n",
       "3     AL    William        9762        1\n",
       "4     AL      James        6937        2\n",
       "5     AL       John        6534        3\n",
       "6     AR    William        4084        1\n",
       "7     AR      Jacob        3832        2\n",
       "8     AR      Ethan        3289        3\n",
       "9     AZ      Jacob        9183        1\n",
       "10    AZ     Daniel        8669        2\n",
       "11    AZ    Michael        8209        3\n",
       "12    CA     Daniel       62345        1\n",
       "13    CA      Jacob       56130        2\n",
       "14    CA    Anthony       55675        3\n",
       "15    CO      Jacob        6328        1\n",
       "16    CO  Alexander        5681        2\n",
       "17    CO    William        5275        3\n",
       "18    CT    Michael        5676        1\n",
       "19    CT    Matthew        5054        2"
      ]
     },
     "execution_count": 49,
     "metadata": {},
     "output_type": "execute_result"
    }
   ],
   "source": [
    "df4.head(20)"
   ]
  },
  {
   "cell_type": "markdown",
   "metadata": {},
   "source": [
    "<h2 id=\"Reference\">Reference</h2>\n",
    "\n",
    "\n",
    "<ul>\n",
    "\t<li>Kaggle SQL lessons&nbsp;<a href=\"https://www.kaggle.com/learn/intro-to-sql\">https://www.kaggle.com/learn/intro-to-sql</a></li>\n",
    "\t<li>w3schools SQL tutorial&nbsp;<a href=\"https://www.w3schools.com/sql/default.asp\">https://www.w3schools.com/sql/default.asp</a></li>\n",
    "</ul>\n",
    "\n",
    "<p>&nbsp;</p>\n"
   ]
  }
 ],
 "metadata": {
  "kernelspec": {
   "display_name": "Python 3",
   "language": "python",
   "name": "python3"
  },
  "language_info": {
   "codemirror_mode": {
    "name": "ipython",
    "version": 3
   },
   "file_extension": ".py",
   "mimetype": "text/x-python",
   "name": "python",
   "nbconvert_exporter": "python",
   "pygments_lexer": "ipython3",
   "version": "3.6.7"
  }
 },
 "nbformat": 4,
 "nbformat_minor": 2
}
