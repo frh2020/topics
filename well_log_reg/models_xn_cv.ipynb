{
  "nbformat": 4,
  "nbformat_minor": 0,
  "metadata": {
    "colab": {
      "name": "__models_xn_cv_g.ipynb",
      "provenance": [],
      "collapsed_sections": [],
      "toc_visible": true
    },
    "kernelspec": {
      "name": "python3",
      "display_name": "Python 3"
    }
  },
  "cells": [
    {
      "cell_type": "markdown",
      "metadata": {
        "id": "gItIBj5dgDiE"
      },
      "source": [
        "# Linear regression algorithm test\n",
        "\n",
        "Standardized X data, without \"depth\" attribute\n",
        "\n",
        "Model: dtsm = a0 \\* gamma + a1 \\* rho + a2 \\* dtco + a3 \\* dtco ^2 + b  \n",
        "\n",
        "Only Vp carries a quadratic term\n",
        "\n",
        "Comparing LAD, Lasso, Ridge, and OLS\n",
        "\n",
        "Modified from model_09_cv_xn_vp2"
      ]
    },
    {
      "cell_type": "code",
      "metadata": {
        "id": "Nrg0cI46gmgI"
      },
      "source": [
        "import pandas as pd\n",
        "import numpy as np\n",
        "\n",
        "from sklearn import linear_model, preprocessing, metrics\n",
        "from sklearn.linear_model import Lasso, Ridge\n",
        "from sklearn.model_selection import train_test_split, GridSearchCV, cross_validate\n",
        "from sklearn.pipeline import Pipeline\n",
        "from sklearn.metrics import mean_squared_error, r2_score #, mean_absolute_percentage_error\n",
        "\n",
        "from sklearn.base import BaseEstimator, RegressorMixin\n",
        "from sklearn.utils.validation import check_X_y, check_array, check_is_fitted\n",
        "from scipy.optimize import minimize\n",
        "\n",
        "import matplotlib.pyplot as plt\n",
        "import seaborn as sns\n",
        "\n",
        "import pickle\n",
        "\n",
        "#from ipywidgets import interact, interactive, IntSlider\n",
        "\n"
      ],
      "execution_count": null,
      "outputs": []
    },
    {
      "cell_type": "markdown",
      "metadata": {
        "id": "LAEMbiB2X8pN"
      },
      "source": [
        "current sklearn version: 0.22.2.post1 has no 'mean_absolute_precentage_error' metric"
      ]
    },
    {
      "cell_type": "code",
      "metadata": {
        "id": "T7u8vYHZQv7s"
      },
      "source": [
        "data = pd. read_csv('train_wells_20210131_cln_bal.csv')"
      ],
      "execution_count": null,
      "outputs": []
    },
    {
      "cell_type": "code",
      "metadata": {
        "colab": {
          "base_uri": "https://localhost:8080/",
          "height": 204
        },
        "id": "UvHmpT-HQ9Ne",
        "outputId": "bb1e59c3-7320-4b57-b406-aabd3236e1d4"
      },
      "source": [
        "data.head()"
      ],
      "execution_count": null,
      "outputs": [
        {
          "output_type": "execute_result",
          "data": {
            "text/html": [
              "<div>\n",
              "<style scoped>\n",
              "    .dataframe tbody tr th:only-of-type {\n",
              "        vertical-align: middle;\n",
              "    }\n",
              "\n",
              "    .dataframe tbody tr th {\n",
              "        vertical-align: top;\n",
              "    }\n",
              "\n",
              "    .dataframe thead th {\n",
              "        text-align: right;\n",
              "    }\n",
              "</style>\n",
              "<table border=\"1\" class=\"dataframe\">\n",
              "  <thead>\n",
              "    <tr style=\"text-align: right;\">\n",
              "      <th></th>\n",
              "      <th>Depth</th>\n",
              "      <th>DTSM</th>\n",
              "      <th>DTCO</th>\n",
              "      <th>GAMMA</th>\n",
              "      <th>RHO</th>\n",
              "    </tr>\n",
              "  </thead>\n",
              "  <tbody>\n",
              "    <tr>\n",
              "      <th>0</th>\n",
              "      <td>5599.5</td>\n",
              "      <td>96.6386</td>\n",
              "      <td>51.8027</td>\n",
              "      <td>9.7354</td>\n",
              "      <td>2.9895</td>\n",
              "    </tr>\n",
              "    <tr>\n",
              "      <th>1</th>\n",
              "      <td>7633.0</td>\n",
              "      <td>97.9295</td>\n",
              "      <td>52.9170</td>\n",
              "      <td>65.4203</td>\n",
              "      <td>2.7899</td>\n",
              "    </tr>\n",
              "    <tr>\n",
              "      <th>2</th>\n",
              "      <td>11252.5</td>\n",
              "      <td>107.3234</td>\n",
              "      <td>59.3721</td>\n",
              "      <td>86.6629</td>\n",
              "      <td>2.5935</td>\n",
              "    </tr>\n",
              "    <tr>\n",
              "      <th>3</th>\n",
              "      <td>13116.5</td>\n",
              "      <td>99.6733</td>\n",
              "      <td>48.6408</td>\n",
              "      <td>16.7107</td>\n",
              "      <td>2.7033</td>\n",
              "    </tr>\n",
              "    <tr>\n",
              "      <th>4</th>\n",
              "      <td>6815.0</td>\n",
              "      <td>94.6977</td>\n",
              "      <td>49.2636</td>\n",
              "      <td>8.3603</td>\n",
              "      <td>2.7049</td>\n",
              "    </tr>\n",
              "  </tbody>\n",
              "</table>\n",
              "</div>"
            ],
            "text/plain": [
              "     Depth      DTSM     DTCO    GAMMA     RHO\n",
              "0   5599.5   96.6386  51.8027   9.7354  2.9895\n",
              "1   7633.0   97.9295  52.9170  65.4203  2.7899\n",
              "2  11252.5  107.3234  59.3721  86.6629  2.5935\n",
              "3  13116.5   99.6733  48.6408  16.7107  2.7033\n",
              "4   6815.0   94.6977  49.2636   8.3603  2.7049"
            ]
          },
          "metadata": {
            "tags": []
          },
          "execution_count": 4
        }
      ]
    },
    {
      "cell_type": "code",
      "metadata": {
        "id": "FSO6_8b8WttO"
      },
      "source": [
        "data=data[(data.DTCO<140) & (data.DTSM<240)]"
      ],
      "execution_count": null,
      "outputs": []
    },
    {
      "cell_type": "code",
      "metadata": {
        "colab": {
          "base_uri": "https://localhost:8080/",
          "height": 297
        },
        "id": "_RkvKvczXSVu",
        "outputId": "54f5bc40-ca9f-4b1f-d677-7c91f685bda3"
      },
      "source": [
        "data.describe()"
      ],
      "execution_count": null,
      "outputs": [
        {
          "output_type": "execute_result",
          "data": {
            "text/html": [
              "<div>\n",
              "<style scoped>\n",
              "    .dataframe tbody tr th:only-of-type {\n",
              "        vertical-align: middle;\n",
              "    }\n",
              "\n",
              "    .dataframe tbody tr th {\n",
              "        vertical-align: top;\n",
              "    }\n",
              "\n",
              "    .dataframe thead th {\n",
              "        text-align: right;\n",
              "    }\n",
              "</style>\n",
              "<table border=\"1\" class=\"dataframe\">\n",
              "  <thead>\n",
              "    <tr style=\"text-align: right;\">\n",
              "      <th></th>\n",
              "      <th>Depth</th>\n",
              "      <th>DTSM</th>\n",
              "      <th>DTCO</th>\n",
              "      <th>GAMMA</th>\n",
              "      <th>RHO</th>\n",
              "    </tr>\n",
              "  </thead>\n",
              "  <tbody>\n",
              "    <tr>\n",
              "      <th>count</th>\n",
              "      <td>150625.000000</td>\n",
              "      <td>150625.000000</td>\n",
              "      <td>150625.000000</td>\n",
              "      <td>150625.000000</td>\n",
              "      <td>150625.000000</td>\n",
              "    </tr>\n",
              "    <tr>\n",
              "      <th>mean</th>\n",
              "      <td>8079.579824</td>\n",
              "      <td>132.023715</td>\n",
              "      <td>71.270285</td>\n",
              "      <td>82.517627</td>\n",
              "      <td>2.553487</td>\n",
              "    </tr>\n",
              "    <tr>\n",
              "      <th>std</th>\n",
              "      <td>3938.882276</td>\n",
              "      <td>34.998677</td>\n",
              "      <td>15.438664</td>\n",
              "      <td>44.815089</td>\n",
              "      <td>0.182163</td>\n",
              "    </tr>\n",
              "    <tr>\n",
              "      <th>min</th>\n",
              "      <td>559.000000</td>\n",
              "      <td>72.470100</td>\n",
              "      <td>40.459400</td>\n",
              "      <td>0.731000</td>\n",
              "      <td>1.223200</td>\n",
              "    </tr>\n",
              "    <tr>\n",
              "      <th>25%</th>\n",
              "      <td>5053.000000</td>\n",
              "      <td>104.310400</td>\n",
              "      <td>58.843400</td>\n",
              "      <td>46.972900</td>\n",
              "      <td>2.466800</td>\n",
              "    </tr>\n",
              "    <tr>\n",
              "      <th>50%</th>\n",
              "      <td>7877.000000</td>\n",
              "      <td>123.750900</td>\n",
              "      <td>70.195100</td>\n",
              "      <td>88.414200</td>\n",
              "      <td>2.589800</td>\n",
              "    </tr>\n",
              "    <tr>\n",
              "      <th>75%</th>\n",
              "      <td>11178.500000</td>\n",
              "      <td>151.105300</td>\n",
              "      <td>82.471600</td>\n",
              "      <td>111.434900</td>\n",
              "      <td>2.663100</td>\n",
              "    </tr>\n",
              "    <tr>\n",
              "      <th>max</th>\n",
              "      <td>18739.500000</td>\n",
              "      <td>239.998200</td>\n",
              "      <td>122.186300</td>\n",
              "      <td>623.161700</td>\n",
              "      <td>3.091600</td>\n",
              "    </tr>\n",
              "  </tbody>\n",
              "</table>\n",
              "</div>"
            ],
            "text/plain": [
              "               Depth           DTSM  ...          GAMMA            RHO\n",
              "count  150625.000000  150625.000000  ...  150625.000000  150625.000000\n",
              "mean     8079.579824     132.023715  ...      82.517627       2.553487\n",
              "std      3938.882276      34.998677  ...      44.815089       0.182163\n",
              "min       559.000000      72.470100  ...       0.731000       1.223200\n",
              "25%      5053.000000     104.310400  ...      46.972900       2.466800\n",
              "50%      7877.000000     123.750900  ...      88.414200       2.589800\n",
              "75%     11178.500000     151.105300  ...     111.434900       2.663100\n",
              "max     18739.500000     239.998200  ...     623.161700       3.091600\n",
              "\n",
              "[8 rows x 5 columns]"
            ]
          },
          "metadata": {
            "tags": []
          },
          "execution_count": 6
        }
      ]
    },
    {
      "cell_type": "code",
      "metadata": {
        "id": "00F5LrhQQvx6"
      },
      "source": [
        "cols=['GAMMA','RHO','DTCO']\n",
        "X = data[cols]\n",
        "Y = data[['DTSM']]"
      ],
      "execution_count": null,
      "outputs": []
    },
    {
      "cell_type": "code",
      "metadata": {
        "id": "D2tJW06xPvOs"
      },
      "source": [
        "X_train, X_test, Y_train, Y_test = train_test_split(X, Y, test_size=0.1, random_state=42)"
      ],
      "execution_count": null,
      "outputs": []
    },
    {
      "cell_type": "code",
      "metadata": {
        "id": "lSdnMmXjpGzt",
        "colab": {
          "base_uri": "https://localhost:8080/"
        },
        "outputId": "254ef564-9b01-4f1d-8f8e-39fb61b2c585"
      },
      "source": [
        "print(X_train.shape, Y_train.shape)\n",
        "print(X_test.shape, Y_test.shape)"
      ],
      "execution_count": null,
      "outputs": [
        {
          "output_type": "stream",
          "text": [
            "(135562, 3) (135562, 1)\n",
            "(15063, 3) (15063, 1)\n"
          ],
          "name": "stdout"
        }
      ]
    },
    {
      "cell_type": "markdown",
      "metadata": {
        "id": "AZg9k359ex6C"
      },
      "source": [
        "## Standardization"
      ]
    },
    {
      "cell_type": "code",
      "metadata": {
        "id": "5JonXFYRcnGr"
      },
      "source": [
        "# scale\n",
        "scaler_x = preprocessing.StandardScaler().fit(X_train)\n",
        "X_train_sc = scaler_x.transform(X_train)\n",
        "X_test_sc = scaler_x.transform(X_test)\n"
      ],
      "execution_count": null,
      "outputs": []
    },
    {
      "cell_type": "code",
      "metadata": {
        "id": "4dYkmDMjUHrk"
      },
      "source": [
        "# squared term\n",
        "\n",
        "X_train_sc=np.hstack((X_train_sc,(X_train_sc[:,-1].reshape(-1,1))**2))\n",
        "X_test_sc=np.hstack((X_test_sc,(X_test_sc[:,-1].reshape(-1,1))**2))"
      ],
      "execution_count": null,
      "outputs": []
    },
    {
      "cell_type": "code",
      "metadata": {
        "colab": {
          "base_uri": "https://localhost:8080/"
        },
        "id": "9XoBStFAeLnR",
        "outputId": "c2c4362f-eb04-4add-9a75-8bd87143dd67"
      },
      "source": [
        "print(X_train_sc.mean(axis=0), X_train_sc.std(axis=0))\n",
        "print(X_test_sc.mean(axis=0), X_test_sc.std(axis=0))\n"
      ],
      "execution_count": null,
      "outputs": [
        {
          "output_type": "stream",
          "text": [
            "[1.04829190e-16 4.18530543e-15 8.05507499e-16 1.00000000e+00] [1.         1.         1.         1.12306941]\n",
            "[-1.53873597e-03  8.80253927e-03  6.01038752e-04  9.89452160e-01] [0.98857962 0.99252086 0.99471192 1.10019876]\n"
          ],
          "name": "stdout"
        }
      ]
    },
    {
      "cell_type": "code",
      "metadata": {
        "colab": {
          "base_uri": "https://localhost:8080/"
        },
        "id": "48Ef_IbxI2ZA",
        "outputId": "2871da3f-8cbd-436f-e1da-3123ee32110a"
      },
      "source": [
        "cols2 = cols + ['DTCO^2']\n",
        "cols2"
      ],
      "execution_count": null,
      "outputs": [
        {
          "output_type": "execute_result",
          "data": {
            "text/plain": [
              "['GAMMA', 'RHO', 'DTCO', 'DTCO^2']"
            ]
          },
          "metadata": {
            "tags": []
          },
          "execution_count": 13
        }
      ]
    },
    {
      "cell_type": "markdown",
      "metadata": {
        "id": "wuXellYGDhNJ"
      },
      "source": [
        "## Hyperparamter tunning with cross-validation\n",
        "\n",
        "LASSO, Ridge, and LAD"
      ]
    },
    {
      "cell_type": "markdown",
      "metadata": {
        "id": "TxkfFtjPwN-T"
      },
      "source": [
        "### LAD regessor \n"
      ]
    },
    {
      "cell_type": "code",
      "metadata": {
        "id": "5295vdGPMUK6"
      },
      "source": [
        "class LADRegression(BaseEstimator, RegressorMixin):\n",
        "    def __init__(self, alpha=0):\n",
        "        self.alpha = alpha\n",
        "\n",
        "    def fit(self, X, y):\n",
        "        X, y = check_X_y(X, y)\n",
        "        \n",
        "        d = X.shape[1]\n",
        "        mae_loss = lambda coefs: np.mean(np.abs(y - X@coefs[:-1] - coefs[-1])) - self.alpha*np.sum(np.abs(coefs[:-1]))\n",
        "        *self.coef_, self.intercept_ = minimize(mae_loss, x0=np.array((d+1)*[0.])).x # the heavy lifting\n",
        "        \n",
        "        return self\n",
        "    \n",
        "    def predict(self, X):\n",
        "        check_is_fitted(self)\n",
        "        X = check_array(X)\n",
        "        \n",
        "        return X@self.coef_ + self.intercept_"
      ],
      "execution_count": null,
      "outputs": []
    },
    {
      "cell_type": "code",
      "metadata": {
        "id": "kFzZdVppJgnJ"
      },
      "source": [
        "#sorted(metrics.SCORERS.keys())"
      ],
      "execution_count": null,
      "outputs": []
    },
    {
      "cell_type": "code",
      "metadata": {
        "id": "FOAuJTuj1sAj"
      },
      "source": [
        "lad = LADRegression(alpha=0)\n",
        "\n",
        "scoring = {'neg_mse':'neg_mean_squared_error',\n",
        "           'r2':'r2'\n",
        "           }\n",
        "\n",
        "lad_scores = cross_validate(lad, X_train_sc, Y_train.DTSM, scoring=scoring,\n",
        "                         cv=5, return_train_score=True)\n",
        "\n"
      ],
      "execution_count": null,
      "outputs": []
    },
    {
      "cell_type": "code",
      "metadata": {
        "colab": {
          "base_uri": "https://localhost:8080/"
        },
        "id": "KO4aCbmFKYSu",
        "outputId": "953a7873-3208-48d8-91b0-44c1bc2fa092"
      },
      "source": [
        "lad_mse_tr = -np.mean(lad_scores['train_neg_mse'])\n",
        "lad_r2_tr = np.mean(lad_scores['train_r2'])\n",
        "lad_mse_val = -np.mean(lad_scores['test_neg_mse'])\n",
        "lad_r2_val = np.mean(lad_scores['test_r2'])\n",
        "\n",
        "print(\"train: MSE=%.2f, R2_score=%.2f \" % (lad_mse_tr, lad_r2_tr) )\n",
        "print(\"valid: MSE=%.2f, R2_score=%.2f \" % (lad_mse_val, lad_r2_val) )"
      ],
      "execution_count": null,
      "outputs": [
        {
          "output_type": "stream",
          "text": [
            "train: MSE=141.21, R2_score=0.88 \n",
            "valid: MSE=141.23, R2_score=0.88 \n"
          ],
          "name": "stdout"
        }
      ]
    },
    {
      "cell_type": "code",
      "metadata": {
        "id": "MdjTfup-231O",
        "colab": {
          "base_uri": "https://localhost:8080/"
        },
        "outputId": "d8c22dc2-d85c-421a-c49f-2f7990aced42"
      },
      "source": [
        "lad.fit(X_train_sc,Y_train.DTSM)\n"
      ],
      "execution_count": null,
      "outputs": [
        {
          "output_type": "execute_result",
          "data": {
            "text/plain": [
              "LADRegression(alpha=0)"
            ]
          },
          "metadata": {
            "tags": []
          },
          "execution_count": 18
        }
      ]
    },
    {
      "cell_type": "code",
      "metadata": {
        "colab": {
          "base_uri": "https://localhost:8080/"
        },
        "id": "w-k20RxGOaDE",
        "outputId": "ba6bee1a-be8e-44b4-d488-5e3c430803cf"
      },
      "source": [
        "for c,w in zip(cols2, lad.coef_):\n",
        "  print('w_%s = %.4f' % (c,w))\n",
        "\n",
        "print('b = %.4f' % lad.intercept_ )"
      ],
      "execution_count": null,
      "outputs": [
        {
          "output_type": "stream",
          "text": [
            "w_GAMMA = -1.4527\n",
            "w_RHO = -0.3650\n",
            "w_DTCO = 32.0376\n",
            "w_DTCO^2 = 4.7568\n",
            "b = 127.5959\n"
          ],
          "name": "stdout"
        }
      ]
    },
    {
      "cell_type": "markdown",
      "metadata": {
        "id": "dkdH56bQ3LWj"
      },
      "source": [
        "### Lasso and Ridge\n"
      ]
    },
    {
      "cell_type": "code",
      "metadata": {
        "id": "Q8WFRMNS1hMf",
        "colab": {
          "base_uri": "https://localhost:8080/"
        },
        "outputId": "e3656df1-42e5-4856-b730-f6c73ba240dd"
      },
      "source": [
        "models = [('Lasso',Lasso()), ('Ridge',Ridge()),('ladr',LADRegression())]\n",
        "alpha = np.append([0],np.logspace(-6, 1, 8))\n",
        "param_grid =  {'alpha': alpha}\n",
        "\n",
        "for model in models:\n",
        "  search = GridSearchCV(model[1], param_grid=param_grid, cv=5, n_jobs=-1, verbose=2, scoring='neg_mean_squared_error')\n",
        "  search.fit(X_train_sc, Y_train.DTSM)\n",
        "\n",
        "  print('\\n',model[0])\n",
        "  print(search.best_params_)    \n",
        "  print(search.best_score_)\n",
        "\n",
        "print('\\nalpha:', alpha)"
      ],
      "execution_count": null,
      "outputs": [
        {
          "output_type": "stream",
          "text": [
            "Fitting 5 folds for each of 9 candidates, totalling 45 fits\n"
          ],
          "name": "stdout"
        },
        {
          "output_type": "stream",
          "text": [
            "[Parallel(n_jobs=-1)]: Using backend LokyBackend with 2 concurrent workers.\n",
            "[Parallel(n_jobs=-1)]: Done  38 tasks      | elapsed:    7.9s\n",
            "[Parallel(n_jobs=-1)]: Done  42 out of  45 | elapsed:    8.0s remaining:    0.6s\n",
            "[Parallel(n_jobs=-1)]: Done  45 out of  45 | elapsed:    8.0s finished\n",
            "/usr/local/lib/python3.6/dist-packages/sklearn/model_selection/_search.py:739: UserWarning: With alpha=0, this algorithm does not converge well. You are advised to use the LinearRegression estimator\n",
            "  self.best_estimator_.fit(X, y, **fit_params)\n",
            "/usr/local/lib/python3.6/dist-packages/sklearn/linear_model/_coordinate_descent.py:476: UserWarning: Coordinate descent with no regularization may lead to unexpected results and is discouraged.\n",
            "  positive)\n",
            "/usr/local/lib/python3.6/dist-packages/sklearn/linear_model/_coordinate_descent.py:476: ConvergenceWarning: Objective did not converge. You might want to increase the number of iterations. Duality gap: 9499943.594073389, tolerance: 16623.982030979645\n",
            "  positive)\n",
            "[Parallel(n_jobs=-1)]: Using backend LokyBackend with 2 concurrent workers.\n"
          ],
          "name": "stderr"
        },
        {
          "output_type": "stream",
          "text": [
            "\n",
            " Lasso\n",
            "{'alpha': 0.0}\n",
            "-140.16762796623433\n",
            "Fitting 5 folds for each of 9 candidates, totalling 45 fits\n"
          ],
          "name": "stdout"
        },
        {
          "output_type": "stream",
          "text": [
            "[Parallel(n_jobs=-1)]: Done  45 out of  45 | elapsed:    0.7s finished\n",
            "[Parallel(n_jobs=-1)]: Using backend LokyBackend with 2 concurrent workers.\n"
          ],
          "name": "stderr"
        },
        {
          "output_type": "stream",
          "text": [
            "\n",
            " Ridge\n",
            "{'alpha': 1.0}\n",
            "-140.167627912843\n",
            "Fitting 5 folds for each of 9 candidates, totalling 45 fits\n"
          ],
          "name": "stdout"
        },
        {
          "output_type": "stream",
          "text": [
            "[Parallel(n_jobs=-1)]: Done  37 tasks      | elapsed:   27.1s\n",
            "[Parallel(n_jobs=-1)]: Done  45 out of  45 | elapsed:   28.7s finished\n"
          ],
          "name": "stderr"
        },
        {
          "output_type": "stream",
          "text": [
            "\n",
            " ladr\n",
            "{'alpha': 1e-06}\n",
            "-141.22772792541264\n",
            "\n",
            "alpha: [0.e+00 1.e-06 1.e-05 1.e-04 1.e-03 1.e-02 1.e-01 1.e+00 1.e+01]\n"
          ],
          "name": "stdout"
        }
      ]
    },
    {
      "cell_type": "code",
      "metadata": {
        "colab": {
          "base_uri": "https://localhost:8080/"
        },
        "id": "bJEZhuH7VLTu",
        "outputId": "96fda824-91b6-4873-b3f4-61a9b5d5d4bb"
      },
      "source": [
        "ridge = Ridge()\n",
        "ridge.fit(X_train_sc, Y_train.DTSM)"
      ],
      "execution_count": null,
      "outputs": [
        {
          "output_type": "execute_result",
          "data": {
            "text/plain": [
              "Ridge(alpha=1.0, copy_X=True, fit_intercept=True, max_iter=None,\n",
              "      normalize=False, random_state=None, solver='auto', tol=0.001)"
            ]
          },
          "metadata": {
            "tags": []
          },
          "execution_count": 21
        }
      ]
    },
    {
      "cell_type": "code",
      "metadata": {
        "colab": {
          "base_uri": "https://localhost:8080/"
        },
        "id": "oVBrYkojXLtF",
        "outputId": "00e63d40-2254-4c66-82c1-f6f709b9346a"
      },
      "source": [
        "for c,w in zip(cols2, ridge.coef_):\n",
        "  print('w_%s = %.4f' % (c,w))\n",
        "\n",
        "print('b = %.4f' % ridge.intercept_ )"
      ],
      "execution_count": null,
      "outputs": [
        {
          "output_type": "stream",
          "text": [
            "w_GAMMA = -1.3108\n",
            "w_RHO = -1.3305\n",
            "w_DTCO = 31.0712\n",
            "w_DTCO^2 = 4.4836\n",
            "b = 127.5481\n"
          ],
          "name": "stdout"
        }
      ]
    },
    {
      "cell_type": "code",
      "metadata": {
        "colab": {
          "base_uri": "https://localhost:8080/"
        },
        "id": "6SDcIDtnKgwP",
        "outputId": "3b89968d-ad8c-4159-9940-b80da1db438d"
      },
      "source": [
        "ols = Ridge(alpha=0)\n",
        "ols.fit(X_train_sc, Y_train.DTSM)"
      ],
      "execution_count": null,
      "outputs": [
        {
          "output_type": "execute_result",
          "data": {
            "text/plain": [
              "Ridge(alpha=0, copy_X=True, fit_intercept=True, max_iter=None, normalize=False,\n",
              "      random_state=None, solver='auto', tol=0.001)"
            ]
          },
          "metadata": {
            "tags": []
          },
          "execution_count": 23
        }
      ]
    },
    {
      "cell_type": "code",
      "metadata": {
        "colab": {
          "base_uri": "https://localhost:8080/"
        },
        "id": "uauKvNRyKo5k",
        "outputId": "074f4881-15d8-4250-9f09-59204a68c56c"
      },
      "source": [
        "for c,w in zip(cols2, ols.coef_):\n",
        "  print('w_%s = %.4f' % (c,w))\n",
        "\n",
        "print('b = %.4f' % ols.intercept_ )"
      ],
      "execution_count": null,
      "outputs": [
        {
          "output_type": "stream",
          "text": [
            "w_GAMMA = -1.3110\n",
            "w_RHO = -1.3303\n",
            "w_DTCO = 31.0717\n",
            "w_DTCO^2 = 4.4835\n",
            "b = 127.5482\n"
          ],
          "name": "stdout"
        }
      ]
    },
    {
      "cell_type": "markdown",
      "metadata": {
        "id": "DRbqmfO7lec-"
      },
      "source": [
        "## Prediction\n"
      ]
    },
    {
      "cell_type": "code",
      "metadata": {
        "id": "EDenFvHkfHih"
      },
      "source": [
        "Y_pred_lad = lad.predict(X_test_sc)\n",
        "Y_pred_ridge = ridge.predict(X_test_sc)\n",
        "Y_pred_ols = ols.predict(X_test_sc)"
      ],
      "execution_count": null,
      "outputs": []
    },
    {
      "cell_type": "code",
      "metadata": {
        "id": "73NfKHDll5oV",
        "colab": {
          "base_uri": "https://localhost:8080/",
          "height": 334
        },
        "outputId": "ac314d15-b7dd-4aa1-8ae3-00f61305c683"
      },
      "source": [
        "f, (ax1,ax2,ax3,ax4) = plt.subplots(nrows=1, ncols=4, figsize=(25,5))\n",
        "\n",
        "#ax1.pcolormesh(X_tr, Y_tr, H_tr,cmap='binary')\n",
        "\n",
        "ax1.hist2d(X_test.DTCO,Y_test.DTSM,bins=50, cmap='binary')\n",
        "ax1.scatter(X_test.DTCO, Y_pred_lad, s=1, color='blue')\n",
        "ax1.set_xlabel(\"Test DTCO\")\n",
        "ax1.set_ylabel(\"LAD\")\n",
        "\n",
        "ax2.hist2d(X_test.DTCO,Y_test.DTSM,bins=50, cmap='binary')\n",
        "ax2.scatter(X_test.DTCO, Y_pred_lad, s=1, color='blue')\n",
        "ax2.scatter(X_test.DTCO, Y_pred_ols, s=1, color='green')\n",
        "ax2.set_xlabel(\"Test DTCO\")\n",
        "ax2.set_ylabel(\"LAD & OLS\")\n",
        "\n",
        "ax3.hist2d(X_test.DTCO,Y_test.DTSM,bins=50, cmap='binary')\n",
        "ax3.scatter(X_test.DTCO, Y_pred_ols, s=1, color='green')\n",
        "ax3.scatter(X_test.DTCO, Y_pred_ridge, s=1, color='red')\n",
        "ax3.set_xlabel(\"Test DTCO\")\n",
        "ax3.set_ylabel(\"OLS & Ridge\")\n",
        "\n",
        "ax4.hist2d(X_test.DTCO,Y_test.DTSM,bins=50, cmap='binary')\n",
        "ax4.scatter(X_test.DTCO, Y_pred_lad, s=1, color='blue')\n",
        "ax4.scatter(X_test.DTCO, Y_pred_ols, s=1, color='green')\n",
        "ax4.scatter(X_test.DTCO, Y_pred_ridge, s=1, color='red')\n",
        "ax4.set_xlabel(\"Test DTCO\")\n",
        "ax4.set_ylabel(\"Three Models\")\n",
        "\n",
        "plt.show()"
      ],
      "execution_count": null,
      "outputs": [
        {
          "output_type": "display_data",
          "data": {
            "image/png": "[encoded data removed]",
            "text/plain": [
              "<Figure size 1800x360 with 4 Axes>"
            ]
          },
          "metadata": {
            "tags": [],
            "needs_background": "light"
          }
        }
      ]
    },
    {
      "cell_type": "markdown",
      "metadata": {
        "id": "N4_aucklTZCN"
      },
      "source": [
        "## Error Analysis"
      ]
    },
    {
      "cell_type": "code",
      "metadata": {
        "id": "nxdU3UrBR0TQ"
      },
      "source": [
        "def mape(y_test, y_pred):\n",
        "  y_test, y_pred = np.array(y_test), np.array(y_pred)\n",
        "  return np.mean(np.abs(y_test-y_pred)/y_test)\n",
        "\n",
        "def print_scores(name, x, y):\n",
        "  print('%s:\\t MSE: %.2f, R^2 Score: %.2f, MAPE: %.4f' % (name, mean_squared_error(x, y),r2_score(x, y), mape(x, y)))"
      ],
      "execution_count": null,
      "outputs": []
    },
    {
      "cell_type": "code",
      "metadata": {
        "colab": {
          "base_uri": "https://localhost:8080/"
        },
        "id": "FwfMuM9eTaqp",
        "outputId": "0736a9cc-0941-452b-bbca-a10771b28eeb"
      },
      "source": [
        "print_scores('LAD',Y_test.DTSM, Y_pred_lad)\n",
        "print_scores('OLS',Y_test.DTSM, Y_pred_ols)\n",
        "print_scores('Ridge',Y_test.DTSM, Y_pred_ridge)"
      ],
      "execution_count": null,
      "outputs": [
        {
          "output_type": "stream",
          "text": [
            "LAD:\t MSE: 140.10, R^2 Score: 0.88, MAPE: 0.0594\n",
            "OLS:\t MSE: 138.79, R^2 Score: 0.89, MAPE: 0.0596\n",
            "Ridge:\t MSE: 138.79, R^2 Score: 0.89, MAPE: 0.0596\n"
          ],
          "name": "stdout"
        }
      ]
    },
    {
      "cell_type": "markdown",
      "metadata": {
        "id": "Qv_3nms3HrW7"
      },
      "source": [
        "compare to linear vp models:\n",
        "\n",
        "LAD:\t MSE: 163.49, R^2 Score: 0.87, MAPE: 0.0652\n",
        "\n",
        "OLS:\t MSE: 159.12, R^2 Score: 0.87, MAPE: 0.0681\n",
        "\n",
        "Ridge:\t MSE: 159.12, R^2 Score: 0.87, MAPE: 0.0681"
      ]
    },
    {
      "cell_type": "code",
      "metadata": {
        "id": "7-jPue1Am0tQ"
      },
      "source": [
        "err_lad = (Y_pred_lad - Y_test.DTSM).values\n",
        "err_ols = (Y_pred_ols - Y_test.DTSM).values\n",
        "err_ridge = (Y_pred_ridge - Y_test.DTSM).values"
      ],
      "execution_count": null,
      "outputs": []
    },
    {
      "cell_type": "code",
      "metadata": {
        "id": "Gv1oU7iuUf4O",
        "colab": {
          "base_uri": "https://localhost:8080/",
          "height": 279
        },
        "outputId": "51b749df-11a8-4852-917a-d8545dd5e63b"
      },
      "source": [
        "f, (ax1,ax2,ax3,ax4) = plt.subplots(nrows=1, ncols=4, figsize=(24,4))\n",
        "\n",
        "ax1.hist2d(X_test.DTCO, err_lad,bins=50, cmap='jet')\n",
        "ax1.set_xlabel(\"DTCO\")\n",
        "ax1.set_ylabel(\"Err_lad\")\n",
        "ax1.set_ylim([-50,50])\n",
        "ax1.grid()\n",
        "\n",
        "ax2.hist2d(X_test.DTCO, err_ols,bins=50, cmap='jet')\n",
        "ax2.set_xlabel(\"DTCO\")\n",
        "ax2.set_ylabel(\"Err_ols\")\n",
        "ax2.set_ylim([-50,50])\n",
        "ax2.grid()\n",
        "\n",
        "ax3.hist2d(X_test.DTCO, err_ridge,bins=50, cmap='jet')\n",
        "ax3.set_xlabel(\"DTCO\")\n",
        "ax3.set_ylabel(\"Err_ridge\")\n",
        "ax3.set_ylim([-50,50])\n",
        "ax3.grid()\n",
        "\n",
        "sns.kdeplot(err_lad, label = \"LAD\", ax=ax4)\n",
        "sns.kdeplot(err_ridge, label = \"OLS\", ax=ax4)\n",
        "sns.kdeplot(err_ridge, label = \"Ridge\", ax=ax4)\n",
        "ax4.set_xlim([-100,100])\n",
        "ax4.legend()\n",
        "ax4.grid()\n",
        "\n",
        "plt.show()\n"
      ],
      "execution_count": null,
      "outputs": [
        {
          "output_type": "display_data",
          "data": {
            "image/png": "[encoded data removed]",
            "text/plain": [
              "<Figure size 1728x288 with 4 Axes>"
            ]
          },
          "metadata": {
            "tags": [],
            "needs_background": "light"
          }
        }
      ]
    },
    {
      "cell_type": "markdown",
      "metadata": {
        "id": "6zxyf4mYhKOF"
      },
      "source": [
        "## Save models"
      ]
    },
    {
      "cell_type": "code",
      "metadata": {
        "id": "8WBSIkY_hJSI"
      },
      "source": [
        "filename = 'model_09_lad.sav'\n",
        "pickle.dump(lad, open(filename, 'wb'))\n",
        "\n",
        "filename = 'model_09_ridge.sav'\n",
        "pickle.dump(ridge, open(filename, 'wb'))\n",
        "\n",
        "# loaded_model = pickle.load(open(filename, 'rb'))\n",
        "\n",
        "filename = 'scaler1.sav'\n",
        "pickle.dump(scaler_x, open(filename, 'wb'))"
      ],
      "execution_count": null,
      "outputs": []
    },
    {
      "cell_type": "markdown",
      "metadata": {
        "id": "DUAj0f2pNprI"
      },
      "source": [
        "## Comments\n",
        "\n",
        "LAD underperforms with MSE, better for MAPE\n",
        "OLS and Ridge post shows no significant difference which imples no overfitting."
      ]
    },
    {
      "cell_type": "markdown",
      "metadata": {
        "id": "MasbGHqGyM9I"
      },
      "source": [
        "## Reference\n",
        "\n",
        "https://towardsdatascience.com/build-your-own-custom-scikit-learn-regression-5d0d718f289\n",
        "\n"
      ]
    }
  ]
}