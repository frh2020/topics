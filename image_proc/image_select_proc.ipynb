{
 "cells": [
  {
   "cell_type": "code",
   "execution_count": 49,
   "metadata": {},
   "outputs": [],
   "source": [
    "import numpy as np\n",
    "import matplotlib.pyplot as plt\n",
    "#from PIL import Image\n",
    "import os\n",
    "import pandas as pd\n",
    "import math, time, datetime\n",
    "import cv2\n",
    "\n",
    "import shutil \n",
    "\n",
    "#from tensorflow.keras.preprocessing.image import ImageDataGenerator #, array_to_img, img_to_array, load_img, save_img\n"
   ]
  },
  {
   "cell_type": "code",
   "execution_count": 50,
   "metadata": {},
   "outputs": [
    {
     "data": {
      "text/plain": [
       "75388"
      ]
     },
     "execution_count": 50,
     "metadata": {},
     "output_type": "execute_result"
    }
   ],
   "source": [
    "list_all = pd.read_csv(\"./data/celeba-dataset/list_attr_celeba_simple.csv\")\n",
    "\n",
    "imageid = np.array(list_all[(list_all['Female']==1 ) & (list_all['Attractive']==1)  & (list_all['Young']==1)]['image_id'])\n",
    "\n",
    "total=len(imageid)\n",
    "total"
   ]
  },
  {
   "cell_type": "code",
   "execution_count": 51,
   "metadata": {},
   "outputs": [],
   "source": [
    "#load_dir = './data/celeba_temp'\n",
    "load_dir = './data/celeba-dataset/img_align_celeba/img_align_celeba'\n",
    "save_dir1 = './data/celeba_64fay_train'\n",
    "save_dir2 = './data/celeba_64fay_test'\n"
   ]
  },
  {
   "cell_type": "code",
   "execution_count": 52,
   "metadata": {},
   "outputs": [],
   "source": [
    "def center_crop(image, crop_size):  # center crop\n",
    "    \n",
    "    (crop_dh, crop_dw) = crop_size \n",
    "    h = image.shape[0] \n",
    "    w = image.shape[1] \n",
    "    image = image[(h-crop_dh)//2:(h+crop_dh)//2, (w-crop_dw)//2:(w+crop_dw)//2,:]\n",
    "        \n",
    "    return image"
   ]
  },
  {
   "cell_type": "code",
   "execution_count": 56,
   "metadata": {},
   "outputs": [
    {
     "name": "stdout",
     "output_type": "stream",
     "text": [
      "file#: 60000/75388, time elasped: 802 sec, est time left: 3 min    \n",
      "Elapsed time:  00:13:21\n"
     ]
    }
   ],
   "source": [
    "i = 0\n",
    "#j = 0\n",
    "crop_size = 128\n",
    "resize = 64\n",
    "batch=100\n",
    "total = len(imageid)\n",
    "s0 = time.time()\n",
    "for filename in imageid[:60000]:\n",
    "    \n",
    "    src = load_dir + \"/\"+ filename\n",
    "    \n",
    "    \n",
    "    if i < 50000 :\n",
    "        dst = save_dir1 + \"/cr128_\" + filename\n",
    "    elif i < 60000:\n",
    "        dst = save_dir2 + \"/cr128_\" + filename\n",
    "\n",
    "    \n",
    "    img = cv2.imread(src)\n",
    "    img = cv2.cvtColor(img, cv2.COLOR_RGB2BGR)\n",
    "    \n",
    "    img = center_crop(img, (crop_size, crop_size))\n",
    "    \n",
    "    img = cv2.resize(img, dsize=(resize, resize), interpolation = cv2.INTER_AREA)\n",
    "    #plt.imshow(img)\n",
    "    #plt.show\n",
    "    cv2.imwrite(dst, cv2.cvtColor(img, cv2.COLOR_RGB2BGR))    \n",
    "        \n",
    "    i+=1 \n",
    "    if i%batch ==0  :\n",
    "        s1=time.time()\n",
    "        print('\\rfile#: {}/{}, time elasped: {:.0f} sec, est time left: {:.0f} min   '.format(i, total,s1-s0, (s1-s0)*(total-i)/i/60), end=\"\")\n",
    "    \n",
    "s1 = time.time()\n",
    "\n",
    "print(\"\\nElapsed time: \", time.strftime('%H:%M:%S', time.gmtime(s1 - s0)))"
   ]
  },
  {
   "cell_type": "code",
   "execution_count": null,
   "metadata": {},
   "outputs": [],
   "source": []
  }
 ],
 "metadata": {
  "kernelspec": {
   "display_name": "Python 3",
   "language": "python",
   "name": "python3"
  },
  "language_info": {
   "codemirror_mode": {
    "name": "ipython",
    "version": 3
   },
   "file_extension": ".py",
   "mimetype": "text/x-python",
   "name": "python",
   "nbconvert_exporter": "python",
   "pygments_lexer": "ipython3",
   "version": "3.6.7"
  }
 },
 "nbformat": 4,
 "nbformat_minor": 2
}
