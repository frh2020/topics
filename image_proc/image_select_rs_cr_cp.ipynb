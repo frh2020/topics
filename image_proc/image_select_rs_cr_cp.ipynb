{
 "cells": [
  {
   "cell_type": "code",
   "execution_count": 1,
   "metadata": {},
   "outputs": [],
   "source": [
    "import numpy as np\n",
    "\n",
    "import os\n",
    "import pandas as pd\n",
    "import math, time, datetime\n",
    "import cv2\n",
    "\n"
   ]
  },
  {
   "cell_type": "code",
   "execution_count": 2,
   "metadata": {},
   "outputs": [
    {
     "data": {
      "text/plain": [
       "30000"
      ]
     },
     "execution_count": 2,
     "metadata": {},
     "output_type": "execute_result"
    }
   ],
   "source": [
    "list_file = pd.read_csv(\"./data/google-landmarks-dataset/train_s4x3_image_list.csv\")\n",
    "\n",
    "images = np.array(list_file.image)\n",
    "\n",
    "total = len(images)\n",
    "total"
   ]
  },
  {
   "cell_type": "code",
   "execution_count": 3,
   "metadata": {},
   "outputs": [],
   "source": [
    "load_dir = './data/google-landmarks-dataset/train_s4x3'\n",
    "save_dir = './data/google-landmarks-dataset/train_s3x3'\n"
   ]
  },
  {
   "cell_type": "code",
   "execution_count": 4,
   "metadata": {},
   "outputs": [],
   "source": [
    "def center_crop(image, crop_size):  # center crop\n",
    "    \n",
    "    (crop_dh, crop_dw) = crop_size \n",
    "    h = image.shape[0] \n",
    "    w = image.shape[1] \n",
    "    image = image[(h-crop_dh)//2:(h+crop_dh)//2, (w-crop_dw)//2:(w+crop_dw)//2,:]\n",
    "        \n",
    "    return image"
   ]
  },
  {
   "cell_type": "code",
   "execution_count": 8,
   "metadata": {},
   "outputs": [
    {
     "name": "stdout",
     "output_type": "stream",
     "text": [
      "file#: 21000/21000, time elasped: 00:07:06 sec, est time left: 3 min   "
     ]
    }
   ],
   "source": [
    "i = 0\n",
    "#j = 0\n",
    "\n",
    "rs_height = 400\n",
    "rs_width =300\n",
    "crop_size=300\n",
    "batch=100\n",
    "n = 21000\n",
    "s0 = time.time()\n",
    "for filename in images[:n]:\n",
    "    \n",
    "    src = load_dir + \"/rs4x3_\"+ filename\n",
    "    dst = save_dir + \"/rc3x3_\"+ filename\n",
    "\n",
    "    img = cv2.imread(src)\n",
    "    img = cv2.cvtColor(img, cv2.COLOR_RGB2BGR)\n",
    "    \n",
    "    img = center_crop(img, (crop_size, crop_size))\n",
    "    \n",
    "  #  img = cv2.resize(img, dsize=(rs_height, rs_width), interpolation = cv2.INTER_AREA)\n",
    "    #plt.imshow(img)\n",
    "    #plt.show\n",
    "    cv2.imwrite(dst, cv2.cvtColor(img, cv2.COLOR_RGB2BGR))    \n",
    "        \n",
    "    i+=1 \n",
    "    if i%batch ==0  :\n",
    "        s1=time.time()\n",
    "        print('\\rfile#: {}/{}, time elasped: {} sec, est time left: {:.0f} min   '.format(i, n, time.strftime('%H:%M:%S', time.gmtime(s1 - s0)), (s1-s0)*(n-i)/i/60), end=\"\")\n",
    "    \n",
    "s1 = time.time()\n",
    "\n",
    "#print(\"\\nElapsed time: \", time.strftime('%H:%M:%S', time.gmtime(s1 - s0)))"
   ]
  },
  {
   "cell_type": "code",
   "execution_count": null,
   "metadata": {},
   "outputs": [],
   "source": []
  }
 ],
 "metadata": {
  "kernelspec": {
   "display_name": "Python 3",
   "language": "python",
   "name": "python3"
  },
  "language_info": {
   "codemirror_mode": {
    "name": "ipython",
    "version": 3
   },
   "file_extension": ".py",
   "mimetype": "text/x-python",
   "name": "python",
   "nbconvert_exporter": "python",
   "pygments_lexer": "ipython3",
   "version": "3.6.7"
  }
 },
 "nbformat": 4,
 "nbformat_minor": 2
}
