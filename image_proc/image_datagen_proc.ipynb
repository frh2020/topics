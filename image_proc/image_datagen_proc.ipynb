{
 "cells": [
  {
   "cell_type": "code",
   "execution_count": 3,
   "metadata": {},
   "outputs": [],
   "source": [
    "import numpy as np\n",
    "import matplotlib.pyplot as plt\n",
    "#from PIL import Image\n",
    "import os\n",
    "import math, time, datetime\n",
    "import cv2\n",
    "\n",
    "\n",
    "from tensorflow.keras.preprocessing.image import ImageDataGenerator #, array_to_img, img_to_array, load_img, save_img\n"
   ]
  },
  {
   "cell_type": "code",
   "execution_count": 38,
   "metadata": {},
   "outputs": [
    {
     "name": "stdout",
     "output_type": "stream",
     "text": [
      "Found 202599 images belonging to 1 classes.\n",
      "total steps 1013\n"
     ]
    }
   ],
   "source": [
    "#load_dir = './data/celeba_temp'\n",
    "load_dir = './data/celeba-dataset/img_align_celeba'\n",
    "save_dir = './data/celeba_80x80FAY'\n",
    "\n",
    "batch_size = 200\n",
    "image_height = 218\n",
    "image_width = 178\n",
    "\n",
    "crop_size = 160 \n",
    "resize = 80\n",
    "\n",
    "datagen = ImageDataGenerator()\n",
    "\n",
    "image_gen = datagen.flow_from_directory(load_dir, \n",
    "                                          batch_size=batch_size, \n",
    "                                          class_mode=None,\n",
    "                                          shuffle=False)\n",
    "\n",
    "steps = image_gen.n // batch_size\n",
    "if (image_gen.n % batch_size) > 0: steps = steps + 1\n",
    "    \n",
    "print(\"total steps\", steps)"
   ]
  },
  {
   "cell_type": "code",
   "execution_count": 39,
   "metadata": {},
   "outputs": [],
   "source": [
    "def crop_generator(batches, crop_size):  # center crop\n",
    "    while True:\n",
    "        image = next(batches)\n",
    "        crop_dh, crop_dw = crop_size \n",
    "        h = image.shape[1] \n",
    "        w = image.shape[2] \n",
    "        image = image[:, (h-crop_dh)//2:(h+crop_dh)//2, (w-crop_dw)//2:(w+crop_dw)//2]\n",
    "        \n",
    "        yield image\n",
    "        \n",
    "def random_crop(image, crop_size):\n",
    "    height, width = image.shape[1:]\n",
    "    dh, dw = crop_size\n",
    "    if width < dw or height < dw:\n",
    "        return None\n",
    "    w = np.random.randint(0, width - dw + 1)\n",
    "    h = np.random.randint(0, height - dh + 1)\n",
    "    return image[:, h:(h+dh), h:(h+dh)]\n",
    "\n",
    "\n",
    "image_gen2 = crop_generator(image_gen, [crop_size, crop_size])"
   ]
  },
  {
   "cell_type": "code",
   "execution_count": 40,
   "metadata": {},
   "outputs": [
    {
     "name": "stdout",
     "output_type": "stream",
     "text": [
      "batch: 1013, time elasped: 3855.5201160907745\n",
      "Elapsed time:  01:04:15\n"
     ]
    }
   ],
   "source": [
    "i = 0\n",
    "j = 0\n",
    "\n",
    "filenames = [save_dir + '/cr80x80_' + name.split('\\\\')[1] for name in image_gen.filenames]\n",
    "\n",
    "s0 = time.time()\n",
    "for images in image_gen2:\n",
    "    \n",
    "    for img in images:                  \n",
    "        if \n",
    "        img = cv2.resize(img, dsize=(resize, resize), interpolation = cv2.INTER_AREA)\n",
    "    \n",
    "        cv2.imwrite(filenames[j], cv2.cvtColor(img, cv2.COLOR_RGB2BGR))              \n",
    "        j+=1\n",
    "        \n",
    "    i+=1    \n",
    "    s1=time.time()\n",
    "    print('\\rfile#: {}, time elasped: {:.0f} sec, est time left: {:0f}'.format(i, s1-s0, (s1-s0)*total/i), end=\"\")\n",
    "    \n",
    "    if i>= steps  :break\n",
    "        \n",
    "s1 = time.time()\n",
    "\n",
    "print(\"\\nElapsed time: \", time.strftime('%H:%M:%S', time.gmtime(s1 - s0)))"
   ]
  },
  {
   "cell_type": "code",
   "execution_count": null,
   "metadata": {},
   "outputs": [],
   "source": []
  }
 ],
 "metadata": {
  "kernelspec": {
   "display_name": "Python 3",
   "language": "python",
   "name": "python3"
  },
  "language_info": {
   "codemirror_mode": {
    "name": "ipython",
    "version": 3
   },
   "file_extension": ".py",
   "mimetype": "text/x-python",
   "name": "python",
   "nbconvert_exporter": "python",
   "pygments_lexer": "ipython3",
   "version": "3.6.7"
  }
 },
 "nbformat": 4,
 "nbformat_minor": 2
}
