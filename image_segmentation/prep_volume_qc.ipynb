{
 "cells": [
  {
   "cell_type": "code",
   "execution_count": 30,
   "metadata": {},
   "outputs": [],
   "source": [
    "import numpy as np\n",
    "import pandas as pd\n",
    "import matplotlib.pyplot as plt\n",
    "\n",
    "from ipywidgets import interact, interactive, IntSlider"
   ]
  },
  {
   "cell_type": "markdown",
   "metadata": {},
   "source": [
    "## Load 3D cube"
   ]
  },
  {
   "cell_type": "code",
   "execution_count": 15,
   "metadata": {},
   "outputs": [],
   "source": [
    "data_train = np.load('./data/data_train.npz', allow_pickle=True, mmap_mode='r')\n",
    "data_train = data_train['data']\n",
    "\n",
    "label_train = np.load('./data/labels_train.npz', allow_pickle=True, mmap_mode='r')\n",
    "label_train = label_train['labels']\n",
    "\n",
    "#data_test = np.load('./data/data_test_1.npz', allow_pickle=True, mmap_mode='r')\n",
    "#data_test = data_test['data']"
   ]
  },
  {
   "cell_type": "code",
   "execution_count": 16,
   "metadata": {
    "scrolled": true
   },
   "outputs": [
    {
     "name": "stdout",
     "output_type": "stream",
     "text": [
      "data dim: (1006, 782, 590)\n",
      "label dim: (1006, 782, 590)\n"
     ]
    }
   ],
   "source": [
    "# check the data size\n",
    "print(\"data dim: {}\".format(data_train.shape))\n",
    "print(\"label dim: {}\".format(label_train.shape))"
   ]
  },
  {
   "cell_type": "markdown",
   "metadata": {},
   "source": [
    "## Display slices"
   ]
  },
  {
   "cell_type": "code",
   "execution_count": 17,
   "metadata": {},
   "outputs": [],
   "source": [
    "def xsview(data_xs, label_xs):    \n",
    "    fig, (ax1, ax2) = plt.subplots(1, 2,figsize=(15,8))\n",
    "    fig.suptitle('Seismic Image and Label')\n",
    "\n",
    "    im1 = ax1.imshow(data_xs,cmap='Greys')\n",
    "    fig.colorbar(im1, ax=ax1)\n",
    "\n",
    "    ax2.imshow(data_xs,cmap='Greys')\n",
    "    im2 = ax2.imshow(label_xs, cmap='jet', alpha=0.4)\n",
    "    fig.colorbar(im2, ax=ax2)\n",
    "    \n",
    "    plt.show()\n",
    "    \n",
    "def ilview(il):\n",
    "    data_xs = data_train[:,:,il]\n",
    "    label_xs = label_train[:,:,il]\n",
    "    xsview(data_xs, label_xs)\n",
    "    \n",
    "    \n",
    "def xlview(xl):\n",
    "    data_xs = data_train[:,xl,:]\n",
    "    label_xs = label_train[:,xl,:]\n",
    "    xsview(data_xs, label_xs)"
   ]
  },
  {
   "cell_type": "code",
   "execution_count": 18,
   "metadata": {
    "scrolled": false
   },
   "outputs": [
    {
     "data": {
      "application/vnd.jupyter.widget-view+json": {
       "model_id": "273bacbe314a414ba5279671cfc5fa7d",
       "version_major": 2,
       "version_minor": 0
      },
      "text/plain": [
       "interactive(children=(IntSlider(value=0, description='Inline', max=589), Output()), _dom_classes=('widget-inte…"
      ]
     },
     "metadata": {},
     "output_type": "display_data"
    }
   ],
   "source": [
    "interactive(ilview, il=IntSlider(min=0, max=data_train.shape[2]-1, value=0, step=1, description=\"Inline\"))"
   ]
  },
  {
   "cell_type": "code",
   "execution_count": 19,
   "metadata": {
    "scrolled": false
   },
   "outputs": [
    {
     "data": {
      "application/vnd.jupyter.widget-view+json": {
       "model_id": "588117cf3a164f55905faffde1a0ce6b",
       "version_major": 2,
       "version_minor": 0
      },
      "text/plain": [
       "interactive(children=(IntSlider(value=0, description='Xline', max=781), Output()), _dom_classes=('widget-inter…"
      ]
     },
     "metadata": {},
     "output_type": "display_data"
    }
   ],
   "source": [
    "interactive(xlview, xl=IntSlider(min=0, max=data_train.shape[1]-1, value=0, step=1, description=\"Xline\"))"
   ]
  }
 ],
 "metadata": {
  "kernelspec": {
   "display_name": "Python 3",
   "language": "python",
   "name": "python3"
  },
  "language_info": {
   "codemirror_mode": {
    "name": "ipython",
    "version": 3
   },
   "file_extension": ".py",
   "mimetype": "text/x-python",
   "name": "python",
   "nbconvert_exporter": "python",
   "pygments_lexer": "ipython3",
   "version": "3.6.7"
  }
 },
 "nbformat": 4,
 "nbformat_minor": 4
}
